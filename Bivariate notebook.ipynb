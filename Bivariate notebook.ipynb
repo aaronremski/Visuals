{
 "cells": [
  {
   "cell_type": "markdown",
   "id": "07c7d887-5a80-47d3-90cc-becf31f2e64f",
   "metadata": {},
   "source": [
    "## Bivariate Visualizations practice"
   ]
  },
  {
   "cell_type": "code",
   "execution_count": null,
   "id": "4b78a6f2-f1b8-4de6-923f-e4dc8cf82403",
   "metadata": {},
   "outputs": [],
   "source": [
    "import numpy as np\n",
    "import pandas as pd\n",
    "import matplotlib.pyplot as plt\n",
    "import seaborn as sb\n",
    "%matplotlib inline\n",
    "\n",
    "pokemon = pd.read_csv('pokemon.csv')\n",
    "print(pokemon.shape)\n",
    "pokemon.head(10)"
   ]
  }
 ],
 "metadata": {
  "kernelspec": {
   "display_name": "Python 3",
   "language": "python",
   "name": "python3"
  },
  "language_info": {
   "codemirror_mode": {
    "name": "ipython",
    "version": 3
   },
   "file_extension": ".py",
   "mimetype": "text/x-python",
   "name": "python",
   "nbconvert_exporter": "python",
   "pygments_lexer": "ipython3",
   "version": "3.8.8"
  }
 },
 "nbformat": 4,
 "nbformat_minor": 5
}
