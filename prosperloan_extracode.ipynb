{
 "cells": [
  {
   "cell_type": "code",
   "execution_count": null,
   "metadata": {},
   "outputs": [],
   "source": []
  },
  {
   "cell_type": "code",
   "execution_count": null,
   "metadata": {},
   "outputs": [],
   "source": []
  },
  {
   "cell_type": "code",
   "execution_count": null,
   "metadata": {},
   "outputs": [],
   "source": []
  },
  {
   "cell_type": "code",
   "execution_count": null,
   "metadata": {},
   "outputs": [],
   "source": []
  },
  {
   "cell_type": "code",
   "execution_count": null,
   "metadata": {},
   "outputs": [],
   "source": []
  },
  {
   "cell_type": "code",
   "execution_count": null,
   "metadata": {},
   "outputs": [],
   "source": []
  },
  {
   "cell_type": "code",
   "execution_count": null,
   "metadata": {},
   "outputs": [],
   "source": [
    "# Bin resizing, to transform the x-axis    \n",
    "#bin_edges = np.arange(0, sqrt_trans(pokemon['weight'].max())+1, 1)\n",
    "\n",
    "# Plot the scaled data\n",
    "plt.hist(loanDF['ListingCategory (numeric)'], bins=20)\n",
    "\n",
    "# Identify the tick-locations\n",
    "tick_locs = np.arange(0, 21, 1)\n",
    "\n",
    "# Apply x-ticks\n",
    "plt.xticks(tick_locs, [str(x) for x in np.arange(0,21,1)]);"
   ]
  },
  {
   "cell_type": "code",
   "execution_count": null,
   "metadata": {},
   "outputs": [],
   "source": [
    "# Show histogram of Loan Categories\n",
    "\n",
    "g = sb.distplot(loanDF['ListingCategory (numeric)'])\n",
    "g.set(xticks=np.arange(0,21,1));\n",
    "\n",
    "#g.set_xticks([0,1,2,3,4,5,6,7,8,9,10,11,12,13,14,15,16,17,18,19,20])\n",
    "#g.set_xticklabels([str(x) for x in np.arange(0,21,1)]);"
   ]
  },
  {
   "cell_type": "code",
   "execution_count": null,
   "metadata": {},
   "outputs": [],
   "source": [
    "# Create a new figure\n",
    "fig2 = plt.figure()\n",
    "\n",
    "# 1 row, 2 cols, subplot 1\n",
    "#plt.subplot(1,2,1)\n",
    "\n",
    "# The argument of add_axes represents the dimensions [left, bottom, width, height] of the new axes. \n",
    "# All quantities are in fractions of figure width and height.\n",
    "ax5 = fig2.add_axes([0.125, 0.125, 0.775, 0.775], label='6th axes')\n",
    "\n",
    "ax5.hist(data=loanDF, x='ListingCategory (numeric)');\n",
    "\n",
    "ax5.set_xlabel('Listing Categories (numeric)')\n",
    "ax5.set_ylabel('Count')\n",
    "ax5.set(xticks=np.arange(0,21,1));\n",
    "\n",
    "#ax5.set_xticks()"
   ]
  }
 ],
 "metadata": {
  "kernelspec": {
   "display_name": "Python 3",
   "language": "python",
   "name": "python3"
  },
  "language_info": {
   "codemirror_mode": {
    "name": "ipython",
    "version": 3
   },
   "file_extension": ".py",
   "mimetype": "text/x-python",
   "name": "python",
   "nbconvert_exporter": "python",
   "pygments_lexer": "ipython3",
   "version": "3.6.10"
  }
 },
 "nbformat": 4,
 "nbformat_minor": 4
}
