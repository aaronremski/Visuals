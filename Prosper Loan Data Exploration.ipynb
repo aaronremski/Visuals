{
 "cells": [
  {
   "cell_type": "markdown",
   "metadata": {},
   "source": [
    "1. perform facet grid of histograms and/or scatterplots, or..."
   ]
  },
  {
   "cell_type": "markdown",
   "metadata": {
    "tags": []
   },
   "source": [
    "# Data Analysis on bank loans from Prosper\n",
    "## by Aaron Remski\n",
    "\n",
    "> This dataset contains ~114,000 records containing data on bank loans from 2005-2014. It includes 81 variables ranging from the borrower's credit grade to their stated monthly income."
   ]
  },
  {
   "cell_type": "code",
   "execution_count": 1,
   "metadata": {},
   "outputs": [],
   "source": [
    "# import all packages and set plots to be embedded inline\n",
    "import numpy as np\n",
    "import pandas as pd\n",
    "import matplotlib.pyplot as plt\n",
    "import seaborn as sb\n",
    "\n",
    "%matplotlib inline\n",
    "\n",
    "pd.set_option('display.max_columns', 200) # to display all the columns\n",
    "pd.set_option('display.max_rows', 150) # to display all rows of df series\n",
    "pd.options.display.float_format = '{:.4f}'.format # set it to convert scientific notation such \n",
    "# as 4.22510e+11 to 42251000462321.00"
   ]
  },
  {
   "cell_type": "code",
   "execution_count": 2,
   "metadata": {},
   "outputs": [],
   "source": [
    "############################################################################\n",
    "## (Un)Comment out if using a lighter background style in Jupyter\n",
    "plt.style.use(\"dark_background\")"
   ]
  },
  {
   "cell_type": "code",
   "execution_count": 3,
   "metadata": {},
   "outputs": [],
   "source": [
    "# load data into pandas dataframe!\n",
    "loanDF = pd.read_csv(\"prosperLoanData.csv\")"
   ]
  },
  {
   "cell_type": "markdown",
   "metadata": {},
   "source": [
    "## Dataset Overview\n"
   ]
  },
  {
   "cell_type": "code",
   "execution_count": 4,
   "metadata": {},
   "outputs": [
    {
     "data": {
      "text/plain": [
       "(113937, 81)"
      ]
     },
     "execution_count": 4,
     "metadata": {},
     "output_type": "execute_result"
    }
   ],
   "source": [
    "# width & height\n",
    "loanDF.shape"
   ]
  },
  {
   "cell_type": "code",
   "execution_count": 5,
   "metadata": {
    "scrolled": true
   },
   "outputs": [
    {
     "name": "stdout",
     "output_type": "stream",
     "text": [
      "<class 'pandas.core.frame.DataFrame'>\n",
      "RangeIndex: 113937 entries, 0 to 113936\n",
      "Data columns (total 81 columns):\n",
      " #   Column                               Non-Null Count   Dtype  \n",
      "---  ------                               --------------   -----  \n",
      " 0   ListingKey                           113937 non-null  object \n",
      " 1   ListingNumber                        113937 non-null  int64  \n",
      " 2   ListingCreationDate                  113937 non-null  object \n",
      " 3   CreditGrade                          28953 non-null   object \n",
      " 4   Term                                 113937 non-null  int64  \n",
      " 5   LoanStatus                           113937 non-null  object \n",
      " 6   ClosedDate                           55089 non-null   object \n",
      " 7   BorrowerAPR                          113912 non-null  float64\n",
      " 8   BorrowerRate                         113937 non-null  float64\n",
      " 9   LenderYield                          113937 non-null  float64\n",
      " 10  EstimatedEffectiveYield              84853 non-null   float64\n",
      " 11  EstimatedLoss                        84853 non-null   float64\n",
      " 12  EstimatedReturn                      84853 non-null   float64\n",
      " 13  ProsperRating (numeric)              84853 non-null   float64\n",
      " 14  ProsperRating (Alpha)                84853 non-null   object \n",
      " 15  ProsperScore                         84853 non-null   float64\n",
      " 16  ListingCategory (numeric)            113937 non-null  int64  \n",
      " 17  BorrowerState                        108422 non-null  object \n",
      " 18  Occupation                           110349 non-null  object \n",
      " 19  EmploymentStatus                     111682 non-null  object \n",
      " 20  EmploymentStatusDuration             106312 non-null  float64\n",
      " 21  IsBorrowerHomeowner                  113937 non-null  bool   \n",
      " 22  CurrentlyInGroup                     113937 non-null  bool   \n",
      " 23  GroupKey                             13341 non-null   object \n",
      " 24  DateCreditPulled                     113937 non-null  object \n",
      " 25  CreditScoreRangeLower                113346 non-null  float64\n",
      " 26  CreditScoreRangeUpper                113346 non-null  float64\n",
      " 27  FirstRecordedCreditLine              113240 non-null  object \n",
      " 28  CurrentCreditLines                   106333 non-null  float64\n",
      " 29  OpenCreditLines                      106333 non-null  float64\n",
      " 30  TotalCreditLinespast7years           113240 non-null  float64\n",
      " 31  OpenRevolvingAccounts                113937 non-null  int64  \n",
      " 32  OpenRevolvingMonthlyPayment          113937 non-null  float64\n",
      " 33  InquiriesLast6Months                 113240 non-null  float64\n",
      " 34  TotalInquiries                       112778 non-null  float64\n",
      " 35  CurrentDelinquencies                 113240 non-null  float64\n",
      " 36  AmountDelinquent                     106315 non-null  float64\n",
      " 37  DelinquenciesLast7Years              112947 non-null  float64\n",
      " 38  PublicRecordsLast10Years             113240 non-null  float64\n",
      " 39  PublicRecordsLast12Months            106333 non-null  float64\n",
      " 40  RevolvingCreditBalance               106333 non-null  float64\n",
      " 41  BankcardUtilization                  106333 non-null  float64\n",
      " 42  AvailableBankcardCredit              106393 non-null  float64\n",
      " 43  TotalTrades                          106393 non-null  float64\n",
      " 44  TradesNeverDelinquent (percentage)   106393 non-null  float64\n",
      " 45  TradesOpenedLast6Months              106393 non-null  float64\n",
      " 46  DebtToIncomeRatio                    105383 non-null  float64\n",
      " 47  IncomeRange                          113937 non-null  object \n",
      " 48  IncomeVerifiable                     113937 non-null  bool   \n",
      " 49  StatedMonthlyIncome                  113937 non-null  float64\n",
      " 50  LoanKey                              113937 non-null  object \n",
      " 51  TotalProsperLoans                    22085 non-null   float64\n",
      " 52  TotalProsperPaymentsBilled           22085 non-null   float64\n",
      " 53  OnTimeProsperPayments                22085 non-null   float64\n",
      " 54  ProsperPaymentsLessThanOneMonthLate  22085 non-null   float64\n",
      " 55  ProsperPaymentsOneMonthPlusLate      22085 non-null   float64\n",
      " 56  ProsperPrincipalBorrowed             22085 non-null   float64\n",
      " 57  ProsperPrincipalOutstanding          22085 non-null   float64\n",
      " 58  ScorexChangeAtTimeOfListing          18928 non-null   float64\n",
      " 59  LoanCurrentDaysDelinquent            113937 non-null  int64  \n",
      " 60  LoanFirstDefaultedCycleNumber        16952 non-null   float64\n",
      " 61  LoanMonthsSinceOrigination           113937 non-null  int64  \n",
      " 62  LoanNumber                           113937 non-null  int64  \n",
      " 63  LoanOriginalAmount                   113937 non-null  int64  \n",
      " 64  LoanOriginationDate                  113937 non-null  object \n",
      " 65  LoanOriginationQuarter               113937 non-null  object \n",
      " 66  MemberKey                            113937 non-null  object \n",
      " 67  MonthlyLoanPayment                   113937 non-null  float64\n",
      " 68  LP_CustomerPayments                  113937 non-null  float64\n",
      " 69  LP_CustomerPrincipalPayments         113937 non-null  float64\n",
      " 70  LP_InterestandFees                   113937 non-null  float64\n",
      " 71  LP_ServiceFees                       113937 non-null  float64\n",
      " 72  LP_CollectionFees                    113937 non-null  float64\n",
      " 73  LP_GrossPrincipalLoss                113937 non-null  float64\n",
      " 74  LP_NetPrincipalLoss                  113937 non-null  float64\n",
      " 75  LP_NonPrincipalRecoverypayments      113937 non-null  float64\n",
      " 76  PercentFunded                        113937 non-null  float64\n",
      " 77  Recommendations                      113937 non-null  int64  \n",
      " 78  InvestmentFromFriendsCount           113937 non-null  int64  \n",
      " 79  InvestmentFromFriendsAmount          113937 non-null  float64\n",
      " 80  Investors                            113937 non-null  int64  \n",
      "dtypes: bool(3), float64(50), int64(11), object(17)\n",
      "memory usage: 68.1+ MB\n"
     ]
    }
   ],
   "source": [
    "# review loanDF variables & identify features that require additional tidying/cleaning\n",
    "loanDF.info()"
   ]
  },
  {
   "cell_type": "code",
   "execution_count": 6,
   "metadata": {
    "scrolled": true,
    "tags": []
   },
   "outputs": [
    {
     "data": {
      "text/html": [
       "<div>\n",
       "<style scoped>\n",
       "    .dataframe tbody tr th:only-of-type {\n",
       "        vertical-align: middle;\n",
       "    }\n",
       "\n",
       "    .dataframe tbody tr th {\n",
       "        vertical-align: top;\n",
       "    }\n",
       "\n",
       "    .dataframe thead th {\n",
       "        text-align: right;\n",
       "    }\n",
       "</style>\n",
       "<table border=\"1\" class=\"dataframe\">\n",
       "  <thead>\n",
       "    <tr style=\"text-align: right;\">\n",
       "      <th></th>\n",
       "      <th>ListingKey</th>\n",
       "      <th>ListingNumber</th>\n",
       "      <th>ListingCreationDate</th>\n",
       "      <th>CreditGrade</th>\n",
       "      <th>Term</th>\n",
       "      <th>LoanStatus</th>\n",
       "      <th>ClosedDate</th>\n",
       "      <th>BorrowerAPR</th>\n",
       "      <th>BorrowerRate</th>\n",
       "      <th>LenderYield</th>\n",
       "      <th>EstimatedEffectiveYield</th>\n",
       "      <th>EstimatedLoss</th>\n",
       "      <th>EstimatedReturn</th>\n",
       "      <th>ProsperRating (numeric)</th>\n",
       "      <th>ProsperRating (Alpha)</th>\n",
       "      <th>ProsperScore</th>\n",
       "      <th>ListingCategory (numeric)</th>\n",
       "      <th>BorrowerState</th>\n",
       "      <th>Occupation</th>\n",
       "      <th>EmploymentStatus</th>\n",
       "      <th>EmploymentStatusDuration</th>\n",
       "      <th>IsBorrowerHomeowner</th>\n",
       "      <th>CurrentlyInGroup</th>\n",
       "      <th>GroupKey</th>\n",
       "      <th>DateCreditPulled</th>\n",
       "      <th>CreditScoreRangeLower</th>\n",
       "      <th>CreditScoreRangeUpper</th>\n",
       "      <th>FirstRecordedCreditLine</th>\n",
       "      <th>CurrentCreditLines</th>\n",
       "      <th>OpenCreditLines</th>\n",
       "      <th>TotalCreditLinespast7years</th>\n",
       "      <th>OpenRevolvingAccounts</th>\n",
       "      <th>OpenRevolvingMonthlyPayment</th>\n",
       "      <th>InquiriesLast6Months</th>\n",
       "      <th>TotalInquiries</th>\n",
       "      <th>CurrentDelinquencies</th>\n",
       "      <th>AmountDelinquent</th>\n",
       "      <th>DelinquenciesLast7Years</th>\n",
       "      <th>PublicRecordsLast10Years</th>\n",
       "      <th>PublicRecordsLast12Months</th>\n",
       "      <th>RevolvingCreditBalance</th>\n",
       "      <th>BankcardUtilization</th>\n",
       "      <th>AvailableBankcardCredit</th>\n",
       "      <th>TotalTrades</th>\n",
       "      <th>TradesNeverDelinquent (percentage)</th>\n",
       "      <th>TradesOpenedLast6Months</th>\n",
       "      <th>DebtToIncomeRatio</th>\n",
       "      <th>IncomeRange</th>\n",
       "      <th>IncomeVerifiable</th>\n",
       "      <th>StatedMonthlyIncome</th>\n",
       "      <th>LoanKey</th>\n",
       "      <th>TotalProsperLoans</th>\n",
       "      <th>TotalProsperPaymentsBilled</th>\n",
       "      <th>OnTimeProsperPayments</th>\n",
       "      <th>ProsperPaymentsLessThanOneMonthLate</th>\n",
       "      <th>ProsperPaymentsOneMonthPlusLate</th>\n",
       "      <th>ProsperPrincipalBorrowed</th>\n",
       "      <th>ProsperPrincipalOutstanding</th>\n",
       "      <th>ScorexChangeAtTimeOfListing</th>\n",
       "      <th>LoanCurrentDaysDelinquent</th>\n",
       "      <th>LoanFirstDefaultedCycleNumber</th>\n",
       "      <th>LoanMonthsSinceOrigination</th>\n",
       "      <th>LoanNumber</th>\n",
       "      <th>LoanOriginalAmount</th>\n",
       "      <th>LoanOriginationDate</th>\n",
       "      <th>LoanOriginationQuarter</th>\n",
       "      <th>MemberKey</th>\n",
       "      <th>MonthlyLoanPayment</th>\n",
       "      <th>LP_CustomerPayments</th>\n",
       "      <th>LP_CustomerPrincipalPayments</th>\n",
       "      <th>LP_InterestandFees</th>\n",
       "      <th>LP_ServiceFees</th>\n",
       "      <th>LP_CollectionFees</th>\n",
       "      <th>LP_GrossPrincipalLoss</th>\n",
       "      <th>LP_NetPrincipalLoss</th>\n",
       "      <th>LP_NonPrincipalRecoverypayments</th>\n",
       "      <th>PercentFunded</th>\n",
       "      <th>Recommendations</th>\n",
       "      <th>InvestmentFromFriendsCount</th>\n",
       "      <th>InvestmentFromFriendsAmount</th>\n",
       "      <th>Investors</th>\n",
       "    </tr>\n",
       "  </thead>\n",
       "  <tbody>\n",
       "    <tr>\n",
       "      <th>90402</th>\n",
       "      <td>A6F63422764760662092A85</td>\n",
       "      <td>349822</td>\n",
       "      <td>2008-06-13 00:28:44.203000000</td>\n",
       "      <td>C</td>\n",
       "      <td>36</td>\n",
       "      <td>Chargedoff</td>\n",
       "      <td>2009-09-24 00:00:00</td>\n",
       "      <td>0.1818</td>\n",
       "      <td>0.1600</td>\n",
       "      <td>0.1500</td>\n",
       "      <td>NaN</td>\n",
       "      <td>NaN</td>\n",
       "      <td>NaN</td>\n",
       "      <td>NaN</td>\n",
       "      <td>NaN</td>\n",
       "      <td>NaN</td>\n",
       "      <td>2</td>\n",
       "      <td>FL</td>\n",
       "      <td>Waiter/Waitress</td>\n",
       "      <td>Full-time</td>\n",
       "      <td>14.0000</td>\n",
       "      <td>True</td>\n",
       "      <td>False</td>\n",
       "      <td>NaN</td>\n",
       "      <td>2008-05-18 11:39:03.907000000</td>\n",
       "      <td>640.0000</td>\n",
       "      <td>659.0000</td>\n",
       "      <td>2006-05-04 00:00:00</td>\n",
       "      <td>4.0000</td>\n",
       "      <td>4.0000</td>\n",
       "      <td>6.0000</td>\n",
       "      <td>2</td>\n",
       "      <td>36.0000</td>\n",
       "      <td>4.0000</td>\n",
       "      <td>12.0000</td>\n",
       "      <td>0.0000</td>\n",
       "      <td>0.0000</td>\n",
       "      <td>0.0000</td>\n",
       "      <td>0.0000</td>\n",
       "      <td>0.0000</td>\n",
       "      <td>1287.0000</td>\n",
       "      <td>0.9100</td>\n",
       "      <td>157.0000</td>\n",
       "      <td>4.0000</td>\n",
       "      <td>1.0000</td>\n",
       "      <td>0.0000</td>\n",
       "      <td>0.2800</td>\n",
       "      <td>$1-24,999</td>\n",
       "      <td>True</td>\n",
       "      <td>1600.0000</td>\n",
       "      <td>DA713423681789055EC615C</td>\n",
       "      <td>NaN</td>\n",
       "      <td>NaN</td>\n",
       "      <td>NaN</td>\n",
       "      <td>NaN</td>\n",
       "      <td>NaN</td>\n",
       "      <td>NaN</td>\n",
       "      <td>NaN</td>\n",
       "      <td>NaN</td>\n",
       "      <td>1752</td>\n",
       "      <td>15.0000</td>\n",
       "      <td>69</td>\n",
       "      <td>33214</td>\n",
       "      <td>3000</td>\n",
       "      <td>2008-06-23 00:00:00</td>\n",
       "      <td>Q2 2008</td>\n",
       "      <td>CB303420126248989FCFDF5</td>\n",
       "      <td>105.4700</td>\n",
       "      <td>1009.7000</td>\n",
       "      <td>620.6800</td>\n",
       "      <td>389.0200</td>\n",
       "      <td>-23.3800</td>\n",
       "      <td>0.0000</td>\n",
       "      <td>2379.3200</td>\n",
       "      <td>2379.3200</td>\n",
       "      <td>0.0000</td>\n",
       "      <td>1.0000</td>\n",
       "      <td>0</td>\n",
       "      <td>0</td>\n",
       "      <td>0.0000</td>\n",
       "      <td>70</td>\n",
       "    </tr>\n",
       "    <tr>\n",
       "      <th>50931</th>\n",
       "      <td>A6133389813868276DA22DD</td>\n",
       "      <td>141167</td>\n",
       "      <td>2007-05-22 02:04:43.850000000</td>\n",
       "      <td>D</td>\n",
       "      <td>36</td>\n",
       "      <td>Completed</td>\n",
       "      <td>2010-06-11 00:00:00</td>\n",
       "      <td>0.1639</td>\n",
       "      <td>0.1567</td>\n",
       "      <td>0.1417</td>\n",
       "      <td>NaN</td>\n",
       "      <td>NaN</td>\n",
       "      <td>NaN</td>\n",
       "      <td>NaN</td>\n",
       "      <td>NaN</td>\n",
       "      <td>NaN</td>\n",
       "      <td>0</td>\n",
       "      <td>FL</td>\n",
       "      <td>Military Enlisted</td>\n",
       "      <td>Full-time</td>\n",
       "      <td>23.0000</td>\n",
       "      <td>False</td>\n",
       "      <td>True</td>\n",
       "      <td>FEF83377364176536637E50</td>\n",
       "      <td>2007-05-12 11:02:00.700000000</td>\n",
       "      <td>620.0000</td>\n",
       "      <td>639.0000</td>\n",
       "      <td>2000-03-28 00:00:00</td>\n",
       "      <td>16.0000</td>\n",
       "      <td>11.0000</td>\n",
       "      <td>31.0000</td>\n",
       "      <td>9</td>\n",
       "      <td>147.0000</td>\n",
       "      <td>1.0000</td>\n",
       "      <td>5.0000</td>\n",
       "      <td>0.0000</td>\n",
       "      <td>0.0000</td>\n",
       "      <td>12.0000</td>\n",
       "      <td>0.0000</td>\n",
       "      <td>0.0000</td>\n",
       "      <td>3843.0000</td>\n",
       "      <td>0.3100</td>\n",
       "      <td>3086.0000</td>\n",
       "      <td>19.0000</td>\n",
       "      <td>0.7800</td>\n",
       "      <td>2.0000</td>\n",
       "      <td>0.3200</td>\n",
       "      <td>$25,000-49,999</td>\n",
       "      <td>True</td>\n",
       "      <td>2480.0833</td>\n",
       "      <td>4D5C3391498388605449A74</td>\n",
       "      <td>NaN</td>\n",
       "      <td>NaN</td>\n",
       "      <td>NaN</td>\n",
       "      <td>NaN</td>\n",
       "      <td>NaN</td>\n",
       "      <td>NaN</td>\n",
       "      <td>NaN</td>\n",
       "      <td>NaN</td>\n",
       "      <td>0</td>\n",
       "      <td>NaN</td>\n",
       "      <td>82</td>\n",
       "      <td>15478</td>\n",
       "      <td>5000</td>\n",
       "      <td>2007-05-30 00:00:00</td>\n",
       "      <td>Q2 2007</td>\n",
       "      <td>8E4433885742015664B98E5</td>\n",
       "      <td>174.9700</td>\n",
       "      <td>6262.3300</td>\n",
       "      <td>5000.0300</td>\n",
       "      <td>1262.3000</td>\n",
       "      <td>-83.2200</td>\n",
       "      <td>0.0000</td>\n",
       "      <td>0.0000</td>\n",
       "      <td>0.0000</td>\n",
       "      <td>0.0000</td>\n",
       "      <td>1.0000</td>\n",
       "      <td>0</td>\n",
       "      <td>0</td>\n",
       "      <td>0.0000</td>\n",
       "      <td>71</td>\n",
       "    </tr>\n",
       "    <tr>\n",
       "      <th>65253</th>\n",
       "      <td>BB363562215649732EFD56E</td>\n",
       "      <td>670883</td>\n",
       "      <td>2012-11-15 22:11:46.103000000</td>\n",
       "      <td>NaN</td>\n",
       "      <td>36</td>\n",
       "      <td>Current</td>\n",
       "      <td>NaN</td>\n",
       "      <td>0.3580</td>\n",
       "      <td>0.3177</td>\n",
       "      <td>0.3077</td>\n",
       "      <td>0.2799</td>\n",
       "      <td>0.1675</td>\n",
       "      <td>0.1124</td>\n",
       "      <td>1.0000</td>\n",
       "      <td>HR</td>\n",
       "      <td>5.0000</td>\n",
       "      <td>1</td>\n",
       "      <td>NJ</td>\n",
       "      <td>Sales - Retail</td>\n",
       "      <td>Employed</td>\n",
       "      <td>87.0000</td>\n",
       "      <td>False</td>\n",
       "      <td>False</td>\n",
       "      <td>NaN</td>\n",
       "      <td>2012-11-15 22:11:44</td>\n",
       "      <td>660.0000</td>\n",
       "      <td>679.0000</td>\n",
       "      <td>2005-01-17 00:00:00</td>\n",
       "      <td>8.0000</td>\n",
       "      <td>8.0000</td>\n",
       "      <td>9.0000</td>\n",
       "      <td>6</td>\n",
       "      <td>262.0000</td>\n",
       "      <td>1.0000</td>\n",
       "      <td>2.0000</td>\n",
       "      <td>0.0000</td>\n",
       "      <td>0.0000</td>\n",
       "      <td>0.0000</td>\n",
       "      <td>0.0000</td>\n",
       "      <td>0.0000</td>\n",
       "      <td>9052.0000</td>\n",
       "      <td>0.8400</td>\n",
       "      <td>1409.0000</td>\n",
       "      <td>9.0000</td>\n",
       "      <td>1.0000</td>\n",
       "      <td>0.0000</td>\n",
       "      <td>0.3000</td>\n",
       "      <td>$1-24,999</td>\n",
       "      <td>True</td>\n",
       "      <td>1833.3333</td>\n",
       "      <td>0458366938700551956A084</td>\n",
       "      <td>NaN</td>\n",
       "      <td>NaN</td>\n",
       "      <td>NaN</td>\n",
       "      <td>NaN</td>\n",
       "      <td>NaN</td>\n",
       "      <td>NaN</td>\n",
       "      <td>NaN</td>\n",
       "      <td>NaN</td>\n",
       "      <td>0</td>\n",
       "      <td>NaN</td>\n",
       "      <td>15</td>\n",
       "      <td>78970</td>\n",
       "      <td>3937</td>\n",
       "      <td>2012-12-07 00:00:00</td>\n",
       "      <td>Q4 2012</td>\n",
       "      <td>D9F835628391585179BFBCA</td>\n",
       "      <td>170.9800</td>\n",
       "      <td>2393.7200</td>\n",
       "      <td>1110.9500</td>\n",
       "      <td>1282.7700</td>\n",
       "      <td>-40.3700</td>\n",
       "      <td>0.0000</td>\n",
       "      <td>0.0000</td>\n",
       "      <td>0.0000</td>\n",
       "      <td>0.0000</td>\n",
       "      <td>0.9842</td>\n",
       "      <td>0</td>\n",
       "      <td>0</td>\n",
       "      <td>0.0000</td>\n",
       "      <td>63</td>\n",
       "    </tr>\n",
       "    <tr>\n",
       "      <th>4002</th>\n",
       "      <td>673235614434308982AB3AE</td>\n",
       "      <td>657522</td>\n",
       "      <td>2012-10-20 20:34:47.560000000</td>\n",
       "      <td>NaN</td>\n",
       "      <td>36</td>\n",
       "      <td>Current</td>\n",
       "      <td>NaN</td>\n",
       "      <td>0.3404</td>\n",
       "      <td>0.3006</td>\n",
       "      <td>0.2906</td>\n",
       "      <td>0.2643</td>\n",
       "      <td>0.1475</td>\n",
       "      <td>0.1168</td>\n",
       "      <td>2.0000</td>\n",
       "      <td>E</td>\n",
       "      <td>5.0000</td>\n",
       "      <td>1</td>\n",
       "      <td>CA</td>\n",
       "      <td>Clerical</td>\n",
       "      <td>Employed</td>\n",
       "      <td>26.0000</td>\n",
       "      <td>False</td>\n",
       "      <td>False</td>\n",
       "      <td>NaN</td>\n",
       "      <td>2012-10-20 20:34:46</td>\n",
       "      <td>720.0000</td>\n",
       "      <td>739.0000</td>\n",
       "      <td>2008-05-08 00:00:00</td>\n",
       "      <td>4.0000</td>\n",
       "      <td>4.0000</td>\n",
       "      <td>6.0000</td>\n",
       "      <td>3</td>\n",
       "      <td>32.0000</td>\n",
       "      <td>2.0000</td>\n",
       "      <td>4.0000</td>\n",
       "      <td>0.0000</td>\n",
       "      <td>0.0000</td>\n",
       "      <td>0.0000</td>\n",
       "      <td>0.0000</td>\n",
       "      <td>0.0000</td>\n",
       "      <td>231.0000</td>\n",
       "      <td>0.0900</td>\n",
       "      <td>2319.0000</td>\n",
       "      <td>6.0000</td>\n",
       "      <td>1.0000</td>\n",
       "      <td>2.0000</td>\n",
       "      <td>0.2900</td>\n",
       "      <td>$1-24,999</td>\n",
       "      <td>True</td>\n",
       "      <td>1833.3333</td>\n",
       "      <td>BCBC366461669391760B9CF</td>\n",
       "      <td>NaN</td>\n",
       "      <td>NaN</td>\n",
       "      <td>NaN</td>\n",
       "      <td>NaN</td>\n",
       "      <td>NaN</td>\n",
       "      <td>NaN</td>\n",
       "      <td>NaN</td>\n",
       "      <td>NaN</td>\n",
       "      <td>0</td>\n",
       "      <td>NaN</td>\n",
       "      <td>17</td>\n",
       "      <td>76750</td>\n",
       "      <td>4000</td>\n",
       "      <td>2012-10-25 00:00:00</td>\n",
       "      <td>Q4 2012</td>\n",
       "      <td>9B60356197551923365FFBD</td>\n",
       "      <td>169.9400</td>\n",
       "      <td>2719.0400</td>\n",
       "      <td>1348.9200</td>\n",
       "      <td>1370.1200</td>\n",
       "      <td>-45.5900</td>\n",
       "      <td>0.0000</td>\n",
       "      <td>0.0000</td>\n",
       "      <td>0.0000</td>\n",
       "      <td>0.0000</td>\n",
       "      <td>1.0000</td>\n",
       "      <td>0</td>\n",
       "      <td>0</td>\n",
       "      <td>0.0000</td>\n",
       "      <td>66</td>\n",
       "    </tr>\n",
       "  </tbody>\n",
       "</table>\n",
       "</div>"
      ],
      "text/plain": [
       "                    ListingKey  ListingNumber            ListingCreationDate  \\\n",
       "90402  A6F63422764760662092A85         349822  2008-06-13 00:28:44.203000000   \n",
       "50931  A6133389813868276DA22DD         141167  2007-05-22 02:04:43.850000000   \n",
       "65253  BB363562215649732EFD56E         670883  2012-11-15 22:11:46.103000000   \n",
       "4002   673235614434308982AB3AE         657522  2012-10-20 20:34:47.560000000   \n",
       "\n",
       "      CreditGrade  Term  LoanStatus           ClosedDate  BorrowerAPR  \\\n",
       "90402           C    36  Chargedoff  2009-09-24 00:00:00       0.1818   \n",
       "50931           D    36   Completed  2010-06-11 00:00:00       0.1639   \n",
       "65253         NaN    36     Current                  NaN       0.3580   \n",
       "4002          NaN    36     Current                  NaN       0.3404   \n",
       "\n",
       "       BorrowerRate  LenderYield  EstimatedEffectiveYield  EstimatedLoss  \\\n",
       "90402        0.1600       0.1500                      NaN            NaN   \n",
       "50931        0.1567       0.1417                      NaN            NaN   \n",
       "65253        0.3177       0.3077                   0.2799         0.1675   \n",
       "4002         0.3006       0.2906                   0.2643         0.1475   \n",
       "\n",
       "       EstimatedReturn  ProsperRating (numeric) ProsperRating (Alpha)  \\\n",
       "90402              NaN                      NaN                   NaN   \n",
       "50931              NaN                      NaN                   NaN   \n",
       "65253           0.1124                   1.0000                    HR   \n",
       "4002            0.1168                   2.0000                     E   \n",
       "\n",
       "       ProsperScore  ListingCategory (numeric) BorrowerState  \\\n",
       "90402           NaN                          2            FL   \n",
       "50931           NaN                          0            FL   \n",
       "65253        5.0000                          1            NJ   \n",
       "4002         5.0000                          1            CA   \n",
       "\n",
       "              Occupation EmploymentStatus  EmploymentStatusDuration  \\\n",
       "90402    Waiter/Waitress        Full-time                   14.0000   \n",
       "50931  Military Enlisted        Full-time                   23.0000   \n",
       "65253     Sales - Retail         Employed                   87.0000   \n",
       "4002            Clerical         Employed                   26.0000   \n",
       "\n",
       "       IsBorrowerHomeowner  CurrentlyInGroup                 GroupKey  \\\n",
       "90402                 True             False                      NaN   \n",
       "50931                False              True  FEF83377364176536637E50   \n",
       "65253                False             False                      NaN   \n",
       "4002                 False             False                      NaN   \n",
       "\n",
       "                    DateCreditPulled  CreditScoreRangeLower  \\\n",
       "90402  2008-05-18 11:39:03.907000000               640.0000   \n",
       "50931  2007-05-12 11:02:00.700000000               620.0000   \n",
       "65253            2012-11-15 22:11:44               660.0000   \n",
       "4002             2012-10-20 20:34:46               720.0000   \n",
       "\n",
       "       CreditScoreRangeUpper FirstRecordedCreditLine  CurrentCreditLines  \\\n",
       "90402               659.0000     2006-05-04 00:00:00              4.0000   \n",
       "50931               639.0000     2000-03-28 00:00:00             16.0000   \n",
       "65253               679.0000     2005-01-17 00:00:00              8.0000   \n",
       "4002                739.0000     2008-05-08 00:00:00              4.0000   \n",
       "\n",
       "       OpenCreditLines  TotalCreditLinespast7years  OpenRevolvingAccounts  \\\n",
       "90402           4.0000                      6.0000                      2   \n",
       "50931          11.0000                     31.0000                      9   \n",
       "65253           8.0000                      9.0000                      6   \n",
       "4002            4.0000                      6.0000                      3   \n",
       "\n",
       "       OpenRevolvingMonthlyPayment  InquiriesLast6Months  TotalInquiries  \\\n",
       "90402                      36.0000                4.0000         12.0000   \n",
       "50931                     147.0000                1.0000          5.0000   \n",
       "65253                     262.0000                1.0000          2.0000   \n",
       "4002                       32.0000                2.0000          4.0000   \n",
       "\n",
       "       CurrentDelinquencies  AmountDelinquent  DelinquenciesLast7Years  \\\n",
       "90402                0.0000            0.0000                   0.0000   \n",
       "50931                0.0000            0.0000                  12.0000   \n",
       "65253                0.0000            0.0000                   0.0000   \n",
       "4002                 0.0000            0.0000                   0.0000   \n",
       "\n",
       "       PublicRecordsLast10Years  PublicRecordsLast12Months  \\\n",
       "90402                    0.0000                     0.0000   \n",
       "50931                    0.0000                     0.0000   \n",
       "65253                    0.0000                     0.0000   \n",
       "4002                     0.0000                     0.0000   \n",
       "\n",
       "       RevolvingCreditBalance  BankcardUtilization  AvailableBankcardCredit  \\\n",
       "90402               1287.0000               0.9100                 157.0000   \n",
       "50931               3843.0000               0.3100                3086.0000   \n",
       "65253               9052.0000               0.8400                1409.0000   \n",
       "4002                 231.0000               0.0900                2319.0000   \n",
       "\n",
       "       TotalTrades  TradesNeverDelinquent (percentage)  \\\n",
       "90402       4.0000                              1.0000   \n",
       "50931      19.0000                              0.7800   \n",
       "65253       9.0000                              1.0000   \n",
       "4002        6.0000                              1.0000   \n",
       "\n",
       "       TradesOpenedLast6Months  DebtToIncomeRatio     IncomeRange  \\\n",
       "90402                   0.0000             0.2800       $1-24,999   \n",
       "50931                   2.0000             0.3200  $25,000-49,999   \n",
       "65253                   0.0000             0.3000       $1-24,999   \n",
       "4002                    2.0000             0.2900       $1-24,999   \n",
       "\n",
       "       IncomeVerifiable  StatedMonthlyIncome                  LoanKey  \\\n",
       "90402              True            1600.0000  DA713423681789055EC615C   \n",
       "50931              True            2480.0833  4D5C3391498388605449A74   \n",
       "65253              True            1833.3333  0458366938700551956A084   \n",
       "4002               True            1833.3333  BCBC366461669391760B9CF   \n",
       "\n",
       "       TotalProsperLoans  TotalProsperPaymentsBilled  OnTimeProsperPayments  \\\n",
       "90402                NaN                         NaN                    NaN   \n",
       "50931                NaN                         NaN                    NaN   \n",
       "65253                NaN                         NaN                    NaN   \n",
       "4002                 NaN                         NaN                    NaN   \n",
       "\n",
       "       ProsperPaymentsLessThanOneMonthLate  ProsperPaymentsOneMonthPlusLate  \\\n",
       "90402                                  NaN                              NaN   \n",
       "50931                                  NaN                              NaN   \n",
       "65253                                  NaN                              NaN   \n",
       "4002                                   NaN                              NaN   \n",
       "\n",
       "       ProsperPrincipalBorrowed  ProsperPrincipalOutstanding  \\\n",
       "90402                       NaN                          NaN   \n",
       "50931                       NaN                          NaN   \n",
       "65253                       NaN                          NaN   \n",
       "4002                        NaN                          NaN   \n",
       "\n",
       "       ScorexChangeAtTimeOfListing  LoanCurrentDaysDelinquent  \\\n",
       "90402                          NaN                       1752   \n",
       "50931                          NaN                          0   \n",
       "65253                          NaN                          0   \n",
       "4002                           NaN                          0   \n",
       "\n",
       "       LoanFirstDefaultedCycleNumber  LoanMonthsSinceOrigination  LoanNumber  \\\n",
       "90402                        15.0000                          69       33214   \n",
       "50931                            NaN                          82       15478   \n",
       "65253                            NaN                          15       78970   \n",
       "4002                             NaN                          17       76750   \n",
       "\n",
       "       LoanOriginalAmount  LoanOriginationDate LoanOriginationQuarter  \\\n",
       "90402                3000  2008-06-23 00:00:00                Q2 2008   \n",
       "50931                5000  2007-05-30 00:00:00                Q2 2007   \n",
       "65253                3937  2012-12-07 00:00:00                Q4 2012   \n",
       "4002                 4000  2012-10-25 00:00:00                Q4 2012   \n",
       "\n",
       "                     MemberKey  MonthlyLoanPayment  LP_CustomerPayments  \\\n",
       "90402  CB303420126248989FCFDF5            105.4700            1009.7000   \n",
       "50931  8E4433885742015664B98E5            174.9700            6262.3300   \n",
       "65253  D9F835628391585179BFBCA            170.9800            2393.7200   \n",
       "4002   9B60356197551923365FFBD            169.9400            2719.0400   \n",
       "\n",
       "       LP_CustomerPrincipalPayments  LP_InterestandFees  LP_ServiceFees  \\\n",
       "90402                      620.6800            389.0200        -23.3800   \n",
       "50931                     5000.0300           1262.3000        -83.2200   \n",
       "65253                     1110.9500           1282.7700        -40.3700   \n",
       "4002                      1348.9200           1370.1200        -45.5900   \n",
       "\n",
       "       LP_CollectionFees  LP_GrossPrincipalLoss  LP_NetPrincipalLoss  \\\n",
       "90402             0.0000              2379.3200            2379.3200   \n",
       "50931             0.0000                 0.0000               0.0000   \n",
       "65253             0.0000                 0.0000               0.0000   \n",
       "4002              0.0000                 0.0000               0.0000   \n",
       "\n",
       "       LP_NonPrincipalRecoverypayments  PercentFunded  Recommendations  \\\n",
       "90402                           0.0000         1.0000                0   \n",
       "50931                           0.0000         1.0000                0   \n",
       "65253                           0.0000         0.9842                0   \n",
       "4002                            0.0000         1.0000                0   \n",
       "\n",
       "       InvestmentFromFriendsCount  InvestmentFromFriendsAmount  Investors  \n",
       "90402                           0                       0.0000         70  \n",
       "50931                           0                       0.0000         71  \n",
       "65253                           0                       0.0000         63  \n",
       "4002                            0                       0.0000         66  "
      ]
     },
     "execution_count": 6,
     "metadata": {},
     "output_type": "execute_result"
    }
   ],
   "source": [
    "# see sample of data\n",
    "loanDF.sample(4)"
   ]
  },
  {
   "cell_type": "markdown",
   "metadata": {
    "tags": []
   },
   "source": [
    "## Structure of Dataset summarized\n",
    "* ~114,000 records with 81 characteritics on completed, defaulted, current, & other types of bank loans. <br>\n",
    "### Noteable Features\n",
    "IncomeRange, CreditGrade, Term, LoanStatus, CloseDate, BorowerAPR, BorrowerRate,  LenderYield, EstimatedEffectiveYield, EstimatedLoss, EstimatedReturn, ProsperRating (numeric), ProsperRating (Alpha), ProsperScore, ListingCategory (numeric), BorrowerState, Occupation, ExmploymentStatus, ExmploymentStatusDuration, ListingNumber, ListingCreationDate, \n",
    "\n",
    "### Assessing Dataset\n",
    "\n",
    "* Roughly 20 features can be removed to make it easier to manage the data <br>\n",
    "* 4 (features)variables express dates, e.g. ListingCreationDate, ClosedDate, DateCreditPulled, LoanOriginationDate. Convert to datetime type<br>\n",
    "* Several (variables)columns types need to be converted, e.g. CreditGrade, ProsperRating (Alpha), IncomeRange to ordered categorical type<br>\n"
   ]
  },
  {
   "cell_type": "code",
   "execution_count": 7,
   "metadata": {},
   "outputs": [],
   "source": [
    "##################### DELETE THIS CELL? ########################################################\n",
    "# Columns to keep\n",
    "keep = ['ListingNumber','ListingCreationDate','CreditGrade','Term','LoanStatus','CloseDate','BorrowerAPR','BorrowerRate',\n",
    "    'LenderYield','EstimatedEffectiveYield','EstimatedLoss','EstimatedReturn','ProsperRating (numeric)','ProsperRating (Alpha)',\n",
    "    'ProsperScore','ListingCategory (numeric)','BorrowerState','Occupation','ExmploymentStatus','ExmploymentStatusDuration']"
   ]
  },
  {
   "cell_type": "code",
   "execution_count": 8,
   "metadata": {},
   "outputs": [],
   "source": [
    "# Columns to remove\n",
    "remove = ['ListingKey', 'TotalTrades','TradesNeverDelinquent (percentage)', 'LoanKey','TotalProsperLoans','OnTimeProsperPayments','ProsperPaymentsLessThanOneMonthLate','ProsperPrincipalBorrowed',\n",
    "          'ProsperPaymentsOneMonthPlusLate','ProsperPrincipalOutstanding','ScorexChangeAtTimeOfListing','LoanCurrentDaysDelinquent','LoanFirstDefaultedCycleNumber','LoanMonthsSinceOrigination',\n",
    "          'LoanNumber','MemberKey']"
   ]
  },
  {
   "cell_type": "markdown",
   "metadata": {},
   "source": [
    "## Data Cleaning"
   ]
  },
  {
   "cell_type": "markdown",
   "metadata": {},
   "source": [
    "### Remove features that have too much data missing, provide no meaningful purpose, or validity in the present analysis."
   ]
  },
  {
   "cell_type": "code",
   "execution_count": 9,
   "metadata": {},
   "outputs": [
    {
     "data": {
      "text/plain": [
       "Index(['ListingNumber', 'ListingCreationDate', 'CreditGrade', 'Term',\n",
       "       'LoanStatus', 'ClosedDate', 'BorrowerAPR', 'BorrowerRate',\n",
       "       'LenderYield', 'EstimatedEffectiveYield', 'EstimatedLoss',\n",
       "       'EstimatedReturn', 'ProsperRating (numeric)', 'ProsperRating (Alpha)',\n",
       "       'ProsperScore', 'ListingCategory (numeric)', 'BorrowerState',\n",
       "       'Occupation', 'EmploymentStatus', 'EmploymentStatusDuration',\n",
       "       'IsBorrowerHomeowner', 'CurrentlyInGroup', 'GroupKey',\n",
       "       'DateCreditPulled', 'CreditScoreRangeLower', 'CreditScoreRangeUpper',\n",
       "       'FirstRecordedCreditLine', 'CurrentCreditLines', 'OpenCreditLines',\n",
       "       'TotalCreditLinespast7years', 'OpenRevolvingAccounts',\n",
       "       'OpenRevolvingMonthlyPayment', 'InquiriesLast6Months', 'TotalInquiries',\n",
       "       'CurrentDelinquencies', 'AmountDelinquent', 'DelinquenciesLast7Years',\n",
       "       'PublicRecordsLast10Years', 'PublicRecordsLast12Months',\n",
       "       'RevolvingCreditBalance', 'BankcardUtilization',\n",
       "       'AvailableBankcardCredit', 'TradesOpenedLast6Months',\n",
       "       'DebtToIncomeRatio', 'IncomeRange', 'IncomeVerifiable',\n",
       "       'StatedMonthlyIncome', 'TotalProsperPaymentsBilled',\n",
       "       'LoanOriginalAmount', 'LoanOriginationDate', 'LoanOriginationQuarter',\n",
       "       'MonthlyLoanPayment', 'LP_CustomerPayments',\n",
       "       'LP_CustomerPrincipalPayments', 'LP_InterestandFees', 'LP_ServiceFees',\n",
       "       'LP_CollectionFees', 'LP_GrossPrincipalLoss', 'LP_NetPrincipalLoss',\n",
       "       'LP_NonPrincipalRecoverypayments', 'PercentFunded', 'Recommendations',\n",
       "       'InvestmentFromFriendsCount', 'InvestmentFromFriendsAmount',\n",
       "       'Investors'],\n",
       "      dtype='object')"
      ]
     },
     "execution_count": 9,
     "metadata": {},
     "output_type": "execute_result"
    }
   ],
   "source": [
    "# remove columns defined in 'remove' list to work with a roughly smaller dataframe\n",
    "# show/verify remaining columns after removal\n",
    "\n",
    "loanDF = loanDF.drop(remove, axis=1)\n",
    "loanDF.columns"
   ]
  },
  {
   "cell_type": "markdown",
   "metadata": {},
   "source": [
    "### Convert alpha columns into ordered categories"
   ]
  },
  {
   "cell_type": "code",
   "execution_count": 10,
   "metadata": {
    "tags": []
   },
   "outputs": [],
   "source": [
    "# This is where the ordinal_categories will be defined & converted\n",
    "# convert CreditGrade, ProsperRating (Alpha), & IncomeRange to ordinal categorical types\n",
    "# CreditGrade, & ProsperRating (Alpha): order assumed\n",
    "\n",
    "ordinal_dict = {'CreditGrade': ['AA','A','B','C','D','E','HR'],\n",
    "                    'ProsperRating (Alpha)': ['AA','A','B','C','D','E','HR'],\n",
    "                    'IncomeRange': ['$100,000+','$75,000-99,999','$50,000-74,999','$25,000-49,999',\n",
    "                                   '$1-24,999','0','Not employed','Not displayed']}\n",
    "\n",
    "for var in ordinal_dict:\n",
    "    ordered_var = pd.api.types.CategoricalDtype(ordered=True, categories=ordinal_dict[var])\n",
    "    loanDF[var] = loanDF[var].astype(ordered_var)    "
   ]
  },
  {
   "cell_type": "code",
   "execution_count": 11,
   "metadata": {},
   "outputs": [
    {
     "data": {
      "text/plain": [
       "CategoricalDtype(categories=['AA', 'A', 'B', 'C', 'D', 'E', 'HR'], ordered=True)"
      ]
     },
     "execution_count": 11,
     "metadata": {},
     "output_type": "execute_result"
    }
   ],
   "source": [
    "# confirm ordered categorical datatype converted\n",
    "loanDF.CreditGrade.dtype"
   ]
  },
  {
   "cell_type": "code",
   "execution_count": 12,
   "metadata": {},
   "outputs": [
    {
     "data": {
      "text/plain": [
       "CategoricalDtype(categories=['$100,000+', '$75,000-99,999', '$50,000-74,999',\n",
       "                  '$25,000-49,999', '$1-24,999', '0', 'Not employed',\n",
       "                  'Not displayed'],\n",
       ", ordered=True)"
      ]
     },
     "execution_count": 12,
     "metadata": {},
     "output_type": "execute_result"
    }
   ],
   "source": [
    "# confirm IncomeRange dtype converted\n",
    "loanDF.IncomeRange.dtype"
   ]
  },
  {
   "cell_type": "markdown",
   "metadata": {},
   "source": [
    "### Datatime type updates"
   ]
  },
  {
   "cell_type": "code",
   "execution_count": 13,
   "metadata": {},
   "outputs": [],
   "source": [
    "# Convert type of date fields to datetime64[ns]\n",
    "\n",
    "datecols = ['ListingCreationDate','ClosedDate','DateCreditPulled','LoanOriginationDate']\n",
    "\n",
    "for datecol in datecols:\n",
    "    loanDF[datecol] = pd.to_datetime(loanDF[datecol])"
   ]
  },
  {
   "cell_type": "code",
   "execution_count": 14,
   "metadata": {},
   "outputs": [
    {
     "data": {
      "text/plain": [
       "dtype('<M8[ns]')"
      ]
     },
     "execution_count": 14,
     "metadata": {},
     "output_type": "execute_result"
    }
   ],
   "source": [
    "# Verify conversion successful\n",
    "loanDF.ListingCreationDate.dtype"
   ]
  },
  {
   "cell_type": "code",
   "execution_count": 15,
   "metadata": {},
   "outputs": [
    {
     "data": {
      "text/plain": [
       "dtype('<M8[ns]')"
      ]
     },
     "execution_count": 15,
     "metadata": {},
     "output_type": "execute_result"
    }
   ],
   "source": [
    "# Verify conversion successful\n",
    "loanDF.ListingCreationDate.dtype"
   ]
  },
  {
   "cell_type": "markdown",
   "metadata": {},
   "source": [
    "*If LoanOriginationQuarter is used for analysis it will need cleaning. For example \"Q3 2015\" should be \"Q3\", 3 or similar. The year should be removed as it's labelled in the LoanOriginationDATE, therefore, redundant.*"
   ]
  },
  {
   "cell_type": "code",
   "execution_count": 26,
   "metadata": {},
   "outputs": [
    {
     "name": "stdout",
     "output_type": "stream",
     "text": [
      "Earliest Loan Origination Date: 2005-11-15 00:00:00\n",
      "Latest Loan Origination Date: 2014-03-12 00:00:00\n"
     ]
    }
   ],
   "source": [
    "# get timeframe of loans\n",
    "print(\"LoanOriginationDate: \\n\")\n",
    "print(f\"Earliest Loan Origination Date: {loanDF.LoanOriginationDate.min()}\")\n",
    "print(f\"Latest Loan Origination Date: {loanDF.LoanOriginationDate.max()}\\n\\n\")\n",
    "\n",
    "print(\"ClosedDateDate: \\n\")\n",
    "print(f\"Earliest Closed Date: {loanDF.ListingCreationDate.min()}\")\n",
    "print(f\"Latest Closed Date: {loanDF.ListingCreationDate.max()}\\n\\n\")\n",
    "\n",
    "print(\"ClosedDateDate: \\n\")\n",
    "print(f\"Earliest Closed Date: {loanDF.ClosedDate.min()}\")\n",
    "print(f\"Latest Closed Date: {loanDF.ClosedDate.max()}\\n\\n\")\n"
   ]
  },
  {
   "cell_type": "code",
   "execution_count": null,
   "metadata": {},
   "outputs": [],
   "source": []
  },
  {
   "cell_type": "code",
   "execution_count": 16,
   "metadata": {},
   "outputs": [],
   "source": [
    "# pull year out This would normally be delt with let's see if we want to use it.\n",
    "# 'LoanOriginationQuarter'"
   ]
  },
  {
   "cell_type": "markdown",
   "metadata": {},
   "source": [
    "# This analysis will explore:\n",
    "1. What are some common characteristics of 'successful' (completed) vs 'failed' (defaulted & chargedoff) loans?\n",
    "2. Are there any surprising characteristics of 'successful' loans?\n",
    "3. Do some of the expected/obvious value relationships check out? \n",
    "    a. higher creditscores correlate with lower interest rates\n",
    "    b. high credit scores have higher rate of completion(repayment)\n",
    "    c. low debt to income ratio correlates to higher IncomeRange\n",
    "\n",
    "4. What are common characteristics of borrowers who have high interest rate, or default, or certain occupation?\n",
    "\n",
    "## Features in the dataset that will help support the investigation\n",
    "1. LoanStatus, "
   ]
  },
  {
   "cell_type": "markdown",
   "metadata": {
    "tags": []
   },
   "source": [
    "### END of Data Wrangling\n",
    "# \n",
    "### START of Analysis"
   ]
  },
  {
   "cell_type": "markdown",
   "metadata": {},
   "source": [
    "## Demographics"
   ]
  },
  {
   "cell_type": "code",
   "execution_count": 17,
   "metadata": {},
   "outputs": [
    {
     "data": {
      "text/plain": [
       "BorrowerState\n",
       "ND   3280.0176\n",
       "ME   3635.3201\n",
       "IA   3714.3970\n",
       "ID   4182.1052\n",
       "MT   4235.0467\n",
       "SD   4323.2474\n",
       "MO   4710.8768\n",
       "UT   4747.7601\n",
       "AL   4759.9057\n",
       "NE   4796.5701\n",
       "VT   4817.7391\n",
       "AR   4851.8905\n",
       "MN   4912.8956\n",
       "WI   4920.9123\n",
       "MS   4923.6269\n",
       "KY   4929.3883\n",
       "OK   4931.0186\n",
       "MI   4932.1911\n",
       "OH   4964.9273\n",
       "WV   4971.7393\n",
       "TN   5051.2118\n",
       "IN   5094.8761\n",
       "KS   5148.6777\n",
       "SC   5230.9363\n",
       "LA   5274.8769\n",
       "WY   5300.4783\n",
       "AZ   5347.0317\n",
       "WA   5379.5497\n",
       "FL   5399.2163\n",
       "PA   5415.8423\n",
       "NC   5425.2826\n",
       "GA   5460.7836\n",
       "RI   5533.7772\n",
       "NM   5545.5960\n",
       "NV   5589.2041\n",
       "IL   5590.8203\n",
       "CO   5647.5356\n",
       "OR   5662.2855\n",
       "DE   5754.2633\n",
       "NH   5855.3560\n",
       "AK   5880.6175\n",
       "TX   6134.4729\n",
       "CA   6184.8292\n",
       "MA   6190.1895\n",
       "HI   6221.8798\n",
       "NY   6225.8809\n",
       "VA   6508.5743\n",
       "MD   6516.0321\n",
       "NJ   6807.0200\n",
       "DC   6822.2520\n",
       "CT   7394.6969\n",
       "Name: StatedMonthlyIncome, dtype: float64"
      ]
     },
     "execution_count": 17,
     "metadata": {},
     "output_type": "execute_result"
    }
   ],
   "source": [
    "loanDF.groupby('BorrowerState')['StatedMonthlyIncome'].mean().sort_values()"
   ]
  },
  {
   "cell_type": "code",
   "execution_count": 18,
   "metadata": {},
   "outputs": [
    {
     "data": {
      "text/plain": [
       "$25,000-49,999    32192\n",
       "$50,000-74,999    31050\n",
       "$100,000+         17337\n",
       "$75,000-99,999    16916\n",
       "Not displayed      7741\n",
       "$1-24,999          7274\n",
       "Not employed        806\n",
       "0                     0\n",
       "Name: IncomeRange, dtype: int64"
      ]
     },
     "execution_count": 18,
     "metadata": {},
     "output_type": "execute_result"
    }
   ],
   "source": [
    "# Review IncomeRange for all loans - numerically\n",
    "loanDF['IncomeRange'].value_counts()"
   ]
  },
  {
   "cell_type": "code",
   "execution_count": 19,
   "metadata": {},
   "outputs": [
    {
     "data": {
      "image/png": "[encoded data removed]",
      "text/plain": [
       "<Figure size 360x360 with 1 Axes>"
      ]
     },
     "metadata": {},
     "output_type": "display_data"
    }
   ],
   "source": [
    "# see distribution of data on IncomeRange\n",
    "sb.displot(data=loanDF, x='IncomeRange')\n",
    "plt.xticks(rotation=75);"
   ]
  },
  {
   "cell_type": "markdown",
   "metadata": {},
   "source": [
    "## Histogram Analysis - IncomeRange\n",
    "* Roughly the same number of loans represented for IncomeRange 100k+ and 75k-100k, 17k records\n",
    "* Roughly the same number of loans represented for IncomeRange 50k-75k and 25k-50k, 32k records\n",
    "* Additional visuals will be using IncomeRange below\n"
   ]
  },
  {
   "cell_type": "code",
   "execution_count": 20,
   "metadata": {},
   "outputs": [
    {
     "data": {
      "text/plain": [
       "4166.6667     3526\n",
       "5000.0000     3389\n",
       "3333.3333     2917\n",
       "3750.0000     2428\n",
       "5416.6667     2374\n",
       "              ... \n",
       "7069.9167        1\n",
       "4266.3333        1\n",
       "2211.7500        1\n",
       "7032.9167        1\n",
       "18756.0000       1\n",
       "Name: StatedMonthlyIncome, Length: 13502, dtype: int64"
      ]
     },
     "execution_count": 20,
     "metadata": {},
     "output_type": "execute_result"
    }
   ],
   "source": [
    "loanDF['StatedMonthlyIncome'].value_counts()"
   ]
  },
  {
   "cell_type": "code",
   "execution_count": 21,
   "metadata": {},
   "outputs": [
    {
     "data": {
      "text/plain": [
       "count    113937.0000\n",
       "mean       5608.0256\n",
       "std        7478.4973\n",
       "min           0.0000\n",
       "25%        3200.3333\n",
       "50%        4666.6667\n",
       "75%        6825.0000\n",
       "max     1750002.9167\n",
       "Name: StatedMonthlyIncome, dtype: float64"
      ]
     },
     "execution_count": 21,
     "metadata": {},
     "output_type": "execute_result"
    }
   ],
   "source": [
    "loanDF['StatedMonthlyIncome'].describe()"
   ]
  },
  {
   "cell_type": "code",
   "execution_count": 22,
   "metadata": {
    "scrolled": true,
    "tags": []
   },
   "outputs": [
    {
     "data": {
      "text/plain": [
       "154"
      ]
     },
     "execution_count": 22,
     "metadata": {},
     "output_type": "execute_result"
    }
   ],
   "source": [
    "# HOw many records represent person's claiming to earn $40,000/month+\n",
    "loanDF[loanDF.StatedMonthlyIncome >= 40000]['ListingNumber'].count()"
   ]
  },
  {
   "cell_type": "code",
   "execution_count": 23,
   "metadata": {},
   "outputs": [
    {
     "data": {
      "text/plain": [
       "Text(0.5, 0, 'Stated Monthly Income')"
      ]
     },
     "execution_count": 23,
     "metadata": {},
     "output_type": "execute_result"
    },
    {
     "data": {
      "image/png": "[encoded data removed]",
      "text/plain": [
       "<Figure size 720x576 with 1 Axes>"
      ]
     },
     "metadata": {},
     "output_type": "display_data"
    }
   ],
   "source": [
    "bins = np.arange(min(loanDF['StatedMonthlyIncome']), max(loanDF['StatedMonthlyIncome']), 10000)\n",
    "plt.figure(figsize=[10,8])\n",
    "\n",
    "plt.ticklabel_format(axis='both', style='plain')\n",
    "plt.hist(data=loanDF, x='StatedMonthlyIncome', bins=10000)\n",
    "#plt.xlim([0,60000])\n",
    "plt.xlabel('Stated Monthly Income')"
   ]
  },
  {
   "cell_type": "markdown",
   "metadata": {},
   "source": [
    "## Histogram Analysis - StatedMonthlyIncome\n",
    "* The histogram of 'StatedMonthlyIncome' has some significant outliers. This analysis will focus on bank loans by individuals with limited incomes <= $30,000/month = $390,000/yr"
   ]
  },
  {
   "cell_type": "code",
   "execution_count": 24,
   "metadata": {},
   "outputs": [
    {
     "ename": "NameError",
     "evalue": "name 'high_outliers' is not defined",
     "output_type": "error",
     "traceback": [
      "\u001b[1;31m---------------------------------------------------------------------------\u001b[0m",
      "\u001b[1;31mNameError\u001b[0m                                 Traceback (most recent call last)",
      "\u001b[1;32m~\\AppData\\Local\\Temp/ipykernel_7888/2495676277.py\u001b[0m in \u001b[0;36m<module>\u001b[1;34m\u001b[0m\n\u001b[0;32m      1\u001b[0m \u001b[0mhigh_outliersTF\u001b[0m \u001b[1;33m=\u001b[0m \u001b[1;33m(\u001b[0m\u001b[0mloanDF\u001b[0m\u001b[1;33m[\u001b[0m\u001b[1;34m'StatedMonthlyIncome'\u001b[0m\u001b[1;33m]\u001b[0m \u001b[1;33m>\u001b[0m \u001b[1;36m30000\u001b[0m\u001b[1;33m)\u001b[0m\u001b[1;33m\u001b[0m\u001b[1;33m\u001b[0m\u001b[0m\n\u001b[1;32m----> 2\u001b[1;33m \u001b[0mprint\u001b[0m\u001b[1;33m(\u001b[0m\u001b[0mhigh_outliers\u001b[0m\u001b[1;33m.\u001b[0m\u001b[0msum\u001b[0m\u001b[1;33m(\u001b[0m\u001b[1;33m)\u001b[0m\u001b[1;33m)\u001b[0m\u001b[1;33m\u001b[0m\u001b[1;33m\u001b[0m\u001b[0m\n\u001b[0m\u001b[0;32m      3\u001b[0m \u001b[0mhigh_outliers\u001b[0m \u001b[1;33m=\u001b[0m \u001b[0mloanDF\u001b[0m\u001b[1;33m.\u001b[0m\u001b[0mloc\u001b[0m\u001b[1;33m[\u001b[0m\u001b[0mhigh_outliersTF\u001b[0m\u001b[1;33m,\u001b[0m\u001b[1;33m:\u001b[0m\u001b[1;33m]\u001b[0m\u001b[1;33m\u001b[0m\u001b[1;33m\u001b[0m\u001b[0m\n\u001b[0;32m      4\u001b[0m \u001b[0mhigh_outliers\u001b[0m\u001b[1;33m.\u001b[0m\u001b[0mOccupation\u001b[0m\u001b[1;33m.\u001b[0m\u001b[0mvalue_counts\u001b[0m\u001b[1;33m(\u001b[0m\u001b[1;33m)\u001b[0m\u001b[1;33m\u001b[0m\u001b[1;33m\u001b[0m\u001b[0m\n",
      "\u001b[1;31mNameError\u001b[0m: name 'high_outliers' is not defined"
     ]
    }
   ],
   "source": [
    "high_outliersTF = (loanDF['StatedMonthlyIncome'] > 30000)\n",
    "print(high_outliers.sum())\n",
    "high_outliers = loanDF.loc[high_outliersTF,:]\n",
    "high_outliers.Occupation.value_counts()"
   ]
  },
  {
   "cell_type": "code",
   "execution_count": null,
   "metadata": {},
   "outputs": [],
   "source": [
    "bins = np.arange(min(loanDF['StatedMonthlyIncome']), max(loanDF['StatedMonthlyIncome']), 10000)\n",
    "plt.figure(figsize=[10,8])\n",
    "\n",
    "plt.ticklabel_format(axis='both', style='plain')\n",
    "plt.hist(data=loanDF, x='StatedMonthlyIncome', bins=10000)\n",
    "plt.xlim([0,35000])\n",
    "plt.xlabel('Stated Monthly Income')"
   ]
  },
  {
   "cell_type": "code",
   "execution_count": null,
   "metadata": {},
   "outputs": [],
   "source": [
    "sb.displot(data=loanDF, x=\"DebtToIncomeRatio\")\n",
    "plt.xlim([0,1.25])"
   ]
  },
  {
   "cell_type": "code",
   "execution_count": null,
   "metadata": {},
   "outputs": [],
   "source": [
    "loanDF['ProsperRating (Alpha)'].value_counts()"
   ]
  },
  {
   "cell_type": "code",
   "execution_count": null,
   "metadata": {},
   "outputs": [],
   "source": [
    "sb.displot(data=loanDF, x='ProsperRating (Alpha)');"
   ]
  },
  {
   "cell_type": "markdown",
   "metadata": {},
   "source": [
    "## Histogram Analysis - ProsperRating (Alpha)\n",
    "\n",
    "* Follows a normal distribution curve where 'C' represents the median (roughly)\n"
   ]
  },
  {
   "cell_type": "code",
   "execution_count": null,
   "metadata": {},
   "outputs": [],
   "source": [
    "# reveal number of records according to their LoanStatus\n",
    "loanDF.LoanStatus.value_counts()"
   ]
  },
  {
   "cell_type": "code",
   "execution_count": null,
   "metadata": {},
   "outputs": [],
   "source": [
    "# Visualize LoanStatus distribution\n",
    "\n",
    "fig = plt.figure(figsize=[15,8])\n",
    "ax = fig.add_axes([0.125, 0.125, 0.775, 0.775])\n",
    "ax.tick_params(axis='x', rotation=60)\n",
    "sb.countplot(data=loanDF, x='LoanStatus', color=sb.color_palette()[3], order=loanDF.LoanStatus.value_counts().index);"
   ]
  },
  {
   "cell_type": "markdown",
   "metadata": {
    "tags": []
   },
   "source": [
    "## Countplot analysis - LoanStatus\n",
    "> As expected the majority of the bank loans are either current(good standing) or completed. However there is a healthy no. of ChargedOffs & Defaulted loans.<br/>\n",
    "> I would like further analysis of ChargedOff & Defaulted "
   ]
  },
  {
   "cell_type": "code",
   "execution_count": null,
   "metadata": {},
   "outputs": [],
   "source": [
    "loanDF3 = loanDF.copy()"
   ]
  },
  {
   "cell_type": "code",
   "execution_count": null,
   "metadata": {},
   "outputs": [],
   "source": [
    "# THIS IS NOT WORKING AS INTENTED\n",
    "#loanDF3.drop(loanDF3.query('LoanStatus == \"Completed\" and LoanStatus == \"Current\"').index, inplace=True)\n",
    "#loanDF3.sample(15)"
   ]
  },
  {
   "cell_type": "code",
   "execution_count": null,
   "metadata": {},
   "outputs": [],
   "source": [
    "''' Columns with small amount of data\n",
    "EstimatedEffectiveYield\n",
    "EstimatedLoss          \n",
    "EstimatedReturn        \n",
    "ProsperRating (numeric)\n",
    "ProsperRating (Alpha)  \n",
    "ProsperScore           \n",
    "'''"
   ]
  },
  {
   "cell_type": "code",
   "execution_count": null,
   "metadata": {},
   "outputs": [],
   "source": [
    "plt.figure(figsize=[15,8])\n",
    "#fig, (ax1, ax2) = plt.subplots(nrows=1, ncols=2, figsize=(9, 4), sharey=True)\n",
    "plt.subplot(1,2,1)\n",
    "#plt.set_title(\"All loans\")\n",
    "plt.xlabel('Loan Amount')\n",
    "plt.ylabel('Count')\n",
    "plt.hist(data=loanDF3, x='LoanOriginalAmount', bins=30, color=sb.color_palette()[2]);\n",
    "\n",
    "plt.subplot(1,2,2)\n",
    "#plt.set_title(\"Loans <= $5000\")\n",
    "plt.xlabel('Loan Amount (zoom to <$10,000)')\n",
    "plt.hist(data=loanDF3, x='LoanOriginalAmount', bins=90, color=sb.color_palette()[3]);\n",
    "plt.xlim(0,10000);\n"
   ]
  },
  {
   "cell_type": "markdown",
   "metadata": {
    "tags": []
   },
   "source": [
    "## Histogram analysis - LoanAmount\n",
    "* `$`4000 loan is the most prevalent loan amount. Additionally, loan amounts fall in `$`5,000 increments with the highest loans no greater than `$`35,000<br>\n",
    "* There is a right-skew.<br>\n",
    "* Nearly half of all Prosper loans are < $5000. What distinguishes these loans from the others?\n",
    "* Investigate the `$`4000 loans<br>\n"
   ]
  },
  {
   "cell_type": "code",
   "execution_count": null,
   "metadata": {},
   "outputs": [],
   "source": [
    "Completed = loanDF.loc[loanDF['LoanStatus'] == 'Completed']\n",
    "Current =  loanDF.loc[loanDF['LoanStatus'] == 'Current']\n",
    "completed_current = pd.concat([Completed, Current])\n",
    "completed_current.sample(5)"
   ]
  },
  {
   "cell_type": "code",
   "execution_count": null,
   "metadata": {},
   "outputs": [],
   "source": [
    "# Get all bad loans into new DF\n",
    "Defaulted = loanDF.loc[loanDF['LoanStatus'] == 'Defaulted']\n",
    "Chargedoff =  loanDF.loc[loanDF['LoanStatus'] == 'Chargedoff']\n",
    "defaulted_chargedoff = pd.concat([Defaulted, Chargedoff])\n",
    "defaulted_chargedoff.sample(3)"
   ]
  },
  {
   "cell_type": "code",
   "execution_count": null,
   "metadata": {},
   "outputs": [],
   "source": [
    "defaulted_chargedoff.LoanOriginalAmount.sum()"
   ]
  },
  {
   "cell_type": "markdown",
   "metadata": {},
   "source": [
    "#### $110,000,000 in bad loans. "
   ]
  },
  {
   "cell_type": "code",
   "execution_count": null,
   "metadata": {},
   "outputs": [],
   "source": [
    "(110000000 / 950000000) * 100"
   ]
  },
  {
   "cell_type": "markdown",
   "metadata": {},
   "source": [
    "#### 11.6% of the bank loans represented in this dataset are defaulted or chargedoff."
   ]
  },
  {
   "cell_type": "code",
   "execution_count": null,
   "metadata": {
    "tags": []
   },
   "outputs": [],
   "source": [
    "# Quick look at the distribution between 'defaulted' & 'Chargedoff' loans in new DF\n",
    "ax = plt.figure(figsize=[10,8])\n",
    "#ax.set_title('Defaulted vs. Chargedoff Loans')\n",
    "plt.xlabel('Loan Status')\n",
    "plt.ylabel('Count')\n",
    "#ax.set_title('BLABLABLA')\n",
    "graph = sb.countplot(data=defaulted_chargedoff, x='LoanStatus', color=sb.color_palette()[4])\n",
    "graph.set_title(\"Defaulted Loan count vs. Chargedoff Loans\")"
   ]
  },
  {
   "cell_type": "code",
   "execution_count": null,
   "metadata": {},
   "outputs": [],
   "source": [
    "\n",
    "\n",
    "print(f\"Total # of Completed Loans: {Completed.ListingNumber.count()}\\nCompleted Loans mean interest rate: {Completed.BorrowerRate.mean()}\")\n",
    "print(f\"Total # of Failed Loans: {defaulted_chargedoff.ListingNumber.count()}\\nFailed Loans mean interest rate: {defaulted_chargedoff.BorrowerRate.mean()}\")\n"
   ]
  },
  {
   "cell_type": "code",
   "execution_count": null,
   "metadata": {},
   "outputs": [],
   "source": [
    "high_interest = loanDF['BorrowerRate'] > 0.25\n",
    "print(high_interest.sum())\n",
    "high_interest_rate = loanDF.loc[loanDF['BorrowerRate'] > 0.25]\n",
    "#high_interest_rate.sum()\n",
    "                            "
   ]
  },
  {
   "cell_type": "code",
   "execution_count": null,
   "metadata": {},
   "outputs": [],
   "source": []
  },
  {
   "cell_type": "code",
   "execution_count": null,
   "metadata": {},
   "outputs": [],
   "source": [
    "# Compare BorrowerRate's between the Completed loans & the Defaulted & ChargedOff\n",
    "# would like to stack these but I don't want to single out the \"completed\" & \"failed\"\n",
    "fig, ax = plt.subplots(1,2, figsize = (20,10))\n",
    "fig.suptitle(\"Compare BorrowerRates for Completed Loans vs. Failed Loans\")\n",
    "\n",
    "style = dict(size=16, color='black', backgroundcolor=sb.color_palette()[4])\n",
    "\n",
    "completed_mean = \"Mean BorrowerRate:\\n\" + str(round(Completed.BorrowerRate.mean(),3))\n",
    "\n",
    "ax[0].set_title(\"Completed Loans BorrowerRates\")\n",
    "ax[0].text(0.3,3305,completed_mean, **style)\n",
    "#ax[1].annotate(str(Completed.BorrowerRate.mean()),(0.05,3250))\n",
    "sb.histplot(data=Completed, x='BorrowerRate', bins=30, color=sb.color_palette()[2], ax=ax[0]);\n",
    "\n",
    "failed_mean = \"Mean BorrowerRate:\\n\" + str(round(defaulted_chargedoff.BorrowerRate.mean(),3))\n",
    "\n",
    "ax[1].set_title(\"Failed Loans BorrowerRates\")\n",
    "ax[1].text(0,1600,failed_mean, **style)\n",
    "#plt.text(3+0.2, 4.5, \"An annotation\", horizontalalignment='left', size='medium', color='white')\n",
    "boxf = sb.histplot(data=defaulted_chargedoff, x='BorrowerRate', bins=30, color=sb.color_palette()[1], ax=ax[1]);"
   ]
  },
  {
   "cell_type": "markdown",
   "metadata": {},
   "source": [
    "## Bivariate - BorrowRate & LoanStatus\n",
    "## Histogram Analysis - BorrowerRate\n",
    "Comparing the BorrowerRate distribution (& mean) for Failed Loans vs. Completed Loans. \n",
    "\n",
    "* There are double the number of completed loans to the number of failed loans. This is a much higher ratio than I would have guessed.\n",
    "* As one might expect, the completed loans interest rates are lower vs. the failed loans\n",
    "* There was nothing surprising that came from this visualization\n"
   ]
  },
  {
   "cell_type": "code",
   "execution_count": null,
   "metadata": {},
   "outputs": [],
   "source": [
    "Completed.ListingNumber.count()"
   ]
  },
  {
   "cell_type": "code",
   "execution_count": null,
   "metadata": {},
   "outputs": [],
   "source": [
    "defaulted_chargedoff.ListingNumber.count()"
   ]
  },
  {
   "cell_type": "code",
   "execution_count": null,
   "metadata": {},
   "outputs": [],
   "source": [
    "# get all records that match the query\n",
    "past3160 = loanDF.query(\"LoanStatus == 'Past Due (31-60 days)'\")\n",
    "past6190 = loanDF.query(\"LoanStatus == 'Past Due (61-90 days)'\")\n",
    "past91120 = loanDF.loc[loanDF.LoanStatus == 'Past Due (91-120 days)']\n",
    "past120 = loanDF.query(\"LoanStatus == 'Past Due (>120 days)'\")\n",
    "\n",
    "defaulted = loanDF.query(\"LoanStatus == 'Defaulted'\")\n",
    "\n",
    "all_past = pd.concat([past3160, past6190, past91120, past120])\n"
   ]
  },
  {
   "cell_type": "code",
   "execution_count": null,
   "metadata": {},
   "outputs": [],
   "source": [
    "all_past.sample(3)"
   ]
  },
  {
   "cell_type": "code",
   "execution_count": null,
   "metadata": {
    "scrolled": true
   },
   "outputs": [],
   "source": [
    "all_past.LoanOriginalAmount.sum()"
   ]
  },
  {
   "cell_type": "markdown",
   "metadata": {},
   "source": [
    "#### $8,000,000 in Past Due loans"
   ]
  },
  {
   "cell_type": "code",
   "execution_count": null,
   "metadata": {},
   "outputs": [],
   "source": [
    "# plot distribution of LoanStatus where loanstatus == past due\n",
    "\n",
    "plt.hist(data=all_past, x='LoanStatus')\n",
    "plt.xticks(rotation=65)"
   ]
  },
  {
   "cell_type": "markdown",
   "metadata": {},
   "source": [
    "## Histogram Analysis - Past Due\n",
    "\n",
    "* There are roughly 1000 loans that are in a \"past due\" LoanStatus totalling $8,000,000 in loans\n",
    "* There are no \"CreditGrade\" values for all entries with \"past due\" in LoanStatus\n"
   ]
  },
  {
   "cell_type": "code",
   "execution_count": null,
   "metadata": {
    "scrolled": true
   },
   "outputs": [],
   "source": [
    "loanDF.CreditGrade.value_counts()"
   ]
  },
  {
   "cell_type": "code",
   "execution_count": null,
   "metadata": {},
   "outputs": [],
   "source": [
    "sb.displot(data=loanDF, x=\"CreditGrade\")"
   ]
  },
  {
   "cell_type": "markdown",
   "metadata": {},
   "source": [
    "## Histogram Analysis - Credit Grade\n",
    "\n",
    "* Plotting a histogram of the CreditGrades indicates a normal distribution of CreditGrades across the spectrum of grades. "
   ]
  },
  {
   "cell_type": "code",
   "execution_count": null,
   "metadata": {
    "scrolled": true
   },
   "outputs": [],
   "source": [
    "loanDF3.query(\"LoanOriginalAmount <= 5000\")['LoanOriginalAmount'].describe()"
   ]
  },
  {
   "cell_type": "code",
   "execution_count": null,
   "metadata": {
    "scrolled": true
   },
   "outputs": [],
   "source": [
    "# loans5000.CreditGrade.value_counts()\n",
    "loanDF3.query(\"LoanOriginalAmount <= 5000\")['CreditGrade'].value_counts()"
   ]
  },
  {
   "cell_type": "code",
   "execution_count": null,
   "metadata": {},
   "outputs": [],
   "source": [
    "#sb.displot(data=loans5000, x='CreditGrade')\n",
    "plt.figure(figsize=[15,8])\n",
    "plt.subplot(1,2,1)\n",
    "\n",
    "#plt.xlabel('CreditGrade for Loans <= $5000')\n",
    "graph2 = sb.countplot(data=(loanDF3.query(\"LoanOriginalAmount <= 5000\")), x='CreditGrade', color=sb.color_palette()[4])\n",
    "graph2.set(title=\"Credit Grades for Loans <= $5000\")\n",
    "plt.xlabel(\"Credit Grade\")\n",
    "plt.ylim(0,4000)\n",
    "\n",
    "plt.subplot(1,2,2)\n",
    "#plt.xtitle('CreditGrade for Loans <= $5000')\n",
    "graph = sb.countplot(data=(loanDF3.query(\"LoanOriginalAmount > 5000\")), x='CreditGrade',  color=sb.color_palette()[5]);\n",
    "graph.set(title=\"Credit Grades for Loans > $5000\")\n",
    "plt.xlabel(\"Credit Grade\")\n",
    "#sb.displot(data=loans5000, x='CreditGrade');\n",
    "plt.ylim(0,4000);\n",
    "\n",
    "#graph.set_title(\"Credit Grade Distribution\\n Loans > 5000 & Loans <= 5000\")"
   ]
  },
  {
   "cell_type": "markdown",
   "metadata": {
    "tags": []
   },
   "source": [
    "## Bivariate Analysis\n",
    "### What is the CreditGrade distribution for loans less than 5000 and for loans greater than 5000\n",
    "* 45% of the loans are <= $5000 where the borrowers CreditGrade is predominately C or below!\n",
    "* The creditgrades for loans <= 5000 are considerably lower than those that are > 5000<br>"
   ]
  },
  {
   "cell_type": "code",
   "execution_count": null,
   "metadata": {},
   "outputs": [],
   "source": [
    "loanDF3.LoanOriginalAmount.sum()"
   ]
  },
  {
   "cell_type": "markdown",
   "metadata": {},
   "source": [
    "#### $950,000,000 ALL loans summation"
   ]
  },
  {
   "cell_type": "code",
   "execution_count": null,
   "metadata": {
    "scrolled": true
   },
   "outputs": [],
   "source": [
    "# Total the Loan Original Amount for all Completed & Current loans \n",
    "completed_current['LoanOriginalAmount'].sum()"
   ]
  },
  {
   "cell_type": "markdown",
   "metadata": {},
   "source": [
    "#### $820,000,000 Current or Completed loans summation"
   ]
  },
  {
   "cell_type": "code",
   "execution_count": null,
   "metadata": {},
   "outputs": [],
   "source": [
    "loanDF.groupby('CreditGrade')['LoanOriginalAmount'].mean()"
   ]
  },
  {
   "cell_type": "code",
   "execution_count": null,
   "metadata": {},
   "outputs": [],
   "source": [
    "\n",
    "sb.displot(data=loanDF, x='LoanOriginalAmount', col=\"CreditGrade\", height=7, aspect=.75, col_wrap=3)\n",
    "\n",
    "#axes = axes.flatten()\n",
    "#print(axes)"
   ]
  },
  {
   "cell_type": "markdown",
   "metadata": {},
   "source": [
    "## Faceted Histogram Analysis\n",
    "\n",
    "* One can see that loans for people with CreditGrades that are low, are restricted to loans with smaller amounts\n",
    "* One can see that loans for people with CreditGrades that are high, have a more evenly distributed LoanAmount range. As the CreditGrade decreases from 'AA' to 'E', one can see that the number of 25000 loans decreases with each credit grade decrease"
   ]
  },
  {
   "cell_type": "code",
   "execution_count": null,
   "metadata": {},
   "outputs": [],
   "source": []
  },
  {
   "cell_type": "code",
   "execution_count": null,
   "metadata": {},
   "outputs": [],
   "source": []
  },
  {
   "cell_type": "code",
   "execution_count": null,
   "metadata": {},
   "outputs": [],
   "source": []
  },
  {
   "cell_type": "code",
   "execution_count": null,
   "metadata": {},
   "outputs": [],
   "source": []
  },
  {
   "cell_type": "markdown",
   "metadata": {
    "tags": []
   },
   "source": [
    "# Bivariate Exploration \n",
    "## Defaulted & Chargedoff Loan relationships\n",
    "#### For all past due accounts, what is the homeownership?"
   ]
  },
  {
   "cell_type": "code",
   "execution_count": null,
   "metadata": {},
   "outputs": [],
   "source": [
    "defaulted_chargedoff.IsBorrowerHomeowner.value_counts()"
   ]
  },
  {
   "cell_type": "code",
   "execution_count": null,
   "metadata": {},
   "outputs": [],
   "source": [
    "#sb.displot(data=defaulted_chargedoff, x='IsBorrowerHomeowner', "
   ]
  },
  {
   "cell_type": "code",
   "execution_count": null,
   "metadata": {},
   "outputs": [],
   "source": [
    "all_past.IsBorrowerHomeowner.value_counts()"
   ]
  },
  {
   "cell_type": "code",
   "execution_count": null,
   "metadata": {},
   "outputs": [],
   "source": [
    "#sb.regplot(data=defaulted_chargedoff, x=LoanOriginalAmount"
   ]
  },
  {
   "cell_type": "code",
   "execution_count": null,
   "metadata": {},
   "outputs": [],
   "source": [
    "g = sb.FacetGrid(loanDF, col=\"CreditGrade\")\n",
    "#g.map(sb.hist\n",
    " #     \n",
    "  #    plot, \"LoanOriginalAmount\")"
   ]
  },
  {
   "cell_type": "code",
   "execution_count": null,
   "metadata": {},
   "outputs": [],
   "source": [
    "# all past due loans, what are the homeownership stats?\n",
    "homeowner = all_past.IsBorrowerHomeowner.value_counts().to_frame()"
   ]
  },
  {
   "cell_type": "code",
   "execution_count": null,
   "metadata": {},
   "outputs": [],
   "source": [
    "#sb.countplot(all_past.IsBorrowerHomeowner.value_counts().to_frame())"
   ]
  },
  {
   "cell_type": "code",
   "execution_count": null,
   "metadata": {},
   "outputs": [],
   "source": [
    "completed = loanDF.query(\"LoanStatus == 'Completed'\")\n",
    "completed.shape"
   ]
  },
  {
   "cell_type": "code",
   "execution_count": null,
   "metadata": {},
   "outputs": [],
   "source": [
    "# What does homeownership look like for loans that have been completed\n",
    "completed.IsBorrowerHomeowner.value_counts()"
   ]
  },
  {
   "cell_type": "code",
   "execution_count": null,
   "metadata": {},
   "outputs": [],
   "source": [
    "all_past.CreditScoreRangeLower.value_counts()"
   ]
  },
  {
   "cell_type": "code",
   "execution_count": null,
   "metadata": {},
   "outputs": [],
   "source": [
    "all_past.CreditScoreRangeUpper.value_counts()"
   ]
  },
  {
   "cell_type": "markdown",
   "metadata": {},
   "source": [
    "**LoanStatus** could be interesting to investigate further. For example, let's look at all \"Past Due...\" & look at various vars from there. **IncomeRange**, **CreditGrade**, **Occupation**"
   ]
  },
  {
   "cell_type": "code",
   "execution_count": null,
   "metadata": {},
   "outputs": [],
   "source": [
    "# view count of values\n",
    "all_past.IncomeRange.value_counts()"
   ]
  },
  {
   "cell_type": "code",
   "execution_count": null,
   "metadata": {},
   "outputs": [],
   "source": [
    "# view count of values\n",
    "all_past.BorrowerRate.value_counts()"
   ]
  },
  {
   "cell_type": "code",
   "execution_count": null,
   "metadata": {},
   "outputs": [],
   "source": [
    "# view count of values\n",
    "print(all_past.CurrentDelinquencies.value_counts())\n",
    "# This plot doesn't work\n",
    "#sb.displot(all_past.CurrentDelinquencies.value_counts())"
   ]
  },
  {
   "cell_type": "code",
   "execution_count": null,
   "metadata": {},
   "outputs": [],
   "source": [
    "loanDF.IncomeRange.value_counts()"
   ]
  },
  {
   "cell_type": "markdown",
   "metadata": {},
   "source": [
    "**IncomeRange** -- another interesting variable to compare with others. I'm particularly interested in the $100,000+ bracket."
   ]
  },
  {
   "cell_type": "code",
   "execution_count": null,
   "metadata": {},
   "outputs": [],
   "source": [
    "# explore breakdown of Monthly Incomes\n",
    "pd.set_option('display.float_format', str)\n",
    "loanDF['StatedMonthlyIncome'] = loanDF['StatedMonthlyIncome'].astype(np.int64)\n",
    "loanDF['StatedMonthlyIncome'].describe()"
   ]
  },
  {
   "cell_type": "code",
   "execution_count": null,
   "metadata": {},
   "outputs": [],
   "source": [
    "loanDF.Occupation.value_counts().head(100)"
   ]
  },
  {
   "cell_type": "markdown",
   "metadata": {},
   "source": [
    "### What characteristics correlate with lower interest rate for loans?"
   ]
  },
  {
   "cell_type": "code",
   "execution_count": null,
   "metadata": {},
   "outputs": [],
   "source": [
    "pd.__version__"
   ]
  },
  {
   "cell_type": "code",
   "execution_count": null,
   "metadata": {
    "scrolled": true
   },
   "outputs": [],
   "source": [
    "# Show mean BorrowerRate by State\n",
    "BorrowerRatebyState = loanDF.groupby('BorrowerState')['BorrowerRate'].mean().sort_values()\n",
    "print(f\"Top 5 states with lowest average interest rate: \\n {BorrowerRatebyState.head(5)}\")\n",
    "print(f\"Top 5 states with **highest** interest rate: \\n{BorrowerRatebyState.tail(5)}\")"
   ]
  },
  {
   "cell_type": "code",
   "execution_count": null,
   "metadata": {
    "scrolled": true
   },
   "outputs": [],
   "source": [
    "# Show mean Debt-to-Income-Ratio by State\n",
    "DebtRatiobyState = loanDF.groupby('BorrowerState')['DebtToIncomeRatio'].mean().sort_values()\n",
    "print(f\"Top 5 states with lowest debt to income ratio: \\n {DebtRatiobyState.head(5)}\")\n",
    "print(f\"Top 5 states with **highest** deb to income ratio: \\n{DebtRatiobyState.tail(5)}\")"
   ]
  },
  {
   "cell_type": "code",
   "execution_count": null,
   "metadata": {
    "scrolled": true
   },
   "outputs": [],
   "source": [
    "# get top 15 occupations with highest Stated monthly incomes\n",
    "occupation_income = loanDF.groupby('Occupation')['StatedMonthlyIncome'].mean().sort_values(ascending=False)\n",
    "occupation_income.head(15)"
   ]
  },
  {
   "cell_type": "code",
   "execution_count": null,
   "metadata": {
    "scrolled": true
   },
   "outputs": [],
   "source": [
    "# lowest stated monthly incomes by occupation\n",
    "occupation_income.tail(15)"
   ]
  },
  {
   "cell_type": "code",
   "execution_count": null,
   "metadata": {},
   "outputs": [],
   "source": [
    "# create dictionary to translate \"Listing Category (numerical)\"\n",
    "listingcategory_dict = {\n",
    "    0:'Not Available',\n",
    "    1:'Debt Consolidation',\n",
    "    2:'Home Improvement',\n",
    "    3:'Business',\n",
    "    4:'Personal Loan',\n",
    "    5:'Student Use',\n",
    "    6:'Auto',\n",
    "    7:'Other',\n",
    "    8:'Baby & Adoption',\n",
    "    9:'Boat',\n",
    "    10:'Cosmetic Procedure',\n",
    "    11:'Engagement Ring',\n",
    "    12:'Green Loans',\n",
    "    13:'Household Expenses',\n",
    "    14:'Large Purchases',\n",
    "    15:'Medical/Dental',\n",
    "    16:'Motorcycle',\n",
    "    17:'RV',\n",
    "    18:'Taxes',\n",
    "    19:'Vacation',\n",
    "    20:'Wedding Loans'\n",
    "}"
   ]
  },
  {
   "cell_type": "code",
   "execution_count": null,
   "metadata": {},
   "outputs": [],
   "source": [
    "# test dictionary\n",
    "listingcategory_dict[10]"
   ]
  },
  {
   "cell_type": "code",
   "execution_count": null,
   "metadata": {},
   "outputs": [],
   "source": [
    "# How many loans are there of each ListingCategory\n",
    "listcat_loans = loanDF['ListingCategory (numeric)'].value_counts().sort_values().tail(10)\n",
    "print(f\"Top 10 Listing Categories \\n{listcat_loans}\")\n",
    "print(f\"\\nTotal # of loans represented by the top 10: {listcat_loans.sum()}\")"
   ]
  },
  {
   "cell_type": "code",
   "execution_count": null,
   "metadata": {},
   "outputs": [],
   "source": [
    "# Convert Series 'listcat' to dataframe using to_frame()\n",
    "listcat = listcat_loans.to_frame()\n",
    "listcat"
   ]
  },
  {
   "cell_type": "code",
   "execution_count": null,
   "metadata": {},
   "outputs": [],
   "source": [
    "listcat.name = 'ListingCategory'"
   ]
  },
  {
   "cell_type": "code",
   "execution_count": null,
   "metadata": {},
   "outputs": [],
   "source": [
    "listcat['Listing Category'] = listcat.index\n",
    "listcat"
   ]
  },
  {
   "cell_type": "code",
   "execution_count": null,
   "metadata": {},
   "outputs": [],
   "source": [
    "# delete\n",
    "for i in enumerate(listcat_loans.index):\n",
    "    print(i)"
   ]
  },
  {
   "cell_type": "code",
   "execution_count": null,
   "metadata": {},
   "outputs": [],
   "source": [
    "# delete\n",
    "for i in listcat_loans.index:\n",
    "    print(i)"
   ]
  },
  {
   "cell_type": "code",
   "execution_count": null,
   "metadata": {},
   "outputs": [],
   "source": [
    "listingcategory_dict"
   ]
  },
  {
   "cell_type": "code",
   "execution_count": null,
   "metadata": {},
   "outputs": [],
   "source": [
    "#listcat.columns = ['count','category']\n",
    "listcat"
   ]
  },
  {
   "cell_type": "code",
   "execution_count": null,
   "metadata": {},
   "outputs": [],
   "source": [
    "#listcat.drop('Category', inplace=True)"
   ]
  },
  {
   "cell_type": "code",
   "execution_count": null,
   "metadata": {},
   "outputs": [],
   "source": [
    "listcat_dict = listingcategory_dict.copy()"
   ]
  },
  {
   "cell_type": "code",
   "execution_count": null,
   "metadata": {},
   "outputs": [],
   "source": [
    "listcat_dict"
   ]
  },
  {
   "cell_type": "code",
   "execution_count": null,
   "metadata": {},
   "outputs": [],
   "source": [
    "#index = 3\n",
    "#print(f\"listcat_loans: {listcat_loans.}\")\n",
    "\n",
    "'''for i in len(listcat):\n",
    "    listcat['category'] = listingcategory_dict[listcat[i]]\n",
    "        \n",
    "#print(f\"listcat_loans.loc[index]: {listcat_loans.loc[index]}\")\n",
    "listcat_loans'''"
   ]
  },
  {
   "cell_type": "code",
   "execution_count": null,
   "metadata": {},
   "outputs": [],
   "source": [
    "#listcat_loans['Category'] = listingcategory_dict[listcat_loans.loc[index]\n",
    "listcat"
   ]
  },
  {
   "cell_type": "markdown",
   "metadata": {},
   "source": [
    "#### 1-Debt Consolidation @ 58308, 0-Not Avail., 7-other, 2-Home Improvement @ 7433, 3-Business @ 7189, 6-Auto @ 2572 \n",
    "\n",
    "The category of the listing that the borrower selected when posting their listing: <br/><br/>\n",
    "*0 - Not Available, 1 - Debt Consolidation, 2 - Home Improvement,* <br/>\n",
    "*3 - Business, 4 - Personal Loan*, 5 - Student Use, <br/>\n",
    "*6 - Auto, 7- Other*, 8 - Baby&Adoption, 9 - Boat, <br/>\n",
    "10 - Cosmetic Procedure, 11 - Engagement Ring, <br/>\n",
    "12 - Green Loans, *13 - Household Expenses*, 14 - Large Purchases, <br/>\n",
    "*15 - Medical/Dental*, 16 - Motorcycle, 17 - RV, <br/>\n",
    "*18 - Taxes*, 19 - Vacation, 20 - Wedding Loans <br/>"
   ]
  },
  {
   "cell_type": "markdown",
   "metadata": {},
   "source": [
    "### What is the structure of your dataset?\n",
    "\n",
    "> The Prosper Loan Data set is 113937 records with 81 variable/columns. Loan data includes everything from loan type, to BorrowerRate\n",
    "\n",
    "### What is/are the main feature(s) of interest in your dataset?\n",
    "\n",
    "> Greatest interest so far: loan amount, interest rate, term. The items that make the loan most attractive and least attractive on the opposite side of the spectrum  . Any other trends that are peculiar, etc.\n",
    "\n",
    "> Explore characteristics of all past due accounts\n",
    "\n",
    "### What features in the dataset do you think will help support your investigation into your feature(s) of interest?\n",
    "\n",
    "> ListingCategory, IncomeRange, CreditGrade, Occupation, StatedMonthlyIncome, "
   ]
  },
  {
   "cell_type": "markdown",
   "metadata": {},
   "source": [
    "## Univariate Exploration\n",
    "\n",
    "> In this section, investigate distributions of individual variables. If\n",
    "you see unusual points or outliers, take a deeper look to clean things up\n",
    "and prepare yourself to look at relationships between variables."
   ]
  },
  {
   "cell_type": "code",
   "execution_count": null,
   "metadata": {},
   "outputs": [],
   "source": [
    "# Univarite exploration of BorrowerAPR\n",
    "sb.displot(loanDF['BorrowerAPR']);"
   ]
  },
  {
   "cell_type": "code",
   "execution_count": null,
   "metadata": {},
   "outputs": [],
   "source": [
    "# What is going on with the interest rate around 0.36? Why are there so many loans with this percentage\n",
    "borrAPR36 = loanDF.query('BorrowerAPR > 0.36 and BorrowerAPR < 0.37')\n",
    "borrAPR36.shape"
   ]
  },
  {
   "cell_type": "code",
   "execution_count": null,
   "metadata": {},
   "outputs": [],
   "source": [
    "borrAPR36.sample(10)"
   ]
  },
  {
   "cell_type": "markdown",
   "metadata": {},
   "source": [
    "Some observations (not interesting):\n",
    "1. The personal loan people had the lowest average credit score, students loans next\n",
    "2. The RV loan types had the highest average credit score. This infers that people who have the ability to buy RVs are in better financial situations."
   ]
  },
  {
   "cell_type": "markdown",
   "metadata": {},
   "source": [
    "### What is going on with the BorrowerAPR/Rate at 31-33% & 36-37%, well over 5000 records? Let's investigate additional info about these records"
   ]
  },
  {
   "cell_type": "code",
   "execution_count": null,
   "metadata": {},
   "outputs": [],
   "source": [
    "sb.displot(loanDF['BorrowerRate']);"
   ]
  },
  {
   "cell_type": "code",
   "execution_count": null,
   "metadata": {},
   "outputs": [],
   "source": [
    "# explore the spike in BorrowerRate around 0.3\n",
    "BorrRate30 = loanDF.query(\"BorrowerRate <= 0.33 and BorrowerRate >= 0.30\")\n",
    "BorrRate30.shape"
   ]
  },
  {
   "cell_type": "code",
   "execution_count": null,
   "metadata": {},
   "outputs": [],
   "source": [
    "BorrRate30.Occupation.value_counts().head(20)"
   ]
  },
  {
   "cell_type": "code",
   "execution_count": null,
   "metadata": {},
   "outputs": [],
   "source": [
    "sb.displot(BorrRate30['Term']);"
   ]
  },
  {
   "cell_type": "markdown",
   "metadata": {},
   "source": [
    "Loan Terms = some 12 month, majority are 36 mnth loans, but healthy percentage at 60 mnth (5 year loan)"
   ]
  },
  {
   "cell_type": "code",
   "execution_count": null,
   "metadata": {},
   "outputs": [],
   "source": []
  },
  {
   "cell_type": "code",
   "execution_count": null,
   "metadata": {},
   "outputs": [],
   "source": [
    "base_color = sb.color_palette()[5]\n",
    "sb.displot(data = BorrRate30, x = 'LoanOriginalAmount', color = base_color);\n"
   ]
  },
  {
   "cell_type": "code",
   "execution_count": null,
   "metadata": {},
   "outputs": [],
   "source": [
    "# Use Seaborn's CountPlot as an alternative to compare with plt.hist & seaborn's distplot\n",
    "\n",
    "base_color = sb.color_palette()[2]\n",
    "sb.countplot(data = loanDF, x = 'ListingCategory (numeric)', color = base_color);"
   ]
  },
  {
   "cell_type": "markdown",
   "metadata": {},
   "source": [
    "The category of the listing that the borrower selected when posting their listing: <br/>\n",
    "    0 - Not Available, <br/>\n",
    "    1 - Debt Consolidation, <br/>\n",
    "    2 - Home Improvement, <br/>\n",
    "    3 - Business, <br/>\n",
    "    4 - Personal Loan, <br/>\n",
    "    5 - Student Use, <br/>\n",
    "    6 - Auto, <br/>\n",
    "    7- Other, <br/>\n",
    "    8 - Baby&Adoption, <br/>\n",
    "    9 - Boat, <br/>\n",
    "    10 - Cosmetic Procedure, <br/>\n",
    "    11 - Engagement Ring, <br/>\n",
    "    12 - Green Loans, <br/>\n",
    "    13 - Household Expenses, <br/>\n",
    "    14 - Large Purchases, <br/>\n",
    "    15 - Medical/Dental, <br/>\n",
    "    16 - Motorcycle, <br/>\n",
    "    17 - RV, <br/>\n",
    "    18 - Taxes, <br/>\n",
    "    19 - Vacation, <br/>\n",
    "    20 - Wedding Loans <br/>\n"
   ]
  },
  {
   "cell_type": "code",
   "execution_count": null,
   "metadata": {},
   "outputs": [],
   "source": [
    "# plot the distribution of LoanAmounts\n",
    "base_color = sb.color_palette()[2]\n",
    "sb.displot(data = loanDF, x = 'LoanOriginalAmount', color = base_color);"
   ]
  },
  {
   "cell_type": "markdown",
   "metadata": {},
   "source": [
    "1. Significant number of loans are multiples of 5000\n",
    "2. Majority of loans are $15k and less "
   ]
  },
  {
   "cell_type": "markdown",
   "metadata": {},
   "source": [
    "> Make sure that, after every plot or related series of plots, that you\n",
    "include a Markdown cell with comments about what you observed, and what\n",
    "you plan on investigating next."
   ]
  },
  {
   "cell_type": "code",
   "execution_count": null,
   "metadata": {},
   "outputs": [],
   "source": []
  },
  {
   "cell_type": "markdown",
   "metadata": {},
   "source": [
    "### Discuss the distribution(s) of your variable(s) of interest. Were there any unusual points? Did you need to perform any transformations?\n",
    "\n",
    "> Your answer here!\n",
    "\n",
    "### Of the features you investigated, were there any unusual distributions? Did you perform any operations on the data to tidy, adjust, or change the form of the data? If so, why did you do this?\n",
    "\n",
    "> Your answer here!"
   ]
  },
  {
   "cell_type": "markdown",
   "metadata": {},
   "source": [
    "## Bivariate Exploration\n",
    "\n",
    "> In this section, investigate relationships between pairs of variables in your\n",
    "data. Make sure the variables that you cover here have been introduced in some\n",
    "fashion in the previous section (univariate exploration)."
   ]
  },
  {
   "cell_type": "code",
   "execution_count": null,
   "metadata": {
    "scrolled": true
   },
   "outputs": [],
   "source": [
    "borrAPR36.groupby('ListingCategory (numeric)')['LoanOriginalAmount'].mean()"
   ]
  },
  {
   "cell_type": "code",
   "execution_count": null,
   "metadata": {},
   "outputs": [],
   "source": [
    "loanDF.groupby('ListingCategory (numeric)')['LoanOriginalAmount'].mean()"
   ]
  },
  {
   "cell_type": "code",
   "execution_count": null,
   "metadata": {},
   "outputs": [],
   "source": [
    "borrAPR36.groupby('ListingCategory (numeric)')['CreditScoreRangeUpper'].mean()"
   ]
  },
  {
   "cell_type": "code",
   "execution_count": null,
   "metadata": {},
   "outputs": [],
   "source": []
  },
  {
   "cell_type": "markdown",
   "metadata": {},
   "source": [
    "### Talk about some of the relationships you observed in this part of the investigation. How did the feature(s) of interest vary with other features in the dataset?\n",
    "\n",
    "> Your answer here!\n",
    "\n",
    "### Did you observe any interesting relationships between the other features (not the main feature(s) of interest)?\n",
    "\n",
    "> Your answer here!"
   ]
  },
  {
   "cell_type": "markdown",
   "metadata": {},
   "source": [
    "## Multivariate Exploration\n",
    "\n",
    "> Create plots of three or more variables to investigate your data even\n",
    "further. Make sure that your investigations are justified, and follow from\n",
    "your work in the previous sections."
   ]
  },
  {
   "cell_type": "code",
   "execution_count": null,
   "metadata": {},
   "outputs": [],
   "source": []
  },
  {
   "cell_type": "markdown",
   "metadata": {},
   "source": [
    "### Talk about some of the relationships you observed in this part of the investigation. Were there features that strengthened each other in terms of looking at your feature(s) of interest?\n",
    "\n",
    "> Your answer here!\n",
    "\n",
    "### Were there any interesting or surprising interactions between features?\n",
    "\n",
    "> Your answer here!"
   ]
  },
  {
   "cell_type": "markdown",
   "metadata": {},
   "source": [
    "> At the end of your report, make sure that you export the notebook as an\n",
    "html file from the `File > Download as... > HTML` menu. Make sure you keep\n",
    "track of where the exported file goes, so you can put it in the same folder\n",
    "as this notebook for project submission. Also, make sure you remove all of\n",
    "the quote-formatted guide notes like this one before you finish your report!"
   ]
  },
  {
   "cell_type": "code",
   "execution_count": null,
   "metadata": {},
   "outputs": [],
   "source": []
  },
  {
   "cell_type": "code",
   "execution_count": null,
   "metadata": {},
   "outputs": [],
   "source": []
  },
  {
   "cell_type": "code",
   "execution_count": null,
   "metadata": {
    "tags": [
     "hidden",
     "hide_input"
    ]
   },
   "outputs": [],
   "source": [
    "test = 123\n",
    "print(test)"
   ]
  },
  {
   "cell_type": "code",
   "execution_count": null,
   "metadata": {},
   "outputs": [],
   "source": []
  }
 ],
 "metadata": {
  "kernelspec": {
   "display_name": "Python 3 (ipykernel)",
   "language": "python",
   "name": "python3"
  },
  "language_info": {
   "codemirror_mode": {
    "name": "ipython",
    "version": 3
   },
   "file_extension": ".py",
   "mimetype": "text/x-python",
   "name": "python",
   "nbconvert_exporter": "python",
   "pygments_lexer": "ipython3",
   "version": "3.8.11"
  }
 },
 "nbformat": 4,
 "nbformat_minor": 4
}
