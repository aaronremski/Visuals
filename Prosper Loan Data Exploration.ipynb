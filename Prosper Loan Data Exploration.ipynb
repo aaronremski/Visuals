{
 "cells": [
  {
   "cell_type": "markdown",
   "metadata": {},
   "source": [
    "1. perform facet grid of histograms and/or scatterplots, or..."
   ]
  },
  {
   "cell_type": "markdown",
   "metadata": {
    "tags": []
   },
   "source": [
    "# Data Analysis on bank loans from Prosper\n",
    "## by Aaron Remski\n",
    "\n",
    "> This dataset contains ~114,000 records containing data on bank loans. It includes 81 variables ranging from CreditGrade to StatedMonthlyIncome."
   ]
  },
  {
   "cell_type": "code",
   "execution_count": 97,
   "metadata": {},
   "outputs": [],
   "source": [
    "# import all packages and set plots to be embedded inline\n",
    "import numpy as np\n",
    "import pandas as pd\n",
    "import matplotlib.pyplot as plt\n",
    "import seaborn as sb\n",
    "\n",
    "%matplotlib inline\n",
    "\n",
    "pd.set_option('display.max_columns', 200) # to display all the columns\n",
    "pd.set_option('display.max_rows', 150) # to display all rows of df series\n",
    "pd.options.display.float_format = '{:.4f}'.format # set it to convert scientific notation such \n",
    "# as 4.22510e+11 to 42251000462321.00"
   ]
  },
  {
   "cell_type": "code",
   "execution_count": 205,
   "metadata": {},
   "outputs": [
    {
     "data": {
      "image/png": "[encoded data removed]",
      "text/plain": [
       "<Figure size 432x288 with 1 Axes>"
      ]
     },
     "metadata": {},
     "output_type": "display_data"
    }
   ],
   "source": [
    "plt.ticklabel_format(axis='both', style='plain')"
   ]
  },
  {
   "cell_type": "code",
   "execution_count": 98,
   "metadata": {},
   "outputs": [],
   "source": [
    "############################################################################\n",
    "## (Un)Comment out if using a lighter background style in Jupyter\n",
    "plt.style.use(\"dark_background\")"
   ]
  },
  {
   "cell_type": "code",
   "execution_count": 99,
   "metadata": {},
   "outputs": [],
   "source": [
    "# load data into pandas dataframe!\n",
    "loanDF = pd.read_csv(\"prosperLoanData.csv\")"
   ]
  },
  {
   "cell_type": "markdown",
   "metadata": {},
   "source": [
    "## Dataset Overview\n"
   ]
  },
  {
   "cell_type": "code",
   "execution_count": 100,
   "metadata": {},
   "outputs": [
    {
     "data": {
      "text/plain": [
       "(113937, 81)"
      ]
     },
     "execution_count": 100,
     "metadata": {},
     "output_type": "execute_result"
    }
   ],
   "source": [
    "# width & height\n",
    "loanDF.shape"
   ]
  },
  {
   "cell_type": "code",
   "execution_count": 101,
   "metadata": {
    "scrolled": true
   },
   "outputs": [
    {
     "name": "stdout",
     "output_type": "stream",
     "text": [
      "<class 'pandas.core.frame.DataFrame'>\n",
      "RangeIndex: 113937 entries, 0 to 113936\n",
      "Data columns (total 81 columns):\n",
      " #   Column                               Non-Null Count   Dtype  \n",
      "---  ------                               --------------   -----  \n",
      " 0   ListingKey                           113937 non-null  object \n",
      " 1   ListingNumber                        113937 non-null  int64  \n",
      " 2   ListingCreationDate                  113937 non-null  object \n",
      " 3   CreditGrade                          28953 non-null   object \n",
      " 4   Term                                 113937 non-null  int64  \n",
      " 5   LoanStatus                           113937 non-null  object \n",
      " 6   ClosedDate                           55089 non-null   object \n",
      " 7   BorrowerAPR                          113912 non-null  float64\n",
      " 8   BorrowerRate                         113937 non-null  float64\n",
      " 9   LenderYield                          113937 non-null  float64\n",
      " 10  EstimatedEffectiveYield              84853 non-null   float64\n",
      " 11  EstimatedLoss                        84853 non-null   float64\n",
      " 12  EstimatedReturn                      84853 non-null   float64\n",
      " 13  ProsperRating (numeric)              84853 non-null   float64\n",
      " 14  ProsperRating (Alpha)                84853 non-null   object \n",
      " 15  ProsperScore                         84853 non-null   float64\n",
      " 16  ListingCategory (numeric)            113937 non-null  int64  \n",
      " 17  BorrowerState                        108422 non-null  object \n",
      " 18  Occupation                           110349 non-null  object \n",
      " 19  EmploymentStatus                     111682 non-null  object \n",
      " 20  EmploymentStatusDuration             106312 non-null  float64\n",
      " 21  IsBorrowerHomeowner                  113937 non-null  bool   \n",
      " 22  CurrentlyInGroup                     113937 non-null  bool   \n",
      " 23  GroupKey                             13341 non-null   object \n",
      " 24  DateCreditPulled                     113937 non-null  object \n",
      " 25  CreditScoreRangeLower                113346 non-null  float64\n",
      " 26  CreditScoreRangeUpper                113346 non-null  float64\n",
      " 27  FirstRecordedCreditLine              113240 non-null  object \n",
      " 28  CurrentCreditLines                   106333 non-null  float64\n",
      " 29  OpenCreditLines                      106333 non-null  float64\n",
      " 30  TotalCreditLinespast7years           113240 non-null  float64\n",
      " 31  OpenRevolvingAccounts                113937 non-null  int64  \n",
      " 32  OpenRevolvingMonthlyPayment          113937 non-null  float64\n",
      " 33  InquiriesLast6Months                 113240 non-null  float64\n",
      " 34  TotalInquiries                       112778 non-null  float64\n",
      " 35  CurrentDelinquencies                 113240 non-null  float64\n",
      " 36  AmountDelinquent                     106315 non-null  float64\n",
      " 37  DelinquenciesLast7Years              112947 non-null  float64\n",
      " 38  PublicRecordsLast10Years             113240 non-null  float64\n",
      " 39  PublicRecordsLast12Months            106333 non-null  float64\n",
      " 40  RevolvingCreditBalance               106333 non-null  float64\n",
      " 41  BankcardUtilization                  106333 non-null  float64\n",
      " 42  AvailableBankcardCredit              106393 non-null  float64\n",
      " 43  TotalTrades                          106393 non-null  float64\n",
      " 44  TradesNeverDelinquent (percentage)   106393 non-null  float64\n",
      " 45  TradesOpenedLast6Months              106393 non-null  float64\n",
      " 46  DebtToIncomeRatio                    105383 non-null  float64\n",
      " 47  IncomeRange                          113937 non-null  object \n",
      " 48  IncomeVerifiable                     113937 non-null  bool   \n",
      " 49  StatedMonthlyIncome                  113937 non-null  float64\n",
      " 50  LoanKey                              113937 non-null  object \n",
      " 51  TotalProsperLoans                    22085 non-null   float64\n",
      " 52  TotalProsperPaymentsBilled           22085 non-null   float64\n",
      " 53  OnTimeProsperPayments                22085 non-null   float64\n",
      " 54  ProsperPaymentsLessThanOneMonthLate  22085 non-null   float64\n",
      " 55  ProsperPaymentsOneMonthPlusLate      22085 non-null   float64\n",
      " 56  ProsperPrincipalBorrowed             22085 non-null   float64\n",
      " 57  ProsperPrincipalOutstanding          22085 non-null   float64\n",
      " 58  ScorexChangeAtTimeOfListing          18928 non-null   float64\n",
      " 59  LoanCurrentDaysDelinquent            113937 non-null  int64  \n",
      " 60  LoanFirstDefaultedCycleNumber        16952 non-null   float64\n",
      " 61  LoanMonthsSinceOrigination           113937 non-null  int64  \n",
      " 62  LoanNumber                           113937 non-null  int64  \n",
      " 63  LoanOriginalAmount                   113937 non-null  int64  \n",
      " 64  LoanOriginationDate                  113937 non-null  object \n",
      " 65  LoanOriginationQuarter               113937 non-null  object \n",
      " 66  MemberKey                            113937 non-null  object \n",
      " 67  MonthlyLoanPayment                   113937 non-null  float64\n",
      " 68  LP_CustomerPayments                  113937 non-null  float64\n",
      " 69  LP_CustomerPrincipalPayments         113937 non-null  float64\n",
      " 70  LP_InterestandFees                   113937 non-null  float64\n",
      " 71  LP_ServiceFees                       113937 non-null  float64\n",
      " 72  LP_CollectionFees                    113937 non-null  float64\n",
      " 73  LP_GrossPrincipalLoss                113937 non-null  float64\n",
      " 74  LP_NetPrincipalLoss                  113937 non-null  float64\n",
      " 75  LP_NonPrincipalRecoverypayments      113937 non-null  float64\n",
      " 76  PercentFunded                        113937 non-null  float64\n",
      " 77  Recommendations                      113937 non-null  int64  \n",
      " 78  InvestmentFromFriendsCount           113937 non-null  int64  \n",
      " 79  InvestmentFromFriendsAmount          113937 non-null  float64\n",
      " 80  Investors                            113937 non-null  int64  \n",
      "dtypes: bool(3), float64(50), int64(11), object(17)\n",
      "memory usage: 68.1+ MB\n"
     ]
    }
   ],
   "source": [
    "# review loanDF variables & identify features that require additional tidying/cleaning\n",
    "loanDF.info()"
   ]
  },
  {
   "cell_type": "code",
   "execution_count": 102,
   "metadata": {
    "scrolled": true,
    "tags": []
   },
   "outputs": [
    {
     "data": {
      "text/html": [
       "<div>\n",
       "<style scoped>\n",
       "    .dataframe tbody tr th:only-of-type {\n",
       "        vertical-align: middle;\n",
       "    }\n",
       "\n",
       "    .dataframe tbody tr th {\n",
       "        vertical-align: top;\n",
       "    }\n",
       "\n",
       "    .dataframe thead th {\n",
       "        text-align: right;\n",
       "    }\n",
       "</style>\n",
       "<table border=\"1\" class=\"dataframe\">\n",
       "  <thead>\n",
       "    <tr style=\"text-align: right;\">\n",
       "      <th></th>\n",
       "      <th>ListingKey</th>\n",
       "      <th>ListingNumber</th>\n",
       "      <th>ListingCreationDate</th>\n",
       "      <th>CreditGrade</th>\n",
       "      <th>Term</th>\n",
       "      <th>LoanStatus</th>\n",
       "      <th>ClosedDate</th>\n",
       "      <th>BorrowerAPR</th>\n",
       "      <th>BorrowerRate</th>\n",
       "      <th>LenderYield</th>\n",
       "      <th>EstimatedEffectiveYield</th>\n",
       "      <th>EstimatedLoss</th>\n",
       "      <th>EstimatedReturn</th>\n",
       "      <th>ProsperRating (numeric)</th>\n",
       "      <th>ProsperRating (Alpha)</th>\n",
       "      <th>ProsperScore</th>\n",
       "      <th>ListingCategory (numeric)</th>\n",
       "      <th>BorrowerState</th>\n",
       "      <th>Occupation</th>\n",
       "      <th>EmploymentStatus</th>\n",
       "      <th>EmploymentStatusDuration</th>\n",
       "      <th>IsBorrowerHomeowner</th>\n",
       "      <th>CurrentlyInGroup</th>\n",
       "      <th>GroupKey</th>\n",
       "      <th>DateCreditPulled</th>\n",
       "      <th>CreditScoreRangeLower</th>\n",
       "      <th>CreditScoreRangeUpper</th>\n",
       "      <th>FirstRecordedCreditLine</th>\n",
       "      <th>CurrentCreditLines</th>\n",
       "      <th>OpenCreditLines</th>\n",
       "      <th>TotalCreditLinespast7years</th>\n",
       "      <th>OpenRevolvingAccounts</th>\n",
       "      <th>OpenRevolvingMonthlyPayment</th>\n",
       "      <th>InquiriesLast6Months</th>\n",
       "      <th>TotalInquiries</th>\n",
       "      <th>CurrentDelinquencies</th>\n",
       "      <th>AmountDelinquent</th>\n",
       "      <th>DelinquenciesLast7Years</th>\n",
       "      <th>PublicRecordsLast10Years</th>\n",
       "      <th>PublicRecordsLast12Months</th>\n",
       "      <th>RevolvingCreditBalance</th>\n",
       "      <th>BankcardUtilization</th>\n",
       "      <th>AvailableBankcardCredit</th>\n",
       "      <th>TotalTrades</th>\n",
       "      <th>TradesNeverDelinquent (percentage)</th>\n",
       "      <th>TradesOpenedLast6Months</th>\n",
       "      <th>DebtToIncomeRatio</th>\n",
       "      <th>IncomeRange</th>\n",
       "      <th>IncomeVerifiable</th>\n",
       "      <th>StatedMonthlyIncome</th>\n",
       "      <th>LoanKey</th>\n",
       "      <th>TotalProsperLoans</th>\n",
       "      <th>TotalProsperPaymentsBilled</th>\n",
       "      <th>OnTimeProsperPayments</th>\n",
       "      <th>ProsperPaymentsLessThanOneMonthLate</th>\n",
       "      <th>ProsperPaymentsOneMonthPlusLate</th>\n",
       "      <th>ProsperPrincipalBorrowed</th>\n",
       "      <th>ProsperPrincipalOutstanding</th>\n",
       "      <th>ScorexChangeAtTimeOfListing</th>\n",
       "      <th>LoanCurrentDaysDelinquent</th>\n",
       "      <th>LoanFirstDefaultedCycleNumber</th>\n",
       "      <th>LoanMonthsSinceOrigination</th>\n",
       "      <th>LoanNumber</th>\n",
       "      <th>LoanOriginalAmount</th>\n",
       "      <th>LoanOriginationDate</th>\n",
       "      <th>LoanOriginationQuarter</th>\n",
       "      <th>MemberKey</th>\n",
       "      <th>MonthlyLoanPayment</th>\n",
       "      <th>LP_CustomerPayments</th>\n",
       "      <th>LP_CustomerPrincipalPayments</th>\n",
       "      <th>LP_InterestandFees</th>\n",
       "      <th>LP_ServiceFees</th>\n",
       "      <th>LP_CollectionFees</th>\n",
       "      <th>LP_GrossPrincipalLoss</th>\n",
       "      <th>LP_NetPrincipalLoss</th>\n",
       "      <th>LP_NonPrincipalRecoverypayments</th>\n",
       "      <th>PercentFunded</th>\n",
       "      <th>Recommendations</th>\n",
       "      <th>InvestmentFromFriendsCount</th>\n",
       "      <th>InvestmentFromFriendsAmount</th>\n",
       "      <th>Investors</th>\n",
       "    </tr>\n",
       "  </thead>\n",
       "  <tbody>\n",
       "    <tr>\n",
       "      <th>77237</th>\n",
       "      <td>A575336459785020669A5EF</td>\n",
       "      <td>20557</td>\n",
       "      <td>2006-06-19 15:30:23.607000000</td>\n",
       "      <td>D</td>\n",
       "      <td>36</td>\n",
       "      <td>Completed</td>\n",
       "      <td>2009-06-27 00:00:00</td>\n",
       "      <td>0.2375</td>\n",
       "      <td>0.2300</td>\n",
       "      <td>0.2100</td>\n",
       "      <td>NaN</td>\n",
       "      <td>NaN</td>\n",
       "      <td>NaN</td>\n",
       "      <td>NaN</td>\n",
       "      <td>NaN</td>\n",
       "      <td>NaN</td>\n",
       "      <td>0</td>\n",
       "      <td>MI</td>\n",
       "      <td>NaN</td>\n",
       "      <td>NaN</td>\n",
       "      <td>NaN</td>\n",
       "      <td>False</td>\n",
       "      <td>True</td>\n",
       "      <td>C8023365164599360FC4F40</td>\n",
       "      <td>2006-06-19 15:10:33.757000000</td>\n",
       "      <td>620.0000</td>\n",
       "      <td>639.0000</td>\n",
       "      <td>1981-07-08 00:00:00</td>\n",
       "      <td>NaN</td>\n",
       "      <td>NaN</td>\n",
       "      <td>41.0000</td>\n",
       "      <td>12</td>\n",
       "      <td>353.0000</td>\n",
       "      <td>2.0000</td>\n",
       "      <td>6.0000</td>\n",
       "      <td>1.0000</td>\n",
       "      <td>NaN</td>\n",
       "      <td>1.0000</td>\n",
       "      <td>1.0000</td>\n",
       "      <td>NaN</td>\n",
       "      <td>NaN</td>\n",
       "      <td>NaN</td>\n",
       "      <td>NaN</td>\n",
       "      <td>NaN</td>\n",
       "      <td>NaN</td>\n",
       "      <td>NaN</td>\n",
       "      <td>0.2100</td>\n",
       "      <td>Not displayed</td>\n",
       "      <td>True</td>\n",
       "      <td>6500.0000</td>\n",
       "      <td>371E33656761115422A3CC7</td>\n",
       "      <td>NaN</td>\n",
       "      <td>NaN</td>\n",
       "      <td>NaN</td>\n",
       "      <td>NaN</td>\n",
       "      <td>NaN</td>\n",
       "      <td>NaN</td>\n",
       "      <td>NaN</td>\n",
       "      <td>NaN</td>\n",
       "      <td>0</td>\n",
       "      <td>NaN</td>\n",
       "      <td>93</td>\n",
       "      <td>1601</td>\n",
       "      <td>3000</td>\n",
       "      <td>2006-06-27 00:00:00</td>\n",
       "      <td>Q2 2006</td>\n",
       "      <td>F5783364809150067E23240</td>\n",
       "      <td>113.7500</td>\n",
       "      <td>4105.9000</td>\n",
       "      <td>3000.0000</td>\n",
       "      <td>1105.9000</td>\n",
       "      <td>-25.7200</td>\n",
       "      <td>0.0000</td>\n",
       "      <td>0.0000</td>\n",
       "      <td>0.0000</td>\n",
       "      <td>0.0000</td>\n",
       "      <td>1.0000</td>\n",
       "      <td>0</td>\n",
       "      <td>0</td>\n",
       "      <td>0.0000</td>\n",
       "      <td>26</td>\n",
       "    </tr>\n",
       "    <tr>\n",
       "      <th>60771</th>\n",
       "      <td>0BFF3591181468933D9E58F</td>\n",
       "      <td>924648</td>\n",
       "      <td>2013-09-25 16:48:24.557000000</td>\n",
       "      <td>NaN</td>\n",
       "      <td>36</td>\n",
       "      <td>Current</td>\n",
       "      <td>NaN</td>\n",
       "      <td>0.0953</td>\n",
       "      <td>0.0819</td>\n",
       "      <td>0.0719</td>\n",
       "      <td>0.0704</td>\n",
       "      <td>0.0174</td>\n",
       "      <td>0.0530</td>\n",
       "      <td>7.0000</td>\n",
       "      <td>AA</td>\n",
       "      <td>11.0000</td>\n",
       "      <td>14</td>\n",
       "      <td>CO</td>\n",
       "      <td>Computer Programmer</td>\n",
       "      <td>Employed</td>\n",
       "      <td>15.0000</td>\n",
       "      <td>False</td>\n",
       "      <td>False</td>\n",
       "      <td>NaN</td>\n",
       "      <td>2013-09-25 16:54:46</td>\n",
       "      <td>740.0000</td>\n",
       "      <td>759.0000</td>\n",
       "      <td>2001-02-14 00:00:00</td>\n",
       "      <td>7.0000</td>\n",
       "      <td>6.0000</td>\n",
       "      <td>42.0000</td>\n",
       "      <td>5</td>\n",
       "      <td>162.0000</td>\n",
       "      <td>0.0000</td>\n",
       "      <td>1.0000</td>\n",
       "      <td>0.0000</td>\n",
       "      <td>0.0000</td>\n",
       "      <td>0.0000</td>\n",
       "      <td>0.0000</td>\n",
       "      <td>0.0000</td>\n",
       "      <td>3169.0000</td>\n",
       "      <td>0.0800</td>\n",
       "      <td>34031.0000</td>\n",
       "      <td>24.0000</td>\n",
       "      <td>0.9100</td>\n",
       "      <td>0.0000</td>\n",
       "      <td>0.1200</td>\n",
       "      <td>$50,000-74,999</td>\n",
       "      <td>True</td>\n",
       "      <td>4583.3333</td>\n",
       "      <td>F77C3694746461559E2F0E8</td>\n",
       "      <td>NaN</td>\n",
       "      <td>NaN</td>\n",
       "      <td>NaN</td>\n",
       "      <td>NaN</td>\n",
       "      <td>NaN</td>\n",
       "      <td>NaN</td>\n",
       "      <td>NaN</td>\n",
       "      <td>NaN</td>\n",
       "      <td>0</td>\n",
       "      <td>NaN</td>\n",
       "      <td>5</td>\n",
       "      <td>103521</td>\n",
       "      <td>2800</td>\n",
       "      <td>2013-10-01 00:00:00</td>\n",
       "      <td>Q4 2013</td>\n",
       "      <td>3E753694947816833DAE92B</td>\n",
       "      <td>87.9900</td>\n",
       "      <td>439.9500</td>\n",
       "      <td>349.6800</td>\n",
       "      <td>90.2700</td>\n",
       "      <td>-11.0300</td>\n",
       "      <td>0.0000</td>\n",
       "      <td>0.0000</td>\n",
       "      <td>0.0000</td>\n",
       "      <td>0.0000</td>\n",
       "      <td>1.0000</td>\n",
       "      <td>0</td>\n",
       "      <td>0</td>\n",
       "      <td>0.0000</td>\n",
       "      <td>59</td>\n",
       "    </tr>\n",
       "    <tr>\n",
       "      <th>16900</th>\n",
       "      <td>A788359030581799774B662</td>\n",
       "      <td>963957</td>\n",
       "      <td>2013-10-07 09:06:56.047000000</td>\n",
       "      <td>NaN</td>\n",
       "      <td>60</td>\n",
       "      <td>Current</td>\n",
       "      <td>NaN</td>\n",
       "      <td>0.2291</td>\n",
       "      <td>0.2045</td>\n",
       "      <td>0.1945</td>\n",
       "      <td>0.1797</td>\n",
       "      <td>0.0899</td>\n",
       "      <td>0.0898</td>\n",
       "      <td>4.0000</td>\n",
       "      <td>C</td>\n",
       "      <td>5.0000</td>\n",
       "      <td>2</td>\n",
       "      <td>FL</td>\n",
       "      <td>Other</td>\n",
       "      <td>Employed</td>\n",
       "      <td>62.0000</td>\n",
       "      <td>True</td>\n",
       "      <td>False</td>\n",
       "      <td>NaN</td>\n",
       "      <td>2013-10-07 09:06:58</td>\n",
       "      <td>700.0000</td>\n",
       "      <td>719.0000</td>\n",
       "      <td>2008-02-11 00:00:00</td>\n",
       "      <td>3.0000</td>\n",
       "      <td>3.0000</td>\n",
       "      <td>8.0000</td>\n",
       "      <td>2</td>\n",
       "      <td>0.0000</td>\n",
       "      <td>0.0000</td>\n",
       "      <td>2.0000</td>\n",
       "      <td>0.0000</td>\n",
       "      <td>0.0000</td>\n",
       "      <td>0.0000</td>\n",
       "      <td>0.0000</td>\n",
       "      <td>0.0000</td>\n",
       "      <td>0.0000</td>\n",
       "      <td>0.0000</td>\n",
       "      <td>0.0000</td>\n",
       "      <td>7.0000</td>\n",
       "      <td>1.0000</td>\n",
       "      <td>0.0000</td>\n",
       "      <td>0.1800</td>\n",
       "      <td>$25,000-49,999</td>\n",
       "      <td>True</td>\n",
       "      <td>3750.0000</td>\n",
       "      <td>DC643694397070995C0D09C</td>\n",
       "      <td>2.0000</td>\n",
       "      <td>55.0000</td>\n",
       "      <td>55.0000</td>\n",
       "      <td>0.0000</td>\n",
       "      <td>0.0000</td>\n",
       "      <td>31500.0000</td>\n",
       "      <td>4153.3100</td>\n",
       "      <td>NaN</td>\n",
       "      <td>0</td>\n",
       "      <td>NaN</td>\n",
       "      <td>5</td>\n",
       "      <td>105511</td>\n",
       "      <td>10000</td>\n",
       "      <td>2013-10-09 00:00:00</td>\n",
       "      <td>Q4 2013</td>\n",
       "      <td>162B346603267298438C8EF</td>\n",
       "      <td>267.4500</td>\n",
       "      <td>1069.8000</td>\n",
       "      <td>390.6900</td>\n",
       "      <td>679.1100</td>\n",
       "      <td>-33.2100</td>\n",
       "      <td>0.0000</td>\n",
       "      <td>0.0000</td>\n",
       "      <td>0.0000</td>\n",
       "      <td>0.0000</td>\n",
       "      <td>1.0000</td>\n",
       "      <td>0</td>\n",
       "      <td>0</td>\n",
       "      <td>0.0000</td>\n",
       "      <td>56</td>\n",
       "    </tr>\n",
       "    <tr>\n",
       "      <th>52381</th>\n",
       "      <td>1CED3410061402481803418</td>\n",
       "      <td>262932</td>\n",
       "      <td>2008-01-10 13:03:08.857000000</td>\n",
       "      <td>C</td>\n",
       "      <td>36</td>\n",
       "      <td>Completed</td>\n",
       "      <td>2011-01-17 00:00:00</td>\n",
       "      <td>0.2845</td>\n",
       "      <td>0.2700</td>\n",
       "      <td>0.2600</td>\n",
       "      <td>NaN</td>\n",
       "      <td>NaN</td>\n",
       "      <td>NaN</td>\n",
       "      <td>NaN</td>\n",
       "      <td>NaN</td>\n",
       "      <td>NaN</td>\n",
       "      <td>3</td>\n",
       "      <td>NaN</td>\n",
       "      <td>Other</td>\n",
       "      <td>Self-employed</td>\n",
       "      <td>142.0000</td>\n",
       "      <td>True</td>\n",
       "      <td>False</td>\n",
       "      <td>NaN</td>\n",
       "      <td>2008-01-10 12:54:39.953000000</td>\n",
       "      <td>640.0000</td>\n",
       "      <td>659.0000</td>\n",
       "      <td>1984-12-01 00:00:00</td>\n",
       "      <td>4.0000</td>\n",
       "      <td>5.0000</td>\n",
       "      <td>22.0000</td>\n",
       "      <td>3</td>\n",
       "      <td>187.0000</td>\n",
       "      <td>2.0000</td>\n",
       "      <td>3.0000</td>\n",
       "      <td>2.0000</td>\n",
       "      <td>2845.0000</td>\n",
       "      <td>1.0000</td>\n",
       "      <td>1.0000</td>\n",
       "      <td>1.0000</td>\n",
       "      <td>4686.0000</td>\n",
       "      <td>1.1100</td>\n",
       "      <td>0.0000</td>\n",
       "      <td>22.0000</td>\n",
       "      <td>0.7700</td>\n",
       "      <td>0.0000</td>\n",
       "      <td>0.1000</td>\n",
       "      <td>$75,000-99,999</td>\n",
       "      <td>True</td>\n",
       "      <td>6666.6667</td>\n",
       "      <td>DC6034104992059416FF25F</td>\n",
       "      <td>1.0000</td>\n",
       "      <td>15.0000</td>\n",
       "      <td>14.0000</td>\n",
       "      <td>1.0000</td>\n",
       "      <td>0.0000</td>\n",
       "      <td>8000.0000</td>\n",
       "      <td>5158.3000</td>\n",
       "      <td>-40.0000</td>\n",
       "      <td>0</td>\n",
       "      <td>NaN</td>\n",
       "      <td>74</td>\n",
       "      <td>25583</td>\n",
       "      <td>4000</td>\n",
       "      <td>2008-01-17 00:00:00</td>\n",
       "      <td>Q1 2008</td>\n",
       "      <td>0EE03370354441048C99310</td>\n",
       "      <td>163.3000</td>\n",
       "      <td>5879.7900</td>\n",
       "      <td>4000.0000</td>\n",
       "      <td>1879.7900</td>\n",
       "      <td>-69.6300</td>\n",
       "      <td>0.0000</td>\n",
       "      <td>0.0000</td>\n",
       "      <td>0.0000</td>\n",
       "      <td>0.0000</td>\n",
       "      <td>1.0000</td>\n",
       "      <td>0</td>\n",
       "      <td>0</td>\n",
       "      <td>0.0000</td>\n",
       "      <td>48</td>\n",
       "    </tr>\n",
       "  </tbody>\n",
       "</table>\n",
       "</div>"
      ],
      "text/plain": [
       "                    ListingKey  ListingNumber            ListingCreationDate  \\\n",
       "77237  A575336459785020669A5EF          20557  2006-06-19 15:30:23.607000000   \n",
       "60771  0BFF3591181468933D9E58F         924648  2013-09-25 16:48:24.557000000   \n",
       "16900  A788359030581799774B662         963957  2013-10-07 09:06:56.047000000   \n",
       "52381  1CED3410061402481803418         262932  2008-01-10 13:03:08.857000000   \n",
       "\n",
       "      CreditGrade  Term LoanStatus           ClosedDate  BorrowerAPR  \\\n",
       "77237           D    36  Completed  2009-06-27 00:00:00       0.2375   \n",
       "60771         NaN    36    Current                  NaN       0.0953   \n",
       "16900         NaN    60    Current                  NaN       0.2291   \n",
       "52381           C    36  Completed  2011-01-17 00:00:00       0.2845   \n",
       "\n",
       "       BorrowerRate  LenderYield  EstimatedEffectiveYield  EstimatedLoss  \\\n",
       "77237        0.2300       0.2100                      NaN            NaN   \n",
       "60771        0.0819       0.0719                   0.0704         0.0174   \n",
       "16900        0.2045       0.1945                   0.1797         0.0899   \n",
       "52381        0.2700       0.2600                      NaN            NaN   \n",
       "\n",
       "       EstimatedReturn  ProsperRating (numeric) ProsperRating (Alpha)  \\\n",
       "77237              NaN                      NaN                   NaN   \n",
       "60771           0.0530                   7.0000                    AA   \n",
       "16900           0.0898                   4.0000                     C   \n",
       "52381              NaN                      NaN                   NaN   \n",
       "\n",
       "       ProsperScore  ListingCategory (numeric) BorrowerState  \\\n",
       "77237           NaN                          0            MI   \n",
       "60771       11.0000                         14            CO   \n",
       "16900        5.0000                          2            FL   \n",
       "52381           NaN                          3           NaN   \n",
       "\n",
       "                Occupation EmploymentStatus  EmploymentStatusDuration  \\\n",
       "77237                  NaN              NaN                       NaN   \n",
       "60771  Computer Programmer         Employed                   15.0000   \n",
       "16900                Other         Employed                   62.0000   \n",
       "52381                Other    Self-employed                  142.0000   \n",
       "\n",
       "       IsBorrowerHomeowner  CurrentlyInGroup                 GroupKey  \\\n",
       "77237                False              True  C8023365164599360FC4F40   \n",
       "60771                False             False                      NaN   \n",
       "16900                 True             False                      NaN   \n",
       "52381                 True             False                      NaN   \n",
       "\n",
       "                    DateCreditPulled  CreditScoreRangeLower  \\\n",
       "77237  2006-06-19 15:10:33.757000000               620.0000   \n",
       "60771            2013-09-25 16:54:46               740.0000   \n",
       "16900            2013-10-07 09:06:58               700.0000   \n",
       "52381  2008-01-10 12:54:39.953000000               640.0000   \n",
       "\n",
       "       CreditScoreRangeUpper FirstRecordedCreditLine  CurrentCreditLines  \\\n",
       "77237               639.0000     1981-07-08 00:00:00                 NaN   \n",
       "60771               759.0000     2001-02-14 00:00:00              7.0000   \n",
       "16900               719.0000     2008-02-11 00:00:00              3.0000   \n",
       "52381               659.0000     1984-12-01 00:00:00              4.0000   \n",
       "\n",
       "       OpenCreditLines  TotalCreditLinespast7years  OpenRevolvingAccounts  \\\n",
       "77237              NaN                     41.0000                     12   \n",
       "60771           6.0000                     42.0000                      5   \n",
       "16900           3.0000                      8.0000                      2   \n",
       "52381           5.0000                     22.0000                      3   \n",
       "\n",
       "       OpenRevolvingMonthlyPayment  InquiriesLast6Months  TotalInquiries  \\\n",
       "77237                     353.0000                2.0000          6.0000   \n",
       "60771                     162.0000                0.0000          1.0000   \n",
       "16900                       0.0000                0.0000          2.0000   \n",
       "52381                     187.0000                2.0000          3.0000   \n",
       "\n",
       "       CurrentDelinquencies  AmountDelinquent  DelinquenciesLast7Years  \\\n",
       "77237                1.0000               NaN                   1.0000   \n",
       "60771                0.0000            0.0000                   0.0000   \n",
       "16900                0.0000            0.0000                   0.0000   \n",
       "52381                2.0000         2845.0000                   1.0000   \n",
       "\n",
       "       PublicRecordsLast10Years  PublicRecordsLast12Months  \\\n",
       "77237                    1.0000                        NaN   \n",
       "60771                    0.0000                     0.0000   \n",
       "16900                    0.0000                     0.0000   \n",
       "52381                    1.0000                     1.0000   \n",
       "\n",
       "       RevolvingCreditBalance  BankcardUtilization  AvailableBankcardCredit  \\\n",
       "77237                     NaN                  NaN                      NaN   \n",
       "60771               3169.0000               0.0800               34031.0000   \n",
       "16900                  0.0000               0.0000                   0.0000   \n",
       "52381               4686.0000               1.1100                   0.0000   \n",
       "\n",
       "       TotalTrades  TradesNeverDelinquent (percentage)  \\\n",
       "77237          NaN                                 NaN   \n",
       "60771      24.0000                              0.9100   \n",
       "16900       7.0000                              1.0000   \n",
       "52381      22.0000                              0.7700   \n",
       "\n",
       "       TradesOpenedLast6Months  DebtToIncomeRatio     IncomeRange  \\\n",
       "77237                      NaN             0.2100   Not displayed   \n",
       "60771                   0.0000             0.1200  $50,000-74,999   \n",
       "16900                   0.0000             0.1800  $25,000-49,999   \n",
       "52381                   0.0000             0.1000  $75,000-99,999   \n",
       "\n",
       "       IncomeVerifiable  StatedMonthlyIncome                  LoanKey  \\\n",
       "77237              True            6500.0000  371E33656761115422A3CC7   \n",
       "60771              True            4583.3333  F77C3694746461559E2F0E8   \n",
       "16900              True            3750.0000  DC643694397070995C0D09C   \n",
       "52381              True            6666.6667  DC6034104992059416FF25F   \n",
       "\n",
       "       TotalProsperLoans  TotalProsperPaymentsBilled  OnTimeProsperPayments  \\\n",
       "77237                NaN                         NaN                    NaN   \n",
       "60771                NaN                         NaN                    NaN   \n",
       "16900             2.0000                     55.0000                55.0000   \n",
       "52381             1.0000                     15.0000                14.0000   \n",
       "\n",
       "       ProsperPaymentsLessThanOneMonthLate  ProsperPaymentsOneMonthPlusLate  \\\n",
       "77237                                  NaN                              NaN   \n",
       "60771                                  NaN                              NaN   \n",
       "16900                               0.0000                           0.0000   \n",
       "52381                               1.0000                           0.0000   \n",
       "\n",
       "       ProsperPrincipalBorrowed  ProsperPrincipalOutstanding  \\\n",
       "77237                       NaN                          NaN   \n",
       "60771                       NaN                          NaN   \n",
       "16900                31500.0000                    4153.3100   \n",
       "52381                 8000.0000                    5158.3000   \n",
       "\n",
       "       ScorexChangeAtTimeOfListing  LoanCurrentDaysDelinquent  \\\n",
       "77237                          NaN                          0   \n",
       "60771                          NaN                          0   \n",
       "16900                          NaN                          0   \n",
       "52381                     -40.0000                          0   \n",
       "\n",
       "       LoanFirstDefaultedCycleNumber  LoanMonthsSinceOrigination  LoanNumber  \\\n",
       "77237                            NaN                          93        1601   \n",
       "60771                            NaN                           5      103521   \n",
       "16900                            NaN                           5      105511   \n",
       "52381                            NaN                          74       25583   \n",
       "\n",
       "       LoanOriginalAmount  LoanOriginationDate LoanOriginationQuarter  \\\n",
       "77237                3000  2006-06-27 00:00:00                Q2 2006   \n",
       "60771                2800  2013-10-01 00:00:00                Q4 2013   \n",
       "16900               10000  2013-10-09 00:00:00                Q4 2013   \n",
       "52381                4000  2008-01-17 00:00:00                Q1 2008   \n",
       "\n",
       "                     MemberKey  MonthlyLoanPayment  LP_CustomerPayments  \\\n",
       "77237  F5783364809150067E23240            113.7500            4105.9000   \n",
       "60771  3E753694947816833DAE92B             87.9900             439.9500   \n",
       "16900  162B346603267298438C8EF            267.4500            1069.8000   \n",
       "52381  0EE03370354441048C99310            163.3000            5879.7900   \n",
       "\n",
       "       LP_CustomerPrincipalPayments  LP_InterestandFees  LP_ServiceFees  \\\n",
       "77237                     3000.0000           1105.9000        -25.7200   \n",
       "60771                      349.6800             90.2700        -11.0300   \n",
       "16900                      390.6900            679.1100        -33.2100   \n",
       "52381                     4000.0000           1879.7900        -69.6300   \n",
       "\n",
       "       LP_CollectionFees  LP_GrossPrincipalLoss  LP_NetPrincipalLoss  \\\n",
       "77237             0.0000                 0.0000               0.0000   \n",
       "60771             0.0000                 0.0000               0.0000   \n",
       "16900             0.0000                 0.0000               0.0000   \n",
       "52381             0.0000                 0.0000               0.0000   \n",
       "\n",
       "       LP_NonPrincipalRecoverypayments  PercentFunded  Recommendations  \\\n",
       "77237                           0.0000         1.0000                0   \n",
       "60771                           0.0000         1.0000                0   \n",
       "16900                           0.0000         1.0000                0   \n",
       "52381                           0.0000         1.0000                0   \n",
       "\n",
       "       InvestmentFromFriendsCount  InvestmentFromFriendsAmount  Investors  \n",
       "77237                           0                       0.0000         26  \n",
       "60771                           0                       0.0000         59  \n",
       "16900                           0                       0.0000         56  \n",
       "52381                           0                       0.0000         48  "
      ]
     },
     "execution_count": 102,
     "metadata": {},
     "output_type": "execute_result"
    }
   ],
   "source": [
    "# see sample of data\n",
    "loanDF.sample(4)"
   ]
  },
  {
   "cell_type": "markdown",
   "metadata": {
    "tags": []
   },
   "source": [
    "## Structure of Dataset summarized\n",
    "* ~114,000 records with 81 characteritics on completed, defaulted, current, & other types of bank loans. <br>\n",
    "### Noteable Features\n",
    "IncomeRange, CreditGrade, Term, LoanStatus, CloseDate, BorowerAPR, BorrowerRate,  LenderYield, EstimatedEffectiveYield, EstimatedLoss, EstimatedReturn, ProsperRating (numeric), ProsperRating (Alpha), ProsperScore, ListingCategory (numeric), BorrowerState, Occupation, ExmploymentStatus, ExmploymentStatusDuration, ListingNumber, ListingCreationDate, \n",
    "\n",
    "### Assessing Dataset\n",
    "\n",
    "* Roughly 20 features can be removed to make it easier to manage the data <br>\n",
    "* 4 (features)variables express dates, e.g. ListingCreationDate, ClosedDate, DateCreditPulled, LoanOriginationDate. Convert to datetime type<br>\n",
    "* Several (variables)columns types need to be converted, e.g. CreditGrade, ProsperRating (Alpha), IncomeRange to ordered categorical type<br>\n"
   ]
  },
  {
   "cell_type": "code",
   "execution_count": 103,
   "metadata": {},
   "outputs": [],
   "source": [
    "##################### DELETE THIS CELL? ########################################################\n",
    "# Columns to keep\n",
    "keep = ['ListingNumber','ListingCreationDate','CreditGrade','Term','LoanStatus','CloseDate','BorrowerAPR','BorrowerRate',\n",
    "    'LenderYield','EstimatedEffectiveYield','EstimatedLoss','EstimatedReturn','ProsperRating (numeric)','ProsperRating (Alpha)',\n",
    "    'ProsperScore','ListingCategory (numeric)','BorrowerState','Occupation','ExmploymentStatus','ExmploymentStatusDuration']"
   ]
  },
  {
   "cell_type": "code",
   "execution_count": 104,
   "metadata": {},
   "outputs": [],
   "source": [
    "# Columns to remove\n",
    "remove = ['ListingKey', 'TotalTrades','TradesNeverDelinquent (percentage)', 'LoanKey','TotalProsperLoans','OnTimeProsperPayments','ProsperPaymentsLessThanOneMonthLate','ProsperPrincipalBorrowed',\n",
    "          'ProsperPaymentsOneMonthPlusLate','ProsperPrincipalOutstanding','ScorexChangeAtTimeOfListing','LoanCurrentDaysDelinquent','LoanFirstDefaultedCycleNumber','LoanMonthsSinceOrigination',\n",
    "          'LoanNumber','MemberKey']"
   ]
  },
  {
   "cell_type": "markdown",
   "metadata": {},
   "source": [
    "## Data Cleaning"
   ]
  },
  {
   "cell_type": "markdown",
   "metadata": {},
   "source": [
    "### Remove features that have too much data missing, provide no meaningful purpose, or validity in the present analysis."
   ]
  },
  {
   "cell_type": "code",
   "execution_count": 105,
   "metadata": {},
   "outputs": [
    {
     "data": {
      "text/plain": [
       "Index(['ListingNumber', 'ListingCreationDate', 'CreditGrade', 'Term',\n",
       "       'LoanStatus', 'ClosedDate', 'BorrowerAPR', 'BorrowerRate',\n",
       "       'LenderYield', 'EstimatedEffectiveYield', 'EstimatedLoss',\n",
       "       'EstimatedReturn', 'ProsperRating (numeric)', 'ProsperRating (Alpha)',\n",
       "       'ProsperScore', 'ListingCategory (numeric)', 'BorrowerState',\n",
       "       'Occupation', 'EmploymentStatus', 'EmploymentStatusDuration',\n",
       "       'IsBorrowerHomeowner', 'CurrentlyInGroup', 'GroupKey',\n",
       "       'DateCreditPulled', 'CreditScoreRangeLower', 'CreditScoreRangeUpper',\n",
       "       'FirstRecordedCreditLine', 'CurrentCreditLines', 'OpenCreditLines',\n",
       "       'TotalCreditLinespast7years', 'OpenRevolvingAccounts',\n",
       "       'OpenRevolvingMonthlyPayment', 'InquiriesLast6Months', 'TotalInquiries',\n",
       "       'CurrentDelinquencies', 'AmountDelinquent', 'DelinquenciesLast7Years',\n",
       "       'PublicRecordsLast10Years', 'PublicRecordsLast12Months',\n",
       "       'RevolvingCreditBalance', 'BankcardUtilization',\n",
       "       'AvailableBankcardCredit', 'TradesOpenedLast6Months',\n",
       "       'DebtToIncomeRatio', 'IncomeRange', 'IncomeVerifiable',\n",
       "       'StatedMonthlyIncome', 'TotalProsperPaymentsBilled',\n",
       "       'LoanOriginalAmount', 'LoanOriginationDate', 'LoanOriginationQuarter',\n",
       "       'MonthlyLoanPayment', 'LP_CustomerPayments',\n",
       "       'LP_CustomerPrincipalPayments', 'LP_InterestandFees', 'LP_ServiceFees',\n",
       "       'LP_CollectionFees', 'LP_GrossPrincipalLoss', 'LP_NetPrincipalLoss',\n",
       "       'LP_NonPrincipalRecoverypayments', 'PercentFunded', 'Recommendations',\n",
       "       'InvestmentFromFriendsCount', 'InvestmentFromFriendsAmount',\n",
       "       'Investors'],\n",
       "      dtype='object')"
      ]
     },
     "execution_count": 105,
     "metadata": {},
     "output_type": "execute_result"
    }
   ],
   "source": [
    "# remove columns defined in 'remove' list to work with a roughly smaller dataframe\n",
    "# show/verify remaining columns after removal\n",
    "\n",
    "loanDF = loanDF.drop(remove, axis=1)\n",
    "loanDF.columns"
   ]
  },
  {
   "cell_type": "markdown",
   "metadata": {},
   "source": [
    "### Convert alpha columns into ordered categories"
   ]
  },
  {
   "cell_type": "code",
   "execution_count": 106,
   "metadata": {
    "tags": []
   },
   "outputs": [],
   "source": [
    "# This is where the ordinal_categories will be defined & converted\n",
    "# convert CreditGrade, ProsperRating (Alpha), & IncomeRange to ordinal categorical types\n",
    "# CreditGrade, & ProsperRating (Alpha): order assumed\n",
    "\n",
    "ordinal_dict = {'CreditGrade': ['AA','A','B','C','D','E','HR'],\n",
    "                    'ProsperRating (Alpha)': ['AA','A','B','C','D','E','HR'],\n",
    "                    'IncomeRange': ['$100,000+','$75,000-99,999','$50,000-74,999','$25,000-49,999',\n",
    "                                   '$1-24,999','0','Not employed','Not displayed']}\n",
    "\n",
    "for var in ordinal_dict:\n",
    "    ordered_var = pd.api.types.CategoricalDtype(ordered=True, categories=ordinal_dict[var])\n",
    "    loanDF[var] = loanDF[var].astype(ordered_var)    "
   ]
  },
  {
   "cell_type": "code",
   "execution_count": 107,
   "metadata": {},
   "outputs": [
    {
     "data": {
      "text/plain": [
       "CategoricalDtype(categories=['AA', 'A', 'B', 'C', 'D', 'E', 'HR'], ordered=True)"
      ]
     },
     "execution_count": 107,
     "metadata": {},
     "output_type": "execute_result"
    }
   ],
   "source": [
    "# confirm ordered categorical datatype converted\n",
    "loanDF.CreditGrade.dtype"
   ]
  },
  {
   "cell_type": "code",
   "execution_count": 108,
   "metadata": {},
   "outputs": [
    {
     "data": {
      "text/plain": [
       "CategoricalDtype(categories=['$100,000+', '$75,000-99,999', '$50,000-74,999',\n",
       "                  '$25,000-49,999', '$1-24,999', '0', 'Not employed',\n",
       "                  'Not displayed'],\n",
       ", ordered=True)"
      ]
     },
     "execution_count": 108,
     "metadata": {},
     "output_type": "execute_result"
    }
   ],
   "source": [
    "# confirm IncomeRange dtype converted\n",
    "loanDF.IncomeRange.dtype"
   ]
  },
  {
   "cell_type": "markdown",
   "metadata": {},
   "source": [
    "### Datatime type updates"
   ]
  },
  {
   "cell_type": "code",
   "execution_count": 109,
   "metadata": {},
   "outputs": [],
   "source": [
    "# Convert type of date fields to datetime64[ns]\n",
    "\n",
    "datecols = ['ListingCreationDate','ClosedDate','DateCreditPulled','LoanOriginationDate']\n",
    "\n",
    "for datecol in datecols:\n",
    "    loanDF[datecol] = pd.to_datetime(loanDF[datecol])"
   ]
  },
  {
   "cell_type": "code",
   "execution_count": 110,
   "metadata": {},
   "outputs": [
    {
     "data": {
      "text/plain": [
       "dtype('<M8[ns]')"
      ]
     },
     "execution_count": 110,
     "metadata": {},
     "output_type": "execute_result"
    }
   ],
   "source": [
    "# Verify conversion successful\n",
    "loanDF.ListingCreationDate.dtype"
   ]
  },
  {
   "cell_type": "code",
   "execution_count": 111,
   "metadata": {},
   "outputs": [
    {
     "data": {
      "text/plain": [
       "dtype('<M8[ns]')"
      ]
     },
     "execution_count": 111,
     "metadata": {},
     "output_type": "execute_result"
    }
   ],
   "source": [
    "# Verify conversion successful\n",
    "loanDF.ListingCreationDate.dtype"
   ]
  },
  {
   "cell_type": "markdown",
   "metadata": {},
   "source": [
    "*If LoanOriginationQuarter is used for analysis it will need cleaning. For example \"Q3 2015\" should be \"Q3\", 3 or similar. The year should be removed as it's labelled in the LoanOriginationDATE, therefore, redundant.*"
   ]
  },
  {
   "cell_type": "code",
   "execution_count": 112,
   "metadata": {},
   "outputs": [],
   "source": [
    "# pull year out This would normally be delt with let's see if we want to use it.\n",
    "# 'LoanOriginationQuarter'"
   ]
  },
  {
   "cell_type": "markdown",
   "metadata": {},
   "source": [
    "## This analysis will explore:\n",
    "1. What are some common characteristics of 'successful' (completed) vs 'failed' (defaulted & chargedoff) loans?\n",
    "2. Are there any surprising characteristics of 'successful' loans?\n",
    "3. Do some of the expected/obvious value relationships check out? \n",
    "    a. higher creditscores correlate with lower interest rates\n",
    "    b. high credit scores have higher rate of completion(repayment)\n",
    "    c. low debt to income ratio correlates to higher IncomeRange\n",
    "\n",
    "4. What are common characteristics of borrowers who have high interest rate, or default, or certain occupation?\n",
    "\n",
    "## Features in the dataset that will help support the investigation\n",
    "1. LoanStatus, "
   ]
  },
  {
   "cell_type": "markdown",
   "metadata": {
    "tags": []
   },
   "source": [
    "# END of Data Wrangling\n",
    "# \n",
    "# START of Analysis"
   ]
  },
  {
   "cell_type": "markdown",
   "metadata": {},
   "source": [
    "## Demographics"
   ]
  },
  {
   "cell_type": "code",
   "execution_count": 234,
   "metadata": {},
   "outputs": [
    {
     "data": {
      "text/plain": [
       "BorrowerState\n",
       "ND    3279.653846153846\n",
       "ME    3635.039603960396\n",
       "IA   3714.0806451612902\n",
       "ID    4181.806343906511\n",
       "MT    4234.772727272727\n",
       "SD   4322.9047619047615\n",
       "MO    4710.546845124283\n",
       "UT    4747.451539338655\n",
       "AL    4759.589636688505\n",
       "NE    4796.241839762612\n",
       "VT    4817.429951690821\n",
       "AR    4851.543859649123\n",
       "MN    4912.573770491803\n",
       "WI   4920.5846905537455\n",
       "MS    4923.311308767471\n",
       "KY     4929.05493387589\n",
       "OK    4930.700308959836\n",
       "MI    4931.872529919287\n",
       "OH    4964.597569692638\n",
       "WV    4971.434782608696\n",
       "TN    5050.882556131261\n",
       "IN    5094.556785370549\n",
       "KS    5148.343691148776\n",
       "SC    5230.617647058823\n",
       "LA   5274.5503144654085\n",
       "WY    5300.173333333333\n",
       "AZ    5346.714886901631\n",
       "WA    5379.247047244095\n",
       "FL    5398.901636904762\n",
       "PA    5415.518169582772\n",
       "NC      5424.9682230869\n",
       "GA    5460.474041533546\n",
       "RI    5533.466666666666\n",
       "NM    5545.277542372882\n",
       "NV    5588.870642201835\n",
       "IL    5590.496706637392\n",
       "CO    5647.218552036199\n",
       "OR    5661.970280682443\n",
       "DE              5753.95\n",
       "NH    5855.021778584392\n",
       "AK              5880.33\n",
       "TX    6134.155217772581\n",
       "CA    6184.518516001903\n",
       "MA     6189.85682426405\n",
       "HI     6221.59413202934\n",
       "NY   6225.5595185020065\n",
       "VA     6508.24466137889\n",
       "MD     6515.70152428217\n",
       "NJ    6806.694543106232\n",
       "DC    6821.924083769633\n",
       "CT    7394.390288875231\n",
       "Name: StatedMonthlyIncome, dtype: float64"
      ]
     },
     "execution_count": 234,
     "metadata": {},
     "output_type": "execute_result"
    }
   ],
   "source": [
    "loanDF.groupby('BorrowerState')['StatedMonthlyIncome'].mean().sort_values()"
   ]
  },
  {
   "cell_type": "code",
   "execution_count": null,
   "metadata": {},
   "outputs": [],
   "source": []
  },
  {
   "cell_type": "code",
   "execution_count": 113,
   "metadata": {},
   "outputs": [
    {
     "data": {
      "text/plain": [
       "$25,000-49,999    32192\n",
       "$50,000-74,999    31050\n",
       "$100,000+         17337\n",
       "$75,000-99,999    16916\n",
       "Not displayed      7741\n",
       "$1-24,999          7274\n",
       "Not employed        806\n",
       "0                     0\n",
       "Name: IncomeRange, dtype: int64"
      ]
     },
     "execution_count": 113,
     "metadata": {},
     "output_type": "execute_result"
    }
   ],
   "source": [
    "# Review IncomeRange for all loans - numerically\n",
    "loanDF['IncomeRange'].value_counts()"
   ]
  },
  {
   "cell_type": "code",
   "execution_count": 114,
   "metadata": {},
   "outputs": [
    {
     "data": {
      "image/png": "[encoded data removed]",
      "text/plain": [
       "<Figure size 360x360 with 1 Axes>"
      ]
     },
     "metadata": {},
     "output_type": "display_data"
    }
   ],
   "source": [
    "# see distribution of data on IncomeRange\n",
    "sb.displot(data=loanDF, x='IncomeRange')\n",
    "plt.xticks(rotation=75);"
   ]
  },
  {
   "cell_type": "markdown",
   "metadata": {},
   "source": [
    "## Histogram Analysis - IncomeRange\n",
    "* Roughly the same number of loans represented for IncomeRange 100k+ and 75k-100k, 17k records\n",
    "* Roughly the same number of loans represented for IncomeRange 50k-75k and 25k-50k, 32k records\n",
    "* Additional visuals will be using IncomeRange below\n"
   ]
  },
  {
   "cell_type": "code",
   "execution_count": 115,
   "metadata": {},
   "outputs": [
    {
     "data": {
      "text/plain": [
       "4166.6667     3526\n",
       "5000.0000     3389\n",
       "3333.3333     2917\n",
       "3750.0000     2428\n",
       "5416.6667     2374\n",
       "              ... \n",
       "7069.9167        1\n",
       "4266.3333        1\n",
       "2211.7500        1\n",
       "7032.9167        1\n",
       "18756.0000       1\n",
       "Name: StatedMonthlyIncome, Length: 13502, dtype: int64"
      ]
     },
     "execution_count": 115,
     "metadata": {},
     "output_type": "execute_result"
    }
   ],
   "source": [
    "loanDF['StatedMonthlyIncome'].value_counts()"
   ]
  },
  {
   "cell_type": "code",
   "execution_count": 207,
   "metadata": {},
   "outputs": [
    {
     "data": {
      "text/plain": [
       "count             113937.0\n",
       "mean     5607.706925757217\n",
       "std     7478.4905102183375\n",
       "min                    0.0\n",
       "25%                 3200.0\n",
       "50%                 4666.0\n",
       "75%                 6825.0\n",
       "max              1750002.0\n",
       "Name: StatedMonthlyIncome, dtype: float64"
      ]
     },
     "execution_count": 207,
     "metadata": {},
     "output_type": "execute_result"
    }
   ],
   "source": [
    "loanDF['StatedMonthlyIncome'].describe()"
   ]
  },
  {
   "cell_type": "code",
   "execution_count": 229,
   "metadata": {
    "scrolled": true,
    "tags": []
   },
   "outputs": [
    {
     "data": {
      "text/plain": [
       "154"
      ]
     },
     "execution_count": 229,
     "metadata": {},
     "output_type": "execute_result"
    }
   ],
   "source": [
    "# HOw many records represent person's claiming to earn $40,000/month+\n",
    "loanDF[loanDF.StatedMonthlyIncome >= 40000]['ListingNumber'].count()"
   ]
  },
  {
   "cell_type": "code",
   "execution_count": 221,
   "metadata": {},
   "outputs": [
    {
     "data": {
      "text/plain": [
       "Text(0.5, 0, 'Stated Monthly Income')"
      ]
     },
     "execution_count": 221,
     "metadata": {},
     "output_type": "execute_result"
    },
    {
     "data": {
      "image/png": "[encoded data removed]",
      "text/plain": [
       "<Figure size 720x576 with 1 Axes>"
      ]
     },
     "metadata": {},
     "output_type": "display_data"
    }
   ],
   "source": [
    "bins = np.arange(min(loanDF['StatedMonthlyIncome']), max(loanDF['StatedMonthlyIncome']), 10000)\n",
    "plt.figure(figsize=[10,8])\n",
    "\n",
    "plt.ticklabel_format(axis='both', style='plain')\n",
    "plt.hist(data=loanDF, x='StatedMonthlyIncome', bins=10000)\n",
    "plt.xlim([0,30000])\n",
    "plt.xlabel('Stated Monthly Income')"
   ]
  },
  {
   "cell_type": "code",
   "execution_count": 117,
   "metadata": {},
   "outputs": [
    {
     "data": {
      "text/plain": [
       "<AxesSubplot:xlabel='StatedMonthlyIncome', ylabel='Density'>"
      ]
     },
     "execution_count": 117,
     "metadata": {},
     "output_type": "execute_result"
    },
    {
     "data": {
      "image/png": "[encoded data removed]",
      "text/plain": [
       "<Figure size 432x288 with 1 Axes>"
      ]
     },
     "metadata": {},
     "output_type": "display_data"
    }
   ],
   "source": [
    "sb.kdeplot(data=loanDF, x='StatedMonthlyIncome')"
   ]
  },
  {
   "cell_type": "markdown",
   "metadata": {},
   "source": [
    "## Histogram Analysis - StatedMonthlyIncome"
   ]
  },
  {
   "cell_type": "code",
   "execution_count": 118,
   "metadata": {},
   "outputs": [
    {
     "data": {
      "text/plain": [
       "C     18345\n",
       "B     15581\n",
       "A     14551\n",
       "D     14274\n",
       "E      9795\n",
       "HR     6935\n",
       "AA     5372\n",
       "Name: ProsperRating (Alpha), dtype: int64"
      ]
     },
     "execution_count": 118,
     "metadata": {},
     "output_type": "execute_result"
    }
   ],
   "source": [
    "loanDF['ProsperRating (Alpha)'].value_counts()"
   ]
  },
  {
   "cell_type": "code",
   "execution_count": 119,
   "metadata": {},
   "outputs": [
    {
     "data": {
      "image/png": "[encoded data removed]",
      "text/plain": [
       "<Figure size 360x360 with 1 Axes>"
      ]
     },
     "metadata": {},
     "output_type": "display_data"
    }
   ],
   "source": [
    "sb.displot(data=loanDF, x='ProsperRating (Alpha)');"
   ]
  },
  {
   "cell_type": "markdown",
   "metadata": {},
   "source": [
    "## Histogram Analysis - ProsperRating (Alpha)\n",
    "\n",
    "* Follows a normal distribution curve where 'C' represents the median (roughly)\n",
    "* As expected "
   ]
  },
  {
   "cell_type": "code",
   "execution_count": 120,
   "metadata": {},
   "outputs": [
    {
     "data": {
      "text/plain": [
       "Current                   56576\n",
       "Completed                 38074\n",
       "Chargedoff                11992\n",
       "Defaulted                  5018\n",
       "Past Due (1-15 days)        806\n",
       "Past Due (31-60 days)       363\n",
       "Past Due (61-90 days)       313\n",
       "Past Due (91-120 days)      304\n",
       "Past Due (16-30 days)       265\n",
       "FinalPaymentInProgress      205\n",
       "Past Due (>120 days)         16\n",
       "Cancelled                     5\n",
       "Name: LoanStatus, dtype: int64"
      ]
     },
     "execution_count": 120,
     "metadata": {},
     "output_type": "execute_result"
    }
   ],
   "source": [
    "# reveal number of records according to their LoanStatus\n",
    "loanDF.LoanStatus.value_counts()"
   ]
  },
  {
   "cell_type": "code",
   "execution_count": 121,
   "metadata": {},
   "outputs": [
    {
     "data": {
      "image/png": "[encoded data removed]",
      "text/plain": [
       "<Figure size 1080x576 with 1 Axes>"
      ]
     },
     "metadata": {},
     "output_type": "display_data"
    }
   ],
   "source": [
    "# Visualize LoanStatus distribution\n",
    "\n",
    "fig = plt.figure(figsize=[15,8])\n",
    "ax = fig.add_axes([0.125, 0.125, 0.775, 0.775])\n",
    "ax.tick_params(axis='x', rotation=60)\n",
    "sb.countplot(data=loanDF, x='LoanStatus', color=sb.color_palette()[3], order=loanDF.LoanStatus.value_counts().index);"
   ]
  },
  {
   "cell_type": "markdown",
   "metadata": {
    "tags": []
   },
   "source": [
    "## Countplot analysis - LoanStatus\n",
    "> As expected the majority of the bank loans are either current(good standing) or completed. However there is a healthy no. of ChargedOffs & Defaulted loans.<br/>\n",
    "> I would like further analysis of ChargedOff & Defaulted "
   ]
  },
  {
   "cell_type": "code",
   "execution_count": 122,
   "metadata": {},
   "outputs": [],
   "source": [
    "loanDF3 = loanDF.copy()"
   ]
  },
  {
   "cell_type": "code",
   "execution_count": 123,
   "metadata": {},
   "outputs": [],
   "source": [
    "# THIS IS NOT WORKING AS INTENTED\n",
    "#loanDF3.drop(loanDF3.query('LoanStatus == \"Completed\" and LoanStatus == \"Current\"').index, inplace=True)\n",
    "#loanDF3.sample(15)"
   ]
  },
  {
   "cell_type": "code",
   "execution_count": 124,
   "metadata": {},
   "outputs": [
    {
     "data": {
      "text/plain": [
       "' Columns with small amount of data\\nEstimatedEffectiveYield\\nEstimatedLoss          \\nEstimatedReturn        \\nProsperRating (numeric)\\nProsperRating (Alpha)  \\nProsperScore           \\n'"
      ]
     },
     "execution_count": 124,
     "metadata": {},
     "output_type": "execute_result"
    }
   ],
   "source": [
    "''' Columns with small amount of data\n",
    "EstimatedEffectiveYield\n",
    "EstimatedLoss          \n",
    "EstimatedReturn        \n",
    "ProsperRating (numeric)\n",
    "ProsperRating (Alpha)  \n",
    "ProsperScore           \n",
    "'''"
   ]
  },
  {
   "cell_type": "code",
   "execution_count": 125,
   "metadata": {},
   "outputs": [
    {
     "data": {
      "image/png": "[encoded data removed]",
      "text/plain": [
       "<Figure size 1080x576 with 2 Axes>"
      ]
     },
     "metadata": {},
     "output_type": "display_data"
    }
   ],
   "source": [
    "plt.figure(figsize=[15,8])\n",
    "#fig, (ax1, ax2) = plt.subplots(nrows=1, ncols=2, figsize=(9, 4), sharey=True)\n",
    "plt.subplot(1,2,1)\n",
    "#plt.set_title(\"All loans\")\n",
    "plt.xlabel('Loan Amount')\n",
    "plt.ylabel('Count')\n",
    "plt.hist(data=loanDF3, x='LoanOriginalAmount', bins=30, color=sb.color_palette()[2]);\n",
    "\n",
    "plt.subplot(1,2,2)\n",
    "#plt.set_title(\"Loans <= $5000\")\n",
    "plt.xlabel('Loan Amount (zoom to <$10,000)')\n",
    "plt.hist(data=loanDF3, x='LoanOriginalAmount', bins=90, color=sb.color_palette()[3]);\n",
    "plt.xlim(0,10000);\n"
   ]
  },
  {
   "cell_type": "markdown",
   "metadata": {
    "tags": []
   },
   "source": [
    "## Histogram analysis - LoanAmount\n",
    "* `$`4000 loan is the most prevalent loan amount. Additionally, loan amounts fall in `$`5,000 increments with the highest loans no greater than `$`35,000<br>\n",
    "* There is a right-skew.<br>\n",
    "* Nearly half of all Prosper loans are < $5000. What distinguishes these loans from the others?\n",
    "* Investigate the `$`4000 loans<br>\n"
   ]
  },
  {
   "cell_type": "code",
   "execution_count": 126,
   "metadata": {},
   "outputs": [
    {
     "data": {
      "text/html": [
       "<div>\n",
       "<style scoped>\n",
       "    .dataframe tbody tr th:only-of-type {\n",
       "        vertical-align: middle;\n",
       "    }\n",
       "\n",
       "    .dataframe tbody tr th {\n",
       "        vertical-align: top;\n",
       "    }\n",
       "\n",
       "    .dataframe thead th {\n",
       "        text-align: right;\n",
       "    }\n",
       "</style>\n",
       "<table border=\"1\" class=\"dataframe\">\n",
       "  <thead>\n",
       "    <tr style=\"text-align: right;\">\n",
       "      <th></th>\n",
       "      <th>ListingNumber</th>\n",
       "      <th>ListingCreationDate</th>\n",
       "      <th>CreditGrade</th>\n",
       "      <th>Term</th>\n",
       "      <th>LoanStatus</th>\n",
       "      <th>ClosedDate</th>\n",
       "      <th>BorrowerAPR</th>\n",
       "      <th>BorrowerRate</th>\n",
       "      <th>LenderYield</th>\n",
       "      <th>EstimatedEffectiveYield</th>\n",
       "      <th>EstimatedLoss</th>\n",
       "      <th>EstimatedReturn</th>\n",
       "      <th>ProsperRating (numeric)</th>\n",
       "      <th>ProsperRating (Alpha)</th>\n",
       "      <th>ProsperScore</th>\n",
       "      <th>ListingCategory (numeric)</th>\n",
       "      <th>BorrowerState</th>\n",
       "      <th>Occupation</th>\n",
       "      <th>EmploymentStatus</th>\n",
       "      <th>EmploymentStatusDuration</th>\n",
       "      <th>IsBorrowerHomeowner</th>\n",
       "      <th>CurrentlyInGroup</th>\n",
       "      <th>GroupKey</th>\n",
       "      <th>DateCreditPulled</th>\n",
       "      <th>CreditScoreRangeLower</th>\n",
       "      <th>CreditScoreRangeUpper</th>\n",
       "      <th>FirstRecordedCreditLine</th>\n",
       "      <th>CurrentCreditLines</th>\n",
       "      <th>OpenCreditLines</th>\n",
       "      <th>TotalCreditLinespast7years</th>\n",
       "      <th>OpenRevolvingAccounts</th>\n",
       "      <th>OpenRevolvingMonthlyPayment</th>\n",
       "      <th>InquiriesLast6Months</th>\n",
       "      <th>TotalInquiries</th>\n",
       "      <th>CurrentDelinquencies</th>\n",
       "      <th>AmountDelinquent</th>\n",
       "      <th>DelinquenciesLast7Years</th>\n",
       "      <th>PublicRecordsLast10Years</th>\n",
       "      <th>PublicRecordsLast12Months</th>\n",
       "      <th>RevolvingCreditBalance</th>\n",
       "      <th>BankcardUtilization</th>\n",
       "      <th>AvailableBankcardCredit</th>\n",
       "      <th>TradesOpenedLast6Months</th>\n",
       "      <th>DebtToIncomeRatio</th>\n",
       "      <th>IncomeRange</th>\n",
       "      <th>IncomeVerifiable</th>\n",
       "      <th>StatedMonthlyIncome</th>\n",
       "      <th>TotalProsperPaymentsBilled</th>\n",
       "      <th>LoanOriginalAmount</th>\n",
       "      <th>LoanOriginationDate</th>\n",
       "      <th>LoanOriginationQuarter</th>\n",
       "      <th>MonthlyLoanPayment</th>\n",
       "      <th>LP_CustomerPayments</th>\n",
       "      <th>LP_CustomerPrincipalPayments</th>\n",
       "      <th>LP_InterestandFees</th>\n",
       "      <th>LP_ServiceFees</th>\n",
       "      <th>LP_CollectionFees</th>\n",
       "      <th>LP_GrossPrincipalLoss</th>\n",
       "      <th>LP_NetPrincipalLoss</th>\n",
       "      <th>LP_NonPrincipalRecoverypayments</th>\n",
       "      <th>PercentFunded</th>\n",
       "      <th>Recommendations</th>\n",
       "      <th>InvestmentFromFriendsCount</th>\n",
       "      <th>InvestmentFromFriendsAmount</th>\n",
       "      <th>Investors</th>\n",
       "    </tr>\n",
       "  </thead>\n",
       "  <tbody>\n",
       "    <tr>\n",
       "      <th>98989</th>\n",
       "      <td>437855</td>\n",
       "      <td>2009-12-11 13:10:42.960</td>\n",
       "      <td>NaN</td>\n",
       "      <td>36</td>\n",
       "      <td>Completed</td>\n",
       "      <td>2012-12-30</td>\n",
       "      <td>0.1312</td>\n",
       "      <td>0.1100</td>\n",
       "      <td>0.1000</td>\n",
       "      <td>0.0787</td>\n",
       "      <td>0.0210</td>\n",
       "      <td>0.0787</td>\n",
       "      <td>6.0000</td>\n",
       "      <td>A</td>\n",
       "      <td>9.0000</td>\n",
       "      <td>3</td>\n",
       "      <td>OK</td>\n",
       "      <td>Professional</td>\n",
       "      <td>Self-employed</td>\n",
       "      <td>59.0000</td>\n",
       "      <td>False</td>\n",
       "      <td>False</td>\n",
       "      <td>NaN</td>\n",
       "      <td>2009-11-19 06:32:47</td>\n",
       "      <td>760.0000</td>\n",
       "      <td>779.0000</td>\n",
       "      <td>2002-04-24 00:00:00</td>\n",
       "      <td>1.0000</td>\n",
       "      <td>1.0000</td>\n",
       "      <td>2.0000</td>\n",
       "      <td>1</td>\n",
       "      <td>116.0000</td>\n",
       "      <td>1.0000</td>\n",
       "      <td>2.0000</td>\n",
       "      <td>0.0000</td>\n",
       "      <td>0.0000</td>\n",
       "      <td>0.0000</td>\n",
       "      <td>0.0000</td>\n",
       "      <td>0.0000</td>\n",
       "      <td>0.0000</td>\n",
       "      <td>0.0000</td>\n",
       "      <td>6500.0000</td>\n",
       "      <td>0.0000</td>\n",
       "      <td>NaN</td>\n",
       "      <td>$1-24,999</td>\n",
       "      <td>False</td>\n",
       "      <td>1666.6667</td>\n",
       "      <td>NaN</td>\n",
       "      <td>2000</td>\n",
       "      <td>2009-12-30</td>\n",
       "      <td>Q4 2009</td>\n",
       "      <td>5.1000</td>\n",
       "      <td>2271.7000</td>\n",
       "      <td>1941.2900</td>\n",
       "      <td>330.4100</td>\n",
       "      <td>-30.0500</td>\n",
       "      <td>0.0000</td>\n",
       "      <td>0.0000</td>\n",
       "      <td>0.0000</td>\n",
       "      <td>0.0000</td>\n",
       "      <td>1.0000</td>\n",
       "      <td>0</td>\n",
       "      <td>0</td>\n",
       "      <td>0.0000</td>\n",
       "      <td>152</td>\n",
       "    </tr>\n",
       "    <tr>\n",
       "      <th>42934</th>\n",
       "      <td>523041</td>\n",
       "      <td>2011-08-19 16:19:35.193</td>\n",
       "      <td>NaN</td>\n",
       "      <td>36</td>\n",
       "      <td>Current</td>\n",
       "      <td>NaT</td>\n",
       "      <td>0.3053</td>\n",
       "      <td>0.2699</td>\n",
       "      <td>0.2599</td>\n",
       "      <td>0.2534</td>\n",
       "      <td>0.1120</td>\n",
       "      <td>0.1414</td>\n",
       "      <td>3.0000</td>\n",
       "      <td>D</td>\n",
       "      <td>7.0000</td>\n",
       "      <td>7</td>\n",
       "      <td>CA</td>\n",
       "      <td>Nurse (RN)</td>\n",
       "      <td>Employed</td>\n",
       "      <td>16.0000</td>\n",
       "      <td>False</td>\n",
       "      <td>False</td>\n",
       "      <td>NaN</td>\n",
       "      <td>2011-08-19 16:19:30</td>\n",
       "      <td>660.0000</td>\n",
       "      <td>679.0000</td>\n",
       "      <td>1992-09-16 00:00:00</td>\n",
       "      <td>4.0000</td>\n",
       "      <td>4.0000</td>\n",
       "      <td>29.0000</td>\n",
       "      <td>2</td>\n",
       "      <td>45.0000</td>\n",
       "      <td>0.0000</td>\n",
       "      <td>9.0000</td>\n",
       "      <td>0.0000</td>\n",
       "      <td>0.0000</td>\n",
       "      <td>19.0000</td>\n",
       "      <td>1.0000</td>\n",
       "      <td>0.0000</td>\n",
       "      <td>246.0000</td>\n",
       "      <td>0.2400</td>\n",
       "      <td>774.0000</td>\n",
       "      <td>0.0000</td>\n",
       "      <td>0.1100</td>\n",
       "      <td>$100,000+</td>\n",
       "      <td>True</td>\n",
       "      <td>10333.3333</td>\n",
       "      <td>NaN</td>\n",
       "      <td>7000</td>\n",
       "      <td>2011-08-31</td>\n",
       "      <td>Q3 2011</td>\n",
       "      <td>285.7400</td>\n",
       "      <td>8557.2000</td>\n",
       "      <td>5451.0300</td>\n",
       "      <td>3106.1700</td>\n",
       "      <td>-115.0600</td>\n",
       "      <td>0.0000</td>\n",
       "      <td>0.0000</td>\n",
       "      <td>0.0000</td>\n",
       "      <td>0.0000</td>\n",
       "      <td>1.0000</td>\n",
       "      <td>0</td>\n",
       "      <td>0</td>\n",
       "      <td>0.0000</td>\n",
       "      <td>20</td>\n",
       "    </tr>\n",
       "    <tr>\n",
       "      <th>62091</th>\n",
       "      <td>595368</td>\n",
       "      <td>2012-06-02 05:13:23.887</td>\n",
       "      <td>NaN</td>\n",
       "      <td>36</td>\n",
       "      <td>Current</td>\n",
       "      <td>NaT</td>\n",
       "      <td>0.1832</td>\n",
       "      <td>0.1469</td>\n",
       "      <td>0.1369</td>\n",
       "      <td>0.1346</td>\n",
       "      <td>0.0420</td>\n",
       "      <td>0.0926</td>\n",
       "      <td>5.0000</td>\n",
       "      <td>B</td>\n",
       "      <td>6.0000</td>\n",
       "      <td>1</td>\n",
       "      <td>OH</td>\n",
       "      <td>Sales - Retail</td>\n",
       "      <td>Employed</td>\n",
       "      <td>70.0000</td>\n",
       "      <td>False</td>\n",
       "      <td>True</td>\n",
       "      <td>3D4D3366260257624AB272D</td>\n",
       "      <td>2012-05-18 06:11:39</td>\n",
       "      <td>720.0000</td>\n",
       "      <td>739.0000</td>\n",
       "      <td>2002-08-17 00:00:00</td>\n",
       "      <td>9.0000</td>\n",
       "      <td>7.0000</td>\n",
       "      <td>13.0000</td>\n",
       "      <td>6</td>\n",
       "      <td>158.0000</td>\n",
       "      <td>0.0000</td>\n",
       "      <td>1.0000</td>\n",
       "      <td>0.0000</td>\n",
       "      <td>0.0000</td>\n",
       "      <td>0.0000</td>\n",
       "      <td>0.0000</td>\n",
       "      <td>0.0000</td>\n",
       "      <td>2990.0000</td>\n",
       "      <td>0.3100</td>\n",
       "      <td>6610.0000</td>\n",
       "      <td>0.0000</td>\n",
       "      <td>0.9900</td>\n",
       "      <td>$1-24,999</td>\n",
       "      <td>True</td>\n",
       "      <td>1000.0000</td>\n",
       "      <td>14.0000</td>\n",
       "      <td>15000</td>\n",
       "      <td>2012-06-15</td>\n",
       "      <td>Q2 2012</td>\n",
       "      <td>517.7100</td>\n",
       "      <td>10354.2000</td>\n",
       "      <td>7512.0500</td>\n",
       "      <td>2842.1500</td>\n",
       "      <td>-193.5000</td>\n",
       "      <td>0.0000</td>\n",
       "      <td>0.0000</td>\n",
       "      <td>0.0000</td>\n",
       "      <td>0.0000</td>\n",
       "      <td>1.0000</td>\n",
       "      <td>0</td>\n",
       "      <td>0</td>\n",
       "      <td>0.0000</td>\n",
       "      <td>150</td>\n",
       "    </tr>\n",
       "    <tr>\n",
       "      <th>71108</th>\n",
       "      <td>1020283</td>\n",
       "      <td>2013-12-01 13:17:52.767</td>\n",
       "      <td>NaN</td>\n",
       "      <td>36</td>\n",
       "      <td>Current</td>\n",
       "      <td>NaT</td>\n",
       "      <td>0.1380</td>\n",
       "      <td>0.1099</td>\n",
       "      <td>0.0999</td>\n",
       "      <td>0.0963</td>\n",
       "      <td>0.0324</td>\n",
       "      <td>0.0639</td>\n",
       "      <td>6.0000</td>\n",
       "      <td>A</td>\n",
       "      <td>7.0000</td>\n",
       "      <td>7</td>\n",
       "      <td>FL</td>\n",
       "      <td>Computer Programmer</td>\n",
       "      <td>Employed</td>\n",
       "      <td>14.0000</td>\n",
       "      <td>False</td>\n",
       "      <td>False</td>\n",
       "      <td>NaN</td>\n",
       "      <td>2013-12-01 13:17:54</td>\n",
       "      <td>740.0000</td>\n",
       "      <td>759.0000</td>\n",
       "      <td>1998-10-01 00:00:00</td>\n",
       "      <td>8.0000</td>\n",
       "      <td>5.0000</td>\n",
       "      <td>12.0000</td>\n",
       "      <td>5</td>\n",
       "      <td>230.0000</td>\n",
       "      <td>2.0000</td>\n",
       "      <td>3.0000</td>\n",
       "      <td>0.0000</td>\n",
       "      <td>0.0000</td>\n",
       "      <td>0.0000</td>\n",
       "      <td>0.0000</td>\n",
       "      <td>0.0000</td>\n",
       "      <td>11585.0000</td>\n",
       "      <td>0.1700</td>\n",
       "      <td>53615.0000</td>\n",
       "      <td>1.0000</td>\n",
       "      <td>0.0800</td>\n",
       "      <td>$75,000-99,999</td>\n",
       "      <td>True</td>\n",
       "      <td>7000.0000</td>\n",
       "      <td>NaN</td>\n",
       "      <td>9000</td>\n",
       "      <td>2013-12-10</td>\n",
       "      <td>Q4 2013</td>\n",
       "      <td>294.6100</td>\n",
       "      <td>586.5101</td>\n",
       "      <td>423.1700</td>\n",
       "      <td>163.3401</td>\n",
       "      <td>-15.1000</td>\n",
       "      <td>0.0000</td>\n",
       "      <td>0.0000</td>\n",
       "      <td>0.0000</td>\n",
       "      <td>0.0000</td>\n",
       "      <td>1.0000</td>\n",
       "      <td>0</td>\n",
       "      <td>0</td>\n",
       "      <td>0.0000</td>\n",
       "      <td>1</td>\n",
       "    </tr>\n",
       "    <tr>\n",
       "      <th>67072</th>\n",
       "      <td>1123912</td>\n",
       "      <td>2014-01-21 10:48:17.320</td>\n",
       "      <td>NaN</td>\n",
       "      <td>36</td>\n",
       "      <td>Current</td>\n",
       "      <td>NaT</td>\n",
       "      <td>0.0903</td>\n",
       "      <td>0.0769</td>\n",
       "      <td>0.0669</td>\n",
       "      <td>0.0655</td>\n",
       "      <td>0.0174</td>\n",
       "      <td>0.0481</td>\n",
       "      <td>7.0000</td>\n",
       "      <td>AA</td>\n",
       "      <td>8.0000</td>\n",
       "      <td>1</td>\n",
       "      <td>OH</td>\n",
       "      <td>NaN</td>\n",
       "      <td>Other</td>\n",
       "      <td>0.0000</td>\n",
       "      <td>False</td>\n",
       "      <td>False</td>\n",
       "      <td>NaN</td>\n",
       "      <td>2014-01-21 10:48:19</td>\n",
       "      <td>740.0000</td>\n",
       "      <td>759.0000</td>\n",
       "      <td>2004-07-04 00:00:00</td>\n",
       "      <td>9.0000</td>\n",
       "      <td>9.0000</td>\n",
       "      <td>11.0000</td>\n",
       "      <td>9</td>\n",
       "      <td>266.0000</td>\n",
       "      <td>0.0000</td>\n",
       "      <td>2.0000</td>\n",
       "      <td>0.0000</td>\n",
       "      <td>0.0000</td>\n",
       "      <td>0.0000</td>\n",
       "      <td>0.0000</td>\n",
       "      <td>0.0000</td>\n",
       "      <td>4244.0000</td>\n",
       "      <td>0.2300</td>\n",
       "      <td>13806.0000</td>\n",
       "      <td>0.0000</td>\n",
       "      <td>0.1600</td>\n",
       "      <td>$25,000-49,999</td>\n",
       "      <td>True</td>\n",
       "      <td>2500.0000</td>\n",
       "      <td>NaN</td>\n",
       "      <td>4000</td>\n",
       "      <td>2014-01-24</td>\n",
       "      <td>Q1 2014</td>\n",
       "      <td>124.7700</td>\n",
       "      <td>123.9273</td>\n",
       "      <td>98.6500</td>\n",
       "      <td>25.2773</td>\n",
       "      <td>-3.4000</td>\n",
       "      <td>0.0000</td>\n",
       "      <td>0.0000</td>\n",
       "      <td>0.0000</td>\n",
       "      <td>0.0000</td>\n",
       "      <td>1.0000</td>\n",
       "      <td>0</td>\n",
       "      <td>0</td>\n",
       "      <td>0.0000</td>\n",
       "      <td>1</td>\n",
       "    </tr>\n",
       "  </tbody>\n",
       "</table>\n",
       "</div>"
      ],
      "text/plain": [
       "       ListingNumber     ListingCreationDate CreditGrade  Term LoanStatus  \\\n",
       "98989         437855 2009-12-11 13:10:42.960         NaN    36  Completed   \n",
       "42934         523041 2011-08-19 16:19:35.193         NaN    36    Current   \n",
       "62091         595368 2012-06-02 05:13:23.887         NaN    36    Current   \n",
       "71108        1020283 2013-12-01 13:17:52.767         NaN    36    Current   \n",
       "67072        1123912 2014-01-21 10:48:17.320         NaN    36    Current   \n",
       "\n",
       "      ClosedDate  BorrowerAPR  BorrowerRate  LenderYield  \\\n",
       "98989 2012-12-30       0.1312        0.1100       0.1000   \n",
       "42934        NaT       0.3053        0.2699       0.2599   \n",
       "62091        NaT       0.1832        0.1469       0.1369   \n",
       "71108        NaT       0.1380        0.1099       0.0999   \n",
       "67072        NaT       0.0903        0.0769       0.0669   \n",
       "\n",
       "       EstimatedEffectiveYield  EstimatedLoss  EstimatedReturn  \\\n",
       "98989                   0.0787         0.0210           0.0787   \n",
       "42934                   0.2534         0.1120           0.1414   \n",
       "62091                   0.1346         0.0420           0.0926   \n",
       "71108                   0.0963         0.0324           0.0639   \n",
       "67072                   0.0655         0.0174           0.0481   \n",
       "\n",
       "       ProsperRating (numeric) ProsperRating (Alpha)  ProsperScore  \\\n",
       "98989                   6.0000                     A        9.0000   \n",
       "42934                   3.0000                     D        7.0000   \n",
       "62091                   5.0000                     B        6.0000   \n",
       "71108                   6.0000                     A        7.0000   \n",
       "67072                   7.0000                    AA        8.0000   \n",
       "\n",
       "       ListingCategory (numeric) BorrowerState           Occupation  \\\n",
       "98989                          3            OK         Professional   \n",
       "42934                          7            CA           Nurse (RN)   \n",
       "62091                          1            OH       Sales - Retail   \n",
       "71108                          7            FL  Computer Programmer   \n",
       "67072                          1            OH                  NaN   \n",
       "\n",
       "      EmploymentStatus  EmploymentStatusDuration  IsBorrowerHomeowner  \\\n",
       "98989    Self-employed                   59.0000                False   \n",
       "42934         Employed                   16.0000                False   \n",
       "62091         Employed                   70.0000                False   \n",
       "71108         Employed                   14.0000                False   \n",
       "67072            Other                    0.0000                False   \n",
       "\n",
       "       CurrentlyInGroup                 GroupKey    DateCreditPulled  \\\n",
       "98989             False                      NaN 2009-11-19 06:32:47   \n",
       "42934             False                      NaN 2011-08-19 16:19:30   \n",
       "62091              True  3D4D3366260257624AB272D 2012-05-18 06:11:39   \n",
       "71108             False                      NaN 2013-12-01 13:17:54   \n",
       "67072             False                      NaN 2014-01-21 10:48:19   \n",
       "\n",
       "       CreditScoreRangeLower  CreditScoreRangeUpper FirstRecordedCreditLine  \\\n",
       "98989               760.0000               779.0000     2002-04-24 00:00:00   \n",
       "42934               660.0000               679.0000     1992-09-16 00:00:00   \n",
       "62091               720.0000               739.0000     2002-08-17 00:00:00   \n",
       "71108               740.0000               759.0000     1998-10-01 00:00:00   \n",
       "67072               740.0000               759.0000     2004-07-04 00:00:00   \n",
       "\n",
       "       CurrentCreditLines  OpenCreditLines  TotalCreditLinespast7years  \\\n",
       "98989              1.0000           1.0000                      2.0000   \n",
       "42934              4.0000           4.0000                     29.0000   \n",
       "62091              9.0000           7.0000                     13.0000   \n",
       "71108              8.0000           5.0000                     12.0000   \n",
       "67072              9.0000           9.0000                     11.0000   \n",
       "\n",
       "       OpenRevolvingAccounts  OpenRevolvingMonthlyPayment  \\\n",
       "98989                      1                     116.0000   \n",
       "42934                      2                      45.0000   \n",
       "62091                      6                     158.0000   \n",
       "71108                      5                     230.0000   \n",
       "67072                      9                     266.0000   \n",
       "\n",
       "       InquiriesLast6Months  TotalInquiries  CurrentDelinquencies  \\\n",
       "98989                1.0000          2.0000                0.0000   \n",
       "42934                0.0000          9.0000                0.0000   \n",
       "62091                0.0000          1.0000                0.0000   \n",
       "71108                2.0000          3.0000                0.0000   \n",
       "67072                0.0000          2.0000                0.0000   \n",
       "\n",
       "       AmountDelinquent  DelinquenciesLast7Years  PublicRecordsLast10Years  \\\n",
       "98989            0.0000                   0.0000                    0.0000   \n",
       "42934            0.0000                  19.0000                    1.0000   \n",
       "62091            0.0000                   0.0000                    0.0000   \n",
       "71108            0.0000                   0.0000                    0.0000   \n",
       "67072            0.0000                   0.0000                    0.0000   \n",
       "\n",
       "       PublicRecordsLast12Months  RevolvingCreditBalance  BankcardUtilization  \\\n",
       "98989                     0.0000                  0.0000               0.0000   \n",
       "42934                     0.0000                246.0000               0.2400   \n",
       "62091                     0.0000               2990.0000               0.3100   \n",
       "71108                     0.0000              11585.0000               0.1700   \n",
       "67072                     0.0000               4244.0000               0.2300   \n",
       "\n",
       "       AvailableBankcardCredit  TradesOpenedLast6Months  DebtToIncomeRatio  \\\n",
       "98989                6500.0000                   0.0000                NaN   \n",
       "42934                 774.0000                   0.0000             0.1100   \n",
       "62091                6610.0000                   0.0000             0.9900   \n",
       "71108               53615.0000                   1.0000             0.0800   \n",
       "67072               13806.0000                   0.0000             0.1600   \n",
       "\n",
       "          IncomeRange  IncomeVerifiable  StatedMonthlyIncome  \\\n",
       "98989       $1-24,999             False            1666.6667   \n",
       "42934       $100,000+              True           10333.3333   \n",
       "62091       $1-24,999              True            1000.0000   \n",
       "71108  $75,000-99,999              True            7000.0000   \n",
       "67072  $25,000-49,999              True            2500.0000   \n",
       "\n",
       "       TotalProsperPaymentsBilled  LoanOriginalAmount LoanOriginationDate  \\\n",
       "98989                         NaN                2000          2009-12-30   \n",
       "42934                         NaN                7000          2011-08-31   \n",
       "62091                     14.0000               15000          2012-06-15   \n",
       "71108                         NaN                9000          2013-12-10   \n",
       "67072                         NaN                4000          2014-01-24   \n",
       "\n",
       "      LoanOriginationQuarter  MonthlyLoanPayment  LP_CustomerPayments  \\\n",
       "98989                Q4 2009              5.1000            2271.7000   \n",
       "42934                Q3 2011            285.7400            8557.2000   \n",
       "62091                Q2 2012            517.7100           10354.2000   \n",
       "71108                Q4 2013            294.6100             586.5101   \n",
       "67072                Q1 2014            124.7700             123.9273   \n",
       "\n",
       "       LP_CustomerPrincipalPayments  LP_InterestandFees  LP_ServiceFees  \\\n",
       "98989                     1941.2900            330.4100        -30.0500   \n",
       "42934                     5451.0300           3106.1700       -115.0600   \n",
       "62091                     7512.0500           2842.1500       -193.5000   \n",
       "71108                      423.1700            163.3401        -15.1000   \n",
       "67072                       98.6500             25.2773         -3.4000   \n",
       "\n",
       "       LP_CollectionFees  LP_GrossPrincipalLoss  LP_NetPrincipalLoss  \\\n",
       "98989             0.0000                 0.0000               0.0000   \n",
       "42934             0.0000                 0.0000               0.0000   \n",
       "62091             0.0000                 0.0000               0.0000   \n",
       "71108             0.0000                 0.0000               0.0000   \n",
       "67072             0.0000                 0.0000               0.0000   \n",
       "\n",
       "       LP_NonPrincipalRecoverypayments  PercentFunded  Recommendations  \\\n",
       "98989                           0.0000         1.0000                0   \n",
       "42934                           0.0000         1.0000                0   \n",
       "62091                           0.0000         1.0000                0   \n",
       "71108                           0.0000         1.0000                0   \n",
       "67072                           0.0000         1.0000                0   \n",
       "\n",
       "       InvestmentFromFriendsCount  InvestmentFromFriendsAmount  Investors  \n",
       "98989                           0                       0.0000        152  \n",
       "42934                           0                       0.0000         20  \n",
       "62091                           0                       0.0000        150  \n",
       "71108                           0                       0.0000          1  \n",
       "67072                           0                       0.0000          1  "
      ]
     },
     "execution_count": 126,
     "metadata": {},
     "output_type": "execute_result"
    }
   ],
   "source": [
    "Completed = loanDF.loc[loanDF['LoanStatus'] == 'Completed']\n",
    "Current =  loanDF.loc[loanDF['LoanStatus'] == 'Current']\n",
    "completed_current = pd.concat([Completed, Current])\n",
    "completed_current.sample(5)"
   ]
  },
  {
   "cell_type": "code",
   "execution_count": 127,
   "metadata": {},
   "outputs": [
    {
     "data": {
      "text/html": [
       "<div>\n",
       "<style scoped>\n",
       "    .dataframe tbody tr th:only-of-type {\n",
       "        vertical-align: middle;\n",
       "    }\n",
       "\n",
       "    .dataframe tbody tr th {\n",
       "        vertical-align: top;\n",
       "    }\n",
       "\n",
       "    .dataframe thead th {\n",
       "        text-align: right;\n",
       "    }\n",
       "</style>\n",
       "<table border=\"1\" class=\"dataframe\">\n",
       "  <thead>\n",
       "    <tr style=\"text-align: right;\">\n",
       "      <th></th>\n",
       "      <th>ListingNumber</th>\n",
       "      <th>ListingCreationDate</th>\n",
       "      <th>CreditGrade</th>\n",
       "      <th>Term</th>\n",
       "      <th>LoanStatus</th>\n",
       "      <th>ClosedDate</th>\n",
       "      <th>BorrowerAPR</th>\n",
       "      <th>BorrowerRate</th>\n",
       "      <th>LenderYield</th>\n",
       "      <th>EstimatedEffectiveYield</th>\n",
       "      <th>EstimatedLoss</th>\n",
       "      <th>EstimatedReturn</th>\n",
       "      <th>ProsperRating (numeric)</th>\n",
       "      <th>ProsperRating (Alpha)</th>\n",
       "      <th>ProsperScore</th>\n",
       "      <th>ListingCategory (numeric)</th>\n",
       "      <th>BorrowerState</th>\n",
       "      <th>Occupation</th>\n",
       "      <th>EmploymentStatus</th>\n",
       "      <th>EmploymentStatusDuration</th>\n",
       "      <th>IsBorrowerHomeowner</th>\n",
       "      <th>CurrentlyInGroup</th>\n",
       "      <th>GroupKey</th>\n",
       "      <th>DateCreditPulled</th>\n",
       "      <th>CreditScoreRangeLower</th>\n",
       "      <th>CreditScoreRangeUpper</th>\n",
       "      <th>FirstRecordedCreditLine</th>\n",
       "      <th>CurrentCreditLines</th>\n",
       "      <th>OpenCreditLines</th>\n",
       "      <th>TotalCreditLinespast7years</th>\n",
       "      <th>OpenRevolvingAccounts</th>\n",
       "      <th>OpenRevolvingMonthlyPayment</th>\n",
       "      <th>InquiriesLast6Months</th>\n",
       "      <th>TotalInquiries</th>\n",
       "      <th>CurrentDelinquencies</th>\n",
       "      <th>AmountDelinquent</th>\n",
       "      <th>DelinquenciesLast7Years</th>\n",
       "      <th>PublicRecordsLast10Years</th>\n",
       "      <th>PublicRecordsLast12Months</th>\n",
       "      <th>RevolvingCreditBalance</th>\n",
       "      <th>BankcardUtilization</th>\n",
       "      <th>AvailableBankcardCredit</th>\n",
       "      <th>TradesOpenedLast6Months</th>\n",
       "      <th>DebtToIncomeRatio</th>\n",
       "      <th>IncomeRange</th>\n",
       "      <th>IncomeVerifiable</th>\n",
       "      <th>StatedMonthlyIncome</th>\n",
       "      <th>TotalProsperPaymentsBilled</th>\n",
       "      <th>LoanOriginalAmount</th>\n",
       "      <th>LoanOriginationDate</th>\n",
       "      <th>LoanOriginationQuarter</th>\n",
       "      <th>MonthlyLoanPayment</th>\n",
       "      <th>LP_CustomerPayments</th>\n",
       "      <th>LP_CustomerPrincipalPayments</th>\n",
       "      <th>LP_InterestandFees</th>\n",
       "      <th>LP_ServiceFees</th>\n",
       "      <th>LP_CollectionFees</th>\n",
       "      <th>LP_GrossPrincipalLoss</th>\n",
       "      <th>LP_NetPrincipalLoss</th>\n",
       "      <th>LP_NonPrincipalRecoverypayments</th>\n",
       "      <th>PercentFunded</th>\n",
       "      <th>Recommendations</th>\n",
       "      <th>InvestmentFromFriendsCount</th>\n",
       "      <th>InvestmentFromFriendsAmount</th>\n",
       "      <th>Investors</th>\n",
       "    </tr>\n",
       "  </thead>\n",
       "  <tbody>\n",
       "    <tr>\n",
       "      <th>102970</th>\n",
       "      <td>621862</td>\n",
       "      <td>2012-08-07 16:48:55.847</td>\n",
       "      <td>NaN</td>\n",
       "      <td>36</td>\n",
       "      <td>Chargedoff</td>\n",
       "      <td>2013-10-21</td>\n",
       "      <td>0.3580</td>\n",
       "      <td>0.3177</td>\n",
       "      <td>0.3077</td>\n",
       "      <td>0.2896</td>\n",
       "      <td>0.1625</td>\n",
       "      <td>0.1271</td>\n",
       "      <td>1.0000</td>\n",
       "      <td>HR</td>\n",
       "      <td>5.0000</td>\n",
       "      <td>19</td>\n",
       "      <td>MI</td>\n",
       "      <td>Other</td>\n",
       "      <td>Other</td>\n",
       "      <td>21.0000</td>\n",
       "      <td>True</td>\n",
       "      <td>False</td>\n",
       "      <td>NaN</td>\n",
       "      <td>2012-08-07 16:48:51.000</td>\n",
       "      <td>680.0000</td>\n",
       "      <td>699.0000</td>\n",
       "      <td>1991-07-26 00:00:00</td>\n",
       "      <td>10.0000</td>\n",
       "      <td>10.0000</td>\n",
       "      <td>27.0000</td>\n",
       "      <td>7</td>\n",
       "      <td>166.0000</td>\n",
       "      <td>1.0000</td>\n",
       "      <td>11.0000</td>\n",
       "      <td>0.0000</td>\n",
       "      <td>0.0000</td>\n",
       "      <td>43.0000</td>\n",
       "      <td>0.0000</td>\n",
       "      <td>0.0000</td>\n",
       "      <td>2478.0000</td>\n",
       "      <td>0.6900</td>\n",
       "      <td>333.0000</td>\n",
       "      <td>1.0000</td>\n",
       "      <td>0.1600</td>\n",
       "      <td>$25,000-49,999</td>\n",
       "      <td>True</td>\n",
       "      <td>3500.0000</td>\n",
       "      <td>NaN</td>\n",
       "      <td>2000</td>\n",
       "      <td>2012-08-21</td>\n",
       "      <td>Q3 2012</td>\n",
       "      <td>86.8500</td>\n",
       "      <td>812.9500</td>\n",
       "      <td>206.6300</td>\n",
       "      <td>606.3200</td>\n",
       "      <td>-11.7000</td>\n",
       "      <td>-42.5000</td>\n",
       "      <td>1793.3700</td>\n",
       "      <td>1793.3700</td>\n",
       "      <td>0.0000</td>\n",
       "      <td>1.0000</td>\n",
       "      <td>0</td>\n",
       "      <td>0</td>\n",
       "      <td>0.0000</td>\n",
       "      <td>29</td>\n",
       "    </tr>\n",
       "    <tr>\n",
       "      <th>63252</th>\n",
       "      <td>587100</td>\n",
       "      <td>2012-05-09 08:52:22.050</td>\n",
       "      <td>NaN</td>\n",
       "      <td>36</td>\n",
       "      <td>Chargedoff</td>\n",
       "      <td>2013-04-19</td>\n",
       "      <td>0.2526</td>\n",
       "      <td>0.2148</td>\n",
       "      <td>0.2048</td>\n",
       "      <td>0.2000</td>\n",
       "      <td>0.0890</td>\n",
       "      <td>0.1110</td>\n",
       "      <td>4.0000</td>\n",
       "      <td>C</td>\n",
       "      <td>7.0000</td>\n",
       "      <td>3</td>\n",
       "      <td>NY</td>\n",
       "      <td>Professional</td>\n",
       "      <td>Employed</td>\n",
       "      <td>28.0000</td>\n",
       "      <td>False</td>\n",
       "      <td>False</td>\n",
       "      <td>NaN</td>\n",
       "      <td>2012-05-07 18:56:06.000</td>\n",
       "      <td>740.0000</td>\n",
       "      <td>759.0000</td>\n",
       "      <td>2001-03-19 00:00:00</td>\n",
       "      <td>10.0000</td>\n",
       "      <td>8.0000</td>\n",
       "      <td>21.0000</td>\n",
       "      <td>10</td>\n",
       "      <td>180.0000</td>\n",
       "      <td>0.0000</td>\n",
       "      <td>3.0000</td>\n",
       "      <td>0.0000</td>\n",
       "      <td>0.0000</td>\n",
       "      <td>7.0000</td>\n",
       "      <td>0.0000</td>\n",
       "      <td>0.0000</td>\n",
       "      <td>223.0000</td>\n",
       "      <td>0.0500</td>\n",
       "      <td>1636.0000</td>\n",
       "      <td>0.0000</td>\n",
       "      <td>NaN</td>\n",
       "      <td>$25,000-49,999</td>\n",
       "      <td>False</td>\n",
       "      <td>2916.6667</td>\n",
       "      <td>NaN</td>\n",
       "      <td>15000</td>\n",
       "      <td>2012-05-18</td>\n",
       "      <td>Q2 2012</td>\n",
       "      <td>568.8300</td>\n",
       "      <td>3434.1500</td>\n",
       "      <td>1603.2800</td>\n",
       "      <td>1830.8700</td>\n",
       "      <td>-83.9400</td>\n",
       "      <td>0.0000</td>\n",
       "      <td>13396.7200</td>\n",
       "      <td>13396.7200</td>\n",
       "      <td>605.0000</td>\n",
       "      <td>1.0000</td>\n",
       "      <td>0</td>\n",
       "      <td>0</td>\n",
       "      <td>0.0000</td>\n",
       "      <td>60</td>\n",
       "    </tr>\n",
       "    <tr>\n",
       "      <th>55158</th>\n",
       "      <td>279936</td>\n",
       "      <td>2008-02-14 19:13:59.973</td>\n",
       "      <td>E</td>\n",
       "      <td>36</td>\n",
       "      <td>Chargedoff</td>\n",
       "      <td>2008-12-21</td>\n",
       "      <td>0.3375</td>\n",
       "      <td>0.3175</td>\n",
       "      <td>0.3075</td>\n",
       "      <td>NaN</td>\n",
       "      <td>NaN</td>\n",
       "      <td>NaN</td>\n",
       "      <td>NaN</td>\n",
       "      <td>NaN</td>\n",
       "      <td>NaN</td>\n",
       "      <td>1</td>\n",
       "      <td>CA</td>\n",
       "      <td>Other</td>\n",
       "      <td>Full-time</td>\n",
       "      <td>178.0000</td>\n",
       "      <td>False</td>\n",
       "      <td>False</td>\n",
       "      <td>NaN</td>\n",
       "      <td>2008-02-08 21:54:56.527</td>\n",
       "      <td>560.0000</td>\n",
       "      <td>579.0000</td>\n",
       "      <td>1999-04-19 00:00:00</td>\n",
       "      <td>4.0000</td>\n",
       "      <td>4.0000</td>\n",
       "      <td>9.0000</td>\n",
       "      <td>2</td>\n",
       "      <td>67.0000</td>\n",
       "      <td>3.0000</td>\n",
       "      <td>5.0000</td>\n",
       "      <td>0.0000</td>\n",
       "      <td>0.0000</td>\n",
       "      <td>6.0000</td>\n",
       "      <td>0.0000</td>\n",
       "      <td>0.0000</td>\n",
       "      <td>1538.0000</td>\n",
       "      <td>1.0000</td>\n",
       "      <td>17.0000</td>\n",
       "      <td>2.0000</td>\n",
       "      <td>0.1000</td>\n",
       "      <td>$50,000-74,999</td>\n",
       "      <td>True</td>\n",
       "      <td>6166.6667</td>\n",
       "      <td>NaN</td>\n",
       "      <td>3000</td>\n",
       "      <td>2008-02-22</td>\n",
       "      <td>Q1 2008</td>\n",
       "      <td>130.2500</td>\n",
       "      <td>636.2500</td>\n",
       "      <td>224.1300</td>\n",
       "      <td>412.1200</td>\n",
       "      <td>-12.9800</td>\n",
       "      <td>0.0000</td>\n",
       "      <td>2775.8800</td>\n",
       "      <td>2775.8700</td>\n",
       "      <td>0.0000</td>\n",
       "      <td>1.0000</td>\n",
       "      <td>0</td>\n",
       "      <td>0</td>\n",
       "      <td>0.0000</td>\n",
       "      <td>39</td>\n",
       "    </tr>\n",
       "  </tbody>\n",
       "</table>\n",
       "</div>"
      ],
      "text/plain": [
       "        ListingNumber     ListingCreationDate CreditGrade  Term  LoanStatus  \\\n",
       "102970         621862 2012-08-07 16:48:55.847         NaN    36  Chargedoff   \n",
       "63252          587100 2012-05-09 08:52:22.050         NaN    36  Chargedoff   \n",
       "55158          279936 2008-02-14 19:13:59.973           E    36  Chargedoff   \n",
       "\n",
       "       ClosedDate  BorrowerAPR  BorrowerRate  LenderYield  \\\n",
       "102970 2013-10-21       0.3580        0.3177       0.3077   \n",
       "63252  2013-04-19       0.2526        0.2148       0.2048   \n",
       "55158  2008-12-21       0.3375        0.3175       0.3075   \n",
       "\n",
       "        EstimatedEffectiveYield  EstimatedLoss  EstimatedReturn  \\\n",
       "102970                   0.2896         0.1625           0.1271   \n",
       "63252                    0.2000         0.0890           0.1110   \n",
       "55158                       NaN            NaN              NaN   \n",
       "\n",
       "        ProsperRating (numeric) ProsperRating (Alpha)  ProsperScore  \\\n",
       "102970                   1.0000                    HR        5.0000   \n",
       "63252                    4.0000                     C        7.0000   \n",
       "55158                       NaN                   NaN           NaN   \n",
       "\n",
       "        ListingCategory (numeric) BorrowerState    Occupation  \\\n",
       "102970                         19            MI         Other   \n",
       "63252                           3            NY  Professional   \n",
       "55158                           1            CA         Other   \n",
       "\n",
       "       EmploymentStatus  EmploymentStatusDuration  IsBorrowerHomeowner  \\\n",
       "102970            Other                   21.0000                 True   \n",
       "63252          Employed                   28.0000                False   \n",
       "55158         Full-time                  178.0000                False   \n",
       "\n",
       "        CurrentlyInGroup GroupKey        DateCreditPulled  \\\n",
       "102970             False      NaN 2012-08-07 16:48:51.000   \n",
       "63252              False      NaN 2012-05-07 18:56:06.000   \n",
       "55158              False      NaN 2008-02-08 21:54:56.527   \n",
       "\n",
       "        CreditScoreRangeLower  CreditScoreRangeUpper FirstRecordedCreditLine  \\\n",
       "102970               680.0000               699.0000     1991-07-26 00:00:00   \n",
       "63252                740.0000               759.0000     2001-03-19 00:00:00   \n",
       "55158                560.0000               579.0000     1999-04-19 00:00:00   \n",
       "\n",
       "        CurrentCreditLines  OpenCreditLines  TotalCreditLinespast7years  \\\n",
       "102970             10.0000          10.0000                     27.0000   \n",
       "63252              10.0000           8.0000                     21.0000   \n",
       "55158               4.0000           4.0000                      9.0000   \n",
       "\n",
       "        OpenRevolvingAccounts  OpenRevolvingMonthlyPayment  \\\n",
       "102970                      7                     166.0000   \n",
       "63252                      10                     180.0000   \n",
       "55158                       2                      67.0000   \n",
       "\n",
       "        InquiriesLast6Months  TotalInquiries  CurrentDelinquencies  \\\n",
       "102970                1.0000         11.0000                0.0000   \n",
       "63252                 0.0000          3.0000                0.0000   \n",
       "55158                 3.0000          5.0000                0.0000   \n",
       "\n",
       "        AmountDelinquent  DelinquenciesLast7Years  PublicRecordsLast10Years  \\\n",
       "102970            0.0000                  43.0000                    0.0000   \n",
       "63252             0.0000                   7.0000                    0.0000   \n",
       "55158             0.0000                   6.0000                    0.0000   \n",
       "\n",
       "        PublicRecordsLast12Months  RevolvingCreditBalance  \\\n",
       "102970                     0.0000               2478.0000   \n",
       "63252                      0.0000                223.0000   \n",
       "55158                      0.0000               1538.0000   \n",
       "\n",
       "        BankcardUtilization  AvailableBankcardCredit  TradesOpenedLast6Months  \\\n",
       "102970               0.6900                 333.0000                   1.0000   \n",
       "63252                0.0500                1636.0000                   0.0000   \n",
       "55158                1.0000                  17.0000                   2.0000   \n",
       "\n",
       "        DebtToIncomeRatio     IncomeRange  IncomeVerifiable  \\\n",
       "102970             0.1600  $25,000-49,999              True   \n",
       "63252                 NaN  $25,000-49,999             False   \n",
       "55158              0.1000  $50,000-74,999              True   \n",
       "\n",
       "        StatedMonthlyIncome  TotalProsperPaymentsBilled  LoanOriginalAmount  \\\n",
       "102970            3500.0000                         NaN                2000   \n",
       "63252             2916.6667                         NaN               15000   \n",
       "55158             6166.6667                         NaN                3000   \n",
       "\n",
       "       LoanOriginationDate LoanOriginationQuarter  MonthlyLoanPayment  \\\n",
       "102970          2012-08-21                Q3 2012             86.8500   \n",
       "63252           2012-05-18                Q2 2012            568.8300   \n",
       "55158           2008-02-22                Q1 2008            130.2500   \n",
       "\n",
       "        LP_CustomerPayments  LP_CustomerPrincipalPayments  LP_InterestandFees  \\\n",
       "102970             812.9500                      206.6300            606.3200   \n",
       "63252             3434.1500                     1603.2800           1830.8700   \n",
       "55158              636.2500                      224.1300            412.1200   \n",
       "\n",
       "        LP_ServiceFees  LP_CollectionFees  LP_GrossPrincipalLoss  \\\n",
       "102970        -11.7000           -42.5000              1793.3700   \n",
       "63252         -83.9400             0.0000             13396.7200   \n",
       "55158         -12.9800             0.0000              2775.8800   \n",
       "\n",
       "        LP_NetPrincipalLoss  LP_NonPrincipalRecoverypayments  PercentFunded  \\\n",
       "102970            1793.3700                           0.0000         1.0000   \n",
       "63252            13396.7200                         605.0000         1.0000   \n",
       "55158             2775.8700                           0.0000         1.0000   \n",
       "\n",
       "        Recommendations  InvestmentFromFriendsCount  \\\n",
       "102970                0                           0   \n",
       "63252                 0                           0   \n",
       "55158                 0                           0   \n",
       "\n",
       "        InvestmentFromFriendsAmount  Investors  \n",
       "102970                       0.0000         29  \n",
       "63252                        0.0000         60  \n",
       "55158                        0.0000         39  "
      ]
     },
     "execution_count": 127,
     "metadata": {},
     "output_type": "execute_result"
    }
   ],
   "source": [
    "# Get all bad loans into new DF\n",
    "Defaulted = loanDF.loc[loanDF['LoanStatus'] == 'Defaulted']\n",
    "Chargedoff =  loanDF.loc[loanDF['LoanStatus'] == 'Chargedoff']\n",
    "defaulted_chargedoff = pd.concat([Defaulted, Chargedoff])\n",
    "defaulted_chargedoff.sample(3)"
   ]
  },
  {
   "cell_type": "code",
   "execution_count": 128,
   "metadata": {},
   "outputs": [
    {
     "data": {
      "text/plain": [
       "109286564"
      ]
     },
     "execution_count": 128,
     "metadata": {},
     "output_type": "execute_result"
    }
   ],
   "source": [
    "defaulted_chargedoff.LoanOriginalAmount.sum()"
   ]
  },
  {
   "cell_type": "markdown",
   "metadata": {},
   "source": [
    "#### $110,000,000 in bad loans. "
   ]
  },
  {
   "cell_type": "code",
   "execution_count": 129,
   "metadata": {},
   "outputs": [
    {
     "data": {
      "text/plain": [
       "11.578947368421053"
      ]
     },
     "execution_count": 129,
     "metadata": {},
     "output_type": "execute_result"
    }
   ],
   "source": [
    "(110000000 / 950000000) * 100"
   ]
  },
  {
   "cell_type": "markdown",
   "metadata": {},
   "source": [
    "#### 11.6% of the bank loans represented in this dataset are defaulted or chargedoff."
   ]
  },
  {
   "cell_type": "code",
   "execution_count": 130,
   "metadata": {
    "tags": []
   },
   "outputs": [
    {
     "data": {
      "text/plain": [
       "Text(0.5, 1.0, 'Defaulted Loan count vs. Chargedoff Loans')"
      ]
     },
     "execution_count": 130,
     "metadata": {},
     "output_type": "execute_result"
    },
    {
     "data": {
      "image/png": "[encoded data removed]",
      "text/plain": [
       "<Figure size 720x576 with 1 Axes>"
      ]
     },
     "metadata": {},
     "output_type": "display_data"
    }
   ],
   "source": [
    "# Quick look at the distribution between 'defaulted' & 'Chargedoff' loans in new DF\n",
    "ax = plt.figure(figsize=[10,8])\n",
    "#ax.set_title('Defaulted vs. Chargedoff Loans')\n",
    "plt.xlabel('Loan Status')\n",
    "plt.ylabel('Count')\n",
    "#ax.set_title('BLABLABLA')\n",
    "graph = sb.countplot(data=defaulted_chargedoff, x='LoanStatus', color=sb.color_palette()[4])\n",
    "graph.set_title(\"Defaulted Loan count vs. Chargedoff Loans\")"
   ]
  },
  {
   "cell_type": "code",
   "execution_count": 131,
   "metadata": {},
   "outputs": [
    {
     "name": "stdout",
     "output_type": "stream",
     "text": [
      "Total # of Completed Loans: 38074\n",
      "Completed Loans mean interest rate: 0.18642228423595686\n",
      "Total # of Failed Loans: 17010\n",
      "Failed Loans mean interest rate: 0.2317624103468487\n"
     ]
    }
   ],
   "source": [
    "\n",
    "\n",
    "print(f\"Total # of Completed Loans: {Completed.ListingNumber.count()}\\nCompleted Loans mean interest rate: {Completed.BorrowerRate.mean()}\")\n",
    "print(f\"Total # of Failed Loans: {defaulted_chargedoff.ListingNumber.count()}\\nFailed Loans mean interest rate: {defaulted_chargedoff.BorrowerRate.mean()}\")\n"
   ]
  },
  {
   "cell_type": "code",
   "execution_count": 132,
   "metadata": {},
   "outputs": [
    {
     "data": {
      "image/png": "[encoded data removed]",
      "text/plain": [
       "<Figure size 1440x720 with 2 Axes>"
      ]
     },
     "metadata": {},
     "output_type": "display_data"
    }
   ],
   "source": [
    "# Compare BorrowerRate's between the Completed loans & the Defaulted & ChargedOff\n",
    "# would like to stack these but I don't want to single out the \"completed\" & \"failed\"\n",
    "fig, ax = plt.subplots(1,2, figsize = (20,10))\n",
    "fig.suptitle(\"Compare BorrowerRates for Completed Loans vs. Failed Loans\")\n",
    "\n",
    "style = dict(size=16, color='black', backgroundcolor=sb.color_palette()[4])\n",
    "\n",
    "completed_mean = \"Mean BorrowerRate:\\n\" + str(round(Completed.BorrowerRate.mean(),3))\n",
    "\n",
    "ax[0].set_title(\"Completed Loans BorrowerRates\")\n",
    "ax[0].text(0.3,3305,completed_mean, **style)\n",
    "#ax[1].annotate(str(Completed.BorrowerRate.mean()),(0.05,3250))\n",
    "sb.histplot(data=Completed, x='BorrowerRate', bins=30, color=sb.color_palette()[2], ax=ax[0]);\n",
    "\n",
    "failed_mean = \"Mean BorrowerRate:\\n\" + str(round(defaulted_chargedoff.BorrowerRate.mean(),3))\n",
    "\n",
    "ax[1].set_title(\"Failed Loans BorrowerRates\")\n",
    "ax[1].text(0,1600,failed_mean, **style)\n",
    "#plt.text(3+0.2, 4.5, \"An annotation\", horizontalalignment='left', size='medium', color='white')\n",
    "boxf = sb.histplot(data=defaulted_chargedoff, x='BorrowerRate', bins=30, color=sb.color_palette()[1], ax=ax[1]);"
   ]
  },
  {
   "cell_type": "markdown",
   "metadata": {},
   "source": [
    "## Bivariate - BorrowRate & LoanStatus\n",
    "## Histogram Analysis - BorrowerRate\n",
    "Comparing the BorrowerRate distribution (& mean) for Failed Loans vs. Completed Loans. \n",
    "\n",
    "* There are double the number of completed loans to the number of failed loans. This is a much higher ratio than I would have guessed.\n",
    "* As one might expect, the completed loans interest rates are lower vs. the failed loans\n",
    "* There was nothing surprising that came from this visualization\n"
   ]
  },
  {
   "cell_type": "code",
   "execution_count": 133,
   "metadata": {},
   "outputs": [
    {
     "data": {
      "text/plain": [
       "38074"
      ]
     },
     "execution_count": 133,
     "metadata": {},
     "output_type": "execute_result"
    }
   ],
   "source": [
    "Completed.ListingNumber.count()"
   ]
  },
  {
   "cell_type": "code",
   "execution_count": 134,
   "metadata": {},
   "outputs": [
    {
     "data": {
      "text/plain": [
       "17010"
      ]
     },
     "execution_count": 134,
     "metadata": {},
     "output_type": "execute_result"
    }
   ],
   "source": [
    "defaulted_chargedoff.ListingNumber.count()"
   ]
  },
  {
   "cell_type": "code",
   "execution_count": 135,
   "metadata": {},
   "outputs": [],
   "source": [
    "# get all records that match the query\n",
    "past3160 = loanDF.query(\"LoanStatus == 'Past Due (31-60 days)'\")\n",
    "past6190 = loanDF.query(\"LoanStatus == 'Past Due (61-90 days)'\")\n",
    "past91120 = loanDF.loc[loanDF.LoanStatus == 'Past Due (91-120 days)']\n",
    "past120 = loanDF.query(\"LoanStatus == 'Past Due (>120 days)'\")\n",
    "\n",
    "defaulted = loanDF.query(\"LoanStatus == 'Defaulted'\")\n",
    "\n",
    "all_past = pd.concat([past3160, past6190, past91120, past120])\n"
   ]
  },
  {
   "cell_type": "code",
   "execution_count": 136,
   "metadata": {},
   "outputs": [
    {
     "data": {
      "text/html": [
       "<div>\n",
       "<style scoped>\n",
       "    .dataframe tbody tr th:only-of-type {\n",
       "        vertical-align: middle;\n",
       "    }\n",
       "\n",
       "    .dataframe tbody tr th {\n",
       "        vertical-align: top;\n",
       "    }\n",
       "\n",
       "    .dataframe thead th {\n",
       "        text-align: right;\n",
       "    }\n",
       "</style>\n",
       "<table border=\"1\" class=\"dataframe\">\n",
       "  <thead>\n",
       "    <tr style=\"text-align: right;\">\n",
       "      <th></th>\n",
       "      <th>ListingNumber</th>\n",
       "      <th>ListingCreationDate</th>\n",
       "      <th>CreditGrade</th>\n",
       "      <th>Term</th>\n",
       "      <th>LoanStatus</th>\n",
       "      <th>ClosedDate</th>\n",
       "      <th>BorrowerAPR</th>\n",
       "      <th>BorrowerRate</th>\n",
       "      <th>LenderYield</th>\n",
       "      <th>EstimatedEffectiveYield</th>\n",
       "      <th>EstimatedLoss</th>\n",
       "      <th>EstimatedReturn</th>\n",
       "      <th>ProsperRating (numeric)</th>\n",
       "      <th>ProsperRating (Alpha)</th>\n",
       "      <th>ProsperScore</th>\n",
       "      <th>ListingCategory (numeric)</th>\n",
       "      <th>BorrowerState</th>\n",
       "      <th>Occupation</th>\n",
       "      <th>EmploymentStatus</th>\n",
       "      <th>EmploymentStatusDuration</th>\n",
       "      <th>IsBorrowerHomeowner</th>\n",
       "      <th>CurrentlyInGroup</th>\n",
       "      <th>GroupKey</th>\n",
       "      <th>DateCreditPulled</th>\n",
       "      <th>CreditScoreRangeLower</th>\n",
       "      <th>CreditScoreRangeUpper</th>\n",
       "      <th>FirstRecordedCreditLine</th>\n",
       "      <th>CurrentCreditLines</th>\n",
       "      <th>OpenCreditLines</th>\n",
       "      <th>TotalCreditLinespast7years</th>\n",
       "      <th>OpenRevolvingAccounts</th>\n",
       "      <th>OpenRevolvingMonthlyPayment</th>\n",
       "      <th>InquiriesLast6Months</th>\n",
       "      <th>TotalInquiries</th>\n",
       "      <th>CurrentDelinquencies</th>\n",
       "      <th>AmountDelinquent</th>\n",
       "      <th>DelinquenciesLast7Years</th>\n",
       "      <th>PublicRecordsLast10Years</th>\n",
       "      <th>PublicRecordsLast12Months</th>\n",
       "      <th>RevolvingCreditBalance</th>\n",
       "      <th>BankcardUtilization</th>\n",
       "      <th>AvailableBankcardCredit</th>\n",
       "      <th>TradesOpenedLast6Months</th>\n",
       "      <th>DebtToIncomeRatio</th>\n",
       "      <th>IncomeRange</th>\n",
       "      <th>IncomeVerifiable</th>\n",
       "      <th>StatedMonthlyIncome</th>\n",
       "      <th>TotalProsperPaymentsBilled</th>\n",
       "      <th>LoanOriginalAmount</th>\n",
       "      <th>LoanOriginationDate</th>\n",
       "      <th>LoanOriginationQuarter</th>\n",
       "      <th>MonthlyLoanPayment</th>\n",
       "      <th>LP_CustomerPayments</th>\n",
       "      <th>LP_CustomerPrincipalPayments</th>\n",
       "      <th>LP_InterestandFees</th>\n",
       "      <th>LP_ServiceFees</th>\n",
       "      <th>LP_CollectionFees</th>\n",
       "      <th>LP_GrossPrincipalLoss</th>\n",
       "      <th>LP_NetPrincipalLoss</th>\n",
       "      <th>LP_NonPrincipalRecoverypayments</th>\n",
       "      <th>PercentFunded</th>\n",
       "      <th>Recommendations</th>\n",
       "      <th>InvestmentFromFriendsCount</th>\n",
       "      <th>InvestmentFromFriendsAmount</th>\n",
       "      <th>Investors</th>\n",
       "    </tr>\n",
       "  </thead>\n",
       "  <tbody>\n",
       "    <tr>\n",
       "      <th>35265</th>\n",
       "      <td>829185</td>\n",
       "      <td>2013-07-05 12:27:28.093</td>\n",
       "      <td>NaN</td>\n",
       "      <td>60</td>\n",
       "      <td>Past Due (&gt;120 days)</td>\n",
       "      <td>NaT</td>\n",
       "      <td>0.2613</td>\n",
       "      <td>0.2359</td>\n",
       "      <td>0.2259</td>\n",
       "      <td>0.2085</td>\n",
       "      <td>0.0925</td>\n",
       "      <td>0.1160</td>\n",
       "      <td>3.0000</td>\n",
       "      <td>D</td>\n",
       "      <td>5.0000</td>\n",
       "      <td>13</td>\n",
       "      <td>CT</td>\n",
       "      <td>Other</td>\n",
       "      <td>Employed</td>\n",
       "      <td>69.0000</td>\n",
       "      <td>False</td>\n",
       "      <td>False</td>\n",
       "      <td>NaN</td>\n",
       "      <td>2013-07-05 12:27:09</td>\n",
       "      <td>640.0000</td>\n",
       "      <td>659.0000</td>\n",
       "      <td>2003-09-24 00:00:00</td>\n",
       "      <td>13.0000</td>\n",
       "      <td>12.0000</td>\n",
       "      <td>24.0000</td>\n",
       "      <td>5</td>\n",
       "      <td>190.0000</td>\n",
       "      <td>0.0000</td>\n",
       "      <td>2.0000</td>\n",
       "      <td>0.0000</td>\n",
       "      <td>0.0000</td>\n",
       "      <td>0.0000</td>\n",
       "      <td>0.0000</td>\n",
       "      <td>0.0000</td>\n",
       "      <td>6252.0000</td>\n",
       "      <td>0.8000</td>\n",
       "      <td>1267.0000</td>\n",
       "      <td>1.0000</td>\n",
       "      <td>0.3400</td>\n",
       "      <td>$25,000-49,999</td>\n",
       "      <td>True</td>\n",
       "      <td>3083.3333</td>\n",
       "      <td>12.0000</td>\n",
       "      <td>4500</td>\n",
       "      <td>2013-07-09</td>\n",
       "      <td>Q3 2013</td>\n",
       "      <td>128.3900</td>\n",
       "      <td>382.2616</td>\n",
       "      <td>119.8700</td>\n",
       "      <td>262.3916</td>\n",
       "      <td>-11.2500</td>\n",
       "      <td>0.0000</td>\n",
       "      <td>0.0000</td>\n",
       "      <td>0.0000</td>\n",
       "      <td>0.0000</td>\n",
       "      <td>1.0000</td>\n",
       "      <td>0</td>\n",
       "      <td>0</td>\n",
       "      <td>0.0000</td>\n",
       "      <td>1</td>\n",
       "    </tr>\n",
       "    <tr>\n",
       "      <th>87603</th>\n",
       "      <td>726291</td>\n",
       "      <td>2013-03-11 11:09:43.407</td>\n",
       "      <td>NaN</td>\n",
       "      <td>60</td>\n",
       "      <td>Past Due (31-60 days)</td>\n",
       "      <td>NaT</td>\n",
       "      <td>0.2839</td>\n",
       "      <td>0.2579</td>\n",
       "      <td>0.2479</td>\n",
       "      <td>0.2274</td>\n",
       "      <td>0.1075</td>\n",
       "      <td>0.1199</td>\n",
       "      <td>3.0000</td>\n",
       "      <td>D</td>\n",
       "      <td>3.0000</td>\n",
       "      <td>15</td>\n",
       "      <td>NJ</td>\n",
       "      <td>Retail Management</td>\n",
       "      <td>Employed</td>\n",
       "      <td>82.0000</td>\n",
       "      <td>True</td>\n",
       "      <td>False</td>\n",
       "      <td>NaN</td>\n",
       "      <td>2013-03-11 11:09:37</td>\n",
       "      <td>740.0000</td>\n",
       "      <td>759.0000</td>\n",
       "      <td>1996-09-01 00:00:00</td>\n",
       "      <td>4.0000</td>\n",
       "      <td>4.0000</td>\n",
       "      <td>13.0000</td>\n",
       "      <td>2</td>\n",
       "      <td>153.0000</td>\n",
       "      <td>1.0000</td>\n",
       "      <td>6.0000</td>\n",
       "      <td>1.0000</td>\n",
       "      <td>185.0000</td>\n",
       "      <td>4.0000</td>\n",
       "      <td>1.0000</td>\n",
       "      <td>0.0000</td>\n",
       "      <td>17297.0000</td>\n",
       "      <td>0.7600</td>\n",
       "      <td>5191.0000</td>\n",
       "      <td>0.0000</td>\n",
       "      <td>0.1500</td>\n",
       "      <td>$50,000-74,999</td>\n",
       "      <td>True</td>\n",
       "      <td>5500.0000</td>\n",
       "      <td>NaN</td>\n",
       "      <td>9500</td>\n",
       "      <td>2013-03-25</td>\n",
       "      <td>Q1 2013</td>\n",
       "      <td>283.2500</td>\n",
       "      <td>2549.2500</td>\n",
       "      <td>766.8000</td>\n",
       "      <td>1782.4500</td>\n",
       "      <td>-69.1100</td>\n",
       "      <td>0.0000</td>\n",
       "      <td>0.0000</td>\n",
       "      <td>0.0000</td>\n",
       "      <td>0.0000</td>\n",
       "      <td>1.0000</td>\n",
       "      <td>0</td>\n",
       "      <td>0</td>\n",
       "      <td>0.0000</td>\n",
       "      <td>59</td>\n",
       "    </tr>\n",
       "    <tr>\n",
       "      <th>23922</th>\n",
       "      <td>522046</td>\n",
       "      <td>2011-08-17 08:45:16.520</td>\n",
       "      <td>NaN</td>\n",
       "      <td>36</td>\n",
       "      <td>Past Due (&gt;120 days)</td>\n",
       "      <td>NaT</td>\n",
       "      <td>0.3564</td>\n",
       "      <td>0.3199</td>\n",
       "      <td>0.3099</td>\n",
       "      <td>0.2957</td>\n",
       "      <td>0.1470</td>\n",
       "      <td>0.1487</td>\n",
       "      <td>2.0000</td>\n",
       "      <td>E</td>\n",
       "      <td>4.0000</td>\n",
       "      <td>7</td>\n",
       "      <td>NJ</td>\n",
       "      <td>Analyst</td>\n",
       "      <td>Employed</td>\n",
       "      <td>84.0000</td>\n",
       "      <td>False</td>\n",
       "      <td>False</td>\n",
       "      <td>NaN</td>\n",
       "      <td>2011-08-17 08:45:08</td>\n",
       "      <td>680.0000</td>\n",
       "      <td>699.0000</td>\n",
       "      <td>2001-11-09 00:00:00</td>\n",
       "      <td>25.0000</td>\n",
       "      <td>22.0000</td>\n",
       "      <td>36.0000</td>\n",
       "      <td>7</td>\n",
       "      <td>199.0000</td>\n",
       "      <td>5.0000</td>\n",
       "      <td>5.0000</td>\n",
       "      <td>0.0000</td>\n",
       "      <td>0.0000</td>\n",
       "      <td>1.0000</td>\n",
       "      <td>0.0000</td>\n",
       "      <td>0.0000</td>\n",
       "      <td>2459.0000</td>\n",
       "      <td>0.7000</td>\n",
       "      <td>1041.0000</td>\n",
       "      <td>1.0000</td>\n",
       "      <td>0.3200</td>\n",
       "      <td>$50,000-74,999</td>\n",
       "      <td>True</td>\n",
       "      <td>4500.0000</td>\n",
       "      <td>NaN</td>\n",
       "      <td>7500</td>\n",
       "      <td>2011-08-30</td>\n",
       "      <td>Q3 2011</td>\n",
       "      <td>326.6200</td>\n",
       "      <td>6632.4800</td>\n",
       "      <td>5170.8100</td>\n",
       "      <td>1461.6700</td>\n",
       "      <td>-37.8000</td>\n",
       "      <td>0.0000</td>\n",
       "      <td>0.0000</td>\n",
       "      <td>0.0000</td>\n",
       "      <td>0.0000</td>\n",
       "      <td>1.0000</td>\n",
       "      <td>0</td>\n",
       "      <td>0</td>\n",
       "      <td>0.0000</td>\n",
       "      <td>94</td>\n",
       "    </tr>\n",
       "  </tbody>\n",
       "</table>\n",
       "</div>"
      ],
      "text/plain": [
       "       ListingNumber     ListingCreationDate CreditGrade  Term  \\\n",
       "35265         829185 2013-07-05 12:27:28.093         NaN    60   \n",
       "87603         726291 2013-03-11 11:09:43.407         NaN    60   \n",
       "23922         522046 2011-08-17 08:45:16.520         NaN    36   \n",
       "\n",
       "                  LoanStatus ClosedDate  BorrowerAPR  BorrowerRate  \\\n",
       "35265   Past Due (>120 days)        NaT       0.2613        0.2359   \n",
       "87603  Past Due (31-60 days)        NaT       0.2839        0.2579   \n",
       "23922   Past Due (>120 days)        NaT       0.3564        0.3199   \n",
       "\n",
       "       LenderYield  EstimatedEffectiveYield  EstimatedLoss  EstimatedReturn  \\\n",
       "35265       0.2259                   0.2085         0.0925           0.1160   \n",
       "87603       0.2479                   0.2274         0.1075           0.1199   \n",
       "23922       0.3099                   0.2957         0.1470           0.1487   \n",
       "\n",
       "       ProsperRating (numeric) ProsperRating (Alpha)  ProsperScore  \\\n",
       "35265                   3.0000                     D        5.0000   \n",
       "87603                   3.0000                     D        3.0000   \n",
       "23922                   2.0000                     E        4.0000   \n",
       "\n",
       "       ListingCategory (numeric) BorrowerState         Occupation  \\\n",
       "35265                         13            CT              Other   \n",
       "87603                         15            NJ  Retail Management   \n",
       "23922                          7            NJ            Analyst   \n",
       "\n",
       "      EmploymentStatus  EmploymentStatusDuration  IsBorrowerHomeowner  \\\n",
       "35265         Employed                   69.0000                False   \n",
       "87603         Employed                   82.0000                 True   \n",
       "23922         Employed                   84.0000                False   \n",
       "\n",
       "       CurrentlyInGroup GroupKey    DateCreditPulled  CreditScoreRangeLower  \\\n",
       "35265             False      NaN 2013-07-05 12:27:09               640.0000   \n",
       "87603             False      NaN 2013-03-11 11:09:37               740.0000   \n",
       "23922             False      NaN 2011-08-17 08:45:08               680.0000   \n",
       "\n",
       "       CreditScoreRangeUpper FirstRecordedCreditLine  CurrentCreditLines  \\\n",
       "35265               659.0000     2003-09-24 00:00:00             13.0000   \n",
       "87603               759.0000     1996-09-01 00:00:00              4.0000   \n",
       "23922               699.0000     2001-11-09 00:00:00             25.0000   \n",
       "\n",
       "       OpenCreditLines  TotalCreditLinespast7years  OpenRevolvingAccounts  \\\n",
       "35265          12.0000                     24.0000                      5   \n",
       "87603           4.0000                     13.0000                      2   \n",
       "23922          22.0000                     36.0000                      7   \n",
       "\n",
       "       OpenRevolvingMonthlyPayment  InquiriesLast6Months  TotalInquiries  \\\n",
       "35265                     190.0000                0.0000          2.0000   \n",
       "87603                     153.0000                1.0000          6.0000   \n",
       "23922                     199.0000                5.0000          5.0000   \n",
       "\n",
       "       CurrentDelinquencies  AmountDelinquent  DelinquenciesLast7Years  \\\n",
       "35265                0.0000            0.0000                   0.0000   \n",
       "87603                1.0000          185.0000                   4.0000   \n",
       "23922                0.0000            0.0000                   1.0000   \n",
       "\n",
       "       PublicRecordsLast10Years  PublicRecordsLast12Months  \\\n",
       "35265                    0.0000                     0.0000   \n",
       "87603                    1.0000                     0.0000   \n",
       "23922                    0.0000                     0.0000   \n",
       "\n",
       "       RevolvingCreditBalance  BankcardUtilization  AvailableBankcardCredit  \\\n",
       "35265               6252.0000               0.8000                1267.0000   \n",
       "87603              17297.0000               0.7600                5191.0000   \n",
       "23922               2459.0000               0.7000                1041.0000   \n",
       "\n",
       "       TradesOpenedLast6Months  DebtToIncomeRatio     IncomeRange  \\\n",
       "35265                   1.0000             0.3400  $25,000-49,999   \n",
       "87603                   0.0000             0.1500  $50,000-74,999   \n",
       "23922                   1.0000             0.3200  $50,000-74,999   \n",
       "\n",
       "       IncomeVerifiable  StatedMonthlyIncome  TotalProsperPaymentsBilled  \\\n",
       "35265              True            3083.3333                     12.0000   \n",
       "87603              True            5500.0000                         NaN   \n",
       "23922              True            4500.0000                         NaN   \n",
       "\n",
       "       LoanOriginalAmount LoanOriginationDate LoanOriginationQuarter  \\\n",
       "35265                4500          2013-07-09                Q3 2013   \n",
       "87603                9500          2013-03-25                Q1 2013   \n",
       "23922                7500          2011-08-30                Q3 2011   \n",
       "\n",
       "       MonthlyLoanPayment  LP_CustomerPayments  LP_CustomerPrincipalPayments  \\\n",
       "35265            128.3900             382.2616                      119.8700   \n",
       "87603            283.2500            2549.2500                      766.8000   \n",
       "23922            326.6200            6632.4800                     5170.8100   \n",
       "\n",
       "       LP_InterestandFees  LP_ServiceFees  LP_CollectionFees  \\\n",
       "35265            262.3916        -11.2500             0.0000   \n",
       "87603           1782.4500        -69.1100             0.0000   \n",
       "23922           1461.6700        -37.8000             0.0000   \n",
       "\n",
       "       LP_GrossPrincipalLoss  LP_NetPrincipalLoss  \\\n",
       "35265                 0.0000               0.0000   \n",
       "87603                 0.0000               0.0000   \n",
       "23922                 0.0000               0.0000   \n",
       "\n",
       "       LP_NonPrincipalRecoverypayments  PercentFunded  Recommendations  \\\n",
       "35265                           0.0000         1.0000                0   \n",
       "87603                           0.0000         1.0000                0   \n",
       "23922                           0.0000         1.0000                0   \n",
       "\n",
       "       InvestmentFromFriendsCount  InvestmentFromFriendsAmount  Investors  \n",
       "35265                           0                       0.0000          1  \n",
       "87603                           0                       0.0000         59  \n",
       "23922                           0                       0.0000         94  "
      ]
     },
     "execution_count": 136,
     "metadata": {},
     "output_type": "execute_result"
    }
   ],
   "source": [
    "all_past.sample(3)"
   ]
  },
  {
   "cell_type": "code",
   "execution_count": 137,
   "metadata": {
    "scrolled": true
   },
   "outputs": [
    {
     "data": {
      "text/plain": [
       "8083169"
      ]
     },
     "execution_count": 137,
     "metadata": {},
     "output_type": "execute_result"
    }
   ],
   "source": [
    "all_past.LoanOriginalAmount.sum()"
   ]
  },
  {
   "cell_type": "markdown",
   "metadata": {},
   "source": [
    "#### $8,000,000 in Past Due loans"
   ]
  },
  {
   "cell_type": "code",
   "execution_count": 138,
   "metadata": {},
   "outputs": [
    {
     "data": {
      "text/plain": [
       "([0, 1, 2, 3],\n",
       " [Text(0, 0, ''), Text(0, 0, ''), Text(0, 0, ''), Text(0, 0, '')])"
      ]
     },
     "execution_count": 138,
     "metadata": {},
     "output_type": "execute_result"
    },
    {
     "data": {
      "image/png": "[encoded data removed]",
      "text/plain": [
       "<Figure size 432x288 with 1 Axes>"
      ]
     },
     "metadata": {},
     "output_type": "display_data"
    }
   ],
   "source": [
    "# plot distribution of LoanStatus where loanstatus == past due\n",
    "\n",
    "plt.hist(data=all_past, x='LoanStatus')\n",
    "plt.xticks(rotation=65)"
   ]
  },
  {
   "cell_type": "markdown",
   "metadata": {},
   "source": [
    "## Histogram Analysis - Past Due\n",
    "\n",
    "* There are roughly 1000 loans that are in a \"past due\" LoanStatus totalling $8,000,000 in loans\n",
    "* There are no \"CreditGrade\" values for all entries with \"past due\" in LoanStatus\n"
   ]
  },
  {
   "cell_type": "code",
   "execution_count": 139,
   "metadata": {
    "scrolled": true
   },
   "outputs": [
    {
     "data": {
      "text/plain": [
       "C     5649\n",
       "D     5153\n",
       "B     4389\n",
       "AA    3509\n",
       "HR    3508\n",
       "A     3315\n",
       "E     3289\n",
       "Name: CreditGrade, dtype: int64"
      ]
     },
     "execution_count": 139,
     "metadata": {},
     "output_type": "execute_result"
    }
   ],
   "source": [
    "loanDF.CreditGrade.value_counts()"
   ]
  },
  {
   "cell_type": "code",
   "execution_count": 140,
   "metadata": {},
   "outputs": [
    {
     "data": {
      "text/plain": [
       "<seaborn.axisgrid.FacetGrid at 0x20035d0bf10>"
      ]
     },
     "execution_count": 140,
     "metadata": {},
     "output_type": "execute_result"
    },
    {
     "data": {
      "image/png": "[encoded data removed]",
      "text/plain": [
       "<Figure size 360x360 with 1 Axes>"
      ]
     },
     "metadata": {},
     "output_type": "display_data"
    }
   ],
   "source": [
    "sb.displot(data=loanDF, x=\"CreditGrade\")"
   ]
  },
  {
   "cell_type": "markdown",
   "metadata": {},
   "source": [
    "## Histogram Analysis - Credit Grade\n",
    "\n",
    "* Plotting a histogram of the CreditGrades indicates a normal distribution of CreditGrades across the spectrum of grades. "
   ]
  },
  {
   "cell_type": "code",
   "execution_count": 141,
   "metadata": {
    "scrolled": true
   },
   "outputs": [
    {
     "data": {
      "text/plain": [
       "count   51824.0000\n",
       "mean     3270.4115\n",
       "std      1191.0671\n",
       "min      1000.0000\n",
       "25%      2250.0000\n",
       "50%      3500.0000\n",
       "75%      4000.0000\n",
       "max      5000.0000\n",
       "Name: LoanOriginalAmount, dtype: float64"
      ]
     },
     "execution_count": 141,
     "metadata": {},
     "output_type": "execute_result"
    }
   ],
   "source": [
    "loanDF3.query(\"LoanOriginalAmount <= 5000\")['LoanOriginalAmount'].describe()"
   ]
  },
  {
   "cell_type": "code",
   "execution_count": 142,
   "metadata": {
    "scrolled": true
   },
   "outputs": [
    {
     "data": {
      "text/plain": [
       "D     3623\n",
       "HR    3326\n",
       "C     3184\n",
       "E     2869\n",
       "B     1803\n",
       "AA    1577\n",
       "A     1304\n",
       "Name: CreditGrade, dtype: int64"
      ]
     },
     "execution_count": 142,
     "metadata": {},
     "output_type": "execute_result"
    }
   ],
   "source": [
    "# loans5000.CreditGrade.value_counts()\n",
    "loanDF3.query(\"LoanOriginalAmount <= 5000\")['CreditGrade'].value_counts()"
   ]
  },
  {
   "cell_type": "code",
   "execution_count": 143,
   "metadata": {},
   "outputs": [
    {
     "data": {
      "image/png": "[encoded data removed]",
      "text/plain": [
       "<Figure size 1080x576 with 2 Axes>"
      ]
     },
     "metadata": {},
     "output_type": "display_data"
    }
   ],
   "source": [
    "#sb.displot(data=loans5000, x='CreditGrade')\n",
    "plt.figure(figsize=[15,8])\n",
    "plt.subplot(1,2,1)\n",
    "\n",
    "#plt.xlabel('CreditGrade for Loans <= $5000')\n",
    "graph2 = sb.countplot(data=(loanDF3.query(\"LoanOriginalAmount <= 5000\")), x='CreditGrade', color=sb.color_palette()[4])\n",
    "graph2.set(title=\"Credit Grades for Loans <= $5000\")\n",
    "plt.xlabel(\"Credit Grade\")\n",
    "plt.ylim(0,4000)\n",
    "\n",
    "plt.subplot(1,2,2)\n",
    "#plt.xtitle('CreditGrade for Loans <= $5000')\n",
    "graph = sb.countplot(data=(loanDF3.query(\"LoanOriginalAmount > 5000\")), x='CreditGrade',  color=sb.color_palette()[5]);\n",
    "graph.set(title=\"Credit Grades for Loans > $5000\")\n",
    "plt.xlabel(\"Credit Grade\")\n",
    "#sb.displot(data=loans5000, x='CreditGrade');\n",
    "plt.ylim(0,4000);\n",
    "\n",
    "#graph.set_title(\"Credit Grade Distribution\\n Loans > 5000 & Loans <= 5000\")"
   ]
  },
  {
   "cell_type": "markdown",
   "metadata": {
    "tags": []
   },
   "source": [
    "## Bivariate Analysis\n",
    "### What is the CreditGrade distribution for loans less than 5000 and for loans greater than 5000\n",
    "* 45% of the loans are <= $5000 where the borrowers CreditGrade is predominately C or below!\n",
    "* The creditgrades for loans <= 5000 are considerably lower than those that are > 5000<br>"
   ]
  },
  {
   "cell_type": "code",
   "execution_count": 144,
   "metadata": {},
   "outputs": [
    {
     "data": {
      "text/plain": [
       "949894347"
      ]
     },
     "execution_count": 144,
     "metadata": {},
     "output_type": "execute_result"
    }
   ],
   "source": [
    "loanDF3.LoanOriginalAmount.sum()"
   ]
  },
  {
   "cell_type": "markdown",
   "metadata": {},
   "source": [
    "#### $950,000,000 ALL loans summation"
   ]
  },
  {
   "cell_type": "code",
   "execution_count": 145,
   "metadata": {
    "scrolled": true
   },
   "outputs": [
    {
     "data": {
      "text/plain": [
       "821818138"
      ]
     },
     "execution_count": 145,
     "metadata": {},
     "output_type": "execute_result"
    }
   ],
   "source": [
    "# Total the Loan Original Amount for all Completed & Current loans \n",
    "completed_current['LoanOriginalAmount'].sum()"
   ]
  },
  {
   "cell_type": "markdown",
   "metadata": {},
   "source": [
    "#### $820,000,000 Current or Completed loans summation"
   ]
  },
  {
   "cell_type": "code",
   "execution_count": 146,
   "metadata": {},
   "outputs": [
    {
     "data": {
      "text/plain": [
       "CreditGrade\n",
       "AA   9144.0658\n",
       "A    9292.1638\n",
       "B    8313.0813\n",
       "C    6100.6635\n",
       "D    4785.5275\n",
       "E    3391.9413\n",
       "HR   2453.6129\n",
       "Name: LoanOriginalAmount, dtype: float64"
      ]
     },
     "execution_count": 146,
     "metadata": {},
     "output_type": "execute_result"
    }
   ],
   "source": [
    "loanDF.groupby('CreditGrade')['LoanOriginalAmount'].mean()"
   ]
  },
  {
   "cell_type": "code",
   "execution_count": 147,
   "metadata": {},
   "outputs": [
    {
     "data": {
      "text/plain": [
       "<seaborn.axisgrid.FacetGrid at 0x20037a39370>"
      ]
     },
     "execution_count": 147,
     "metadata": {},
     "output_type": "execute_result"
    },
    {
     "data": {
      "image/png": "[encoded data removed]",
      "text/plain": [
       "<Figure size 1134x1512 with 7 Axes>"
      ]
     },
     "metadata": {},
     "output_type": "display_data"
    }
   ],
   "source": [
    "\n",
    "sb.displot(data=loanDF, x='LoanOriginalAmount', col=\"CreditGrade\", height=7, aspect=.75, col_wrap=3)\n",
    "\n",
    "#axes = axes.flatten()\n",
    "#print(axes)"
   ]
  },
  {
   "cell_type": "markdown",
   "metadata": {},
   "source": [
    "## Faceted Histogram Analysis\n",
    "\n",
    "* "
   ]
  },
  {
   "cell_type": "code",
   "execution_count": null,
   "metadata": {},
   "outputs": [],
   "source": []
  },
  {
   "cell_type": "code",
   "execution_count": null,
   "metadata": {},
   "outputs": [],
   "source": []
  },
  {
   "cell_type": "code",
   "execution_count": null,
   "metadata": {},
   "outputs": [],
   "source": []
  },
  {
   "cell_type": "code",
   "execution_count": null,
   "metadata": {},
   "outputs": [],
   "source": []
  },
  {
   "cell_type": "markdown",
   "metadata": {
    "tags": []
   },
   "source": [
    "# Bivariate Exploration \n",
    "## Defaulted & Chargedoff Loan relationships\n",
    "#### For all past due accounts, what is the homeownership?"
   ]
  },
  {
   "cell_type": "code",
   "execution_count": 148,
   "metadata": {},
   "outputs": [
    {
     "data": {
      "text/plain": [
       "False    9405\n",
       "True     7605\n",
       "Name: IsBorrowerHomeowner, dtype: int64"
      ]
     },
     "execution_count": 148,
     "metadata": {},
     "output_type": "execute_result"
    }
   ],
   "source": [
    "defaulted_chargedoff.IsBorrowerHomeowner.value_counts()"
   ]
  },
  {
   "cell_type": "code",
   "execution_count": 149,
   "metadata": {},
   "outputs": [],
   "source": [
    "#sb.displot(data=defaulted_chargedoff, x='IsBorrowerHomeowner', "
   ]
  },
  {
   "cell_type": "code",
   "execution_count": 150,
   "metadata": {},
   "outputs": [
    {
     "data": {
      "text/plain": [
       "True     498\n",
       "False    498\n",
       "Name: IsBorrowerHomeowner, dtype: int64"
      ]
     },
     "execution_count": 150,
     "metadata": {},
     "output_type": "execute_result"
    }
   ],
   "source": [
    "all_past.IsBorrowerHomeowner.value_counts()"
   ]
  },
  {
   "cell_type": "code",
   "execution_count": 151,
   "metadata": {},
   "outputs": [],
   "source": [
    "#sb.regplot(data=defaulted_chargedoff, x=LoanOriginalAmount"
   ]
  },
  {
   "cell_type": "code",
   "execution_count": 152,
   "metadata": {},
   "outputs": [
    {
     "data": {
      "image/png": "[encoded data removed]",
      "text/plain": [
       "<Figure size 1512x216 with 7 Axes>"
      ]
     },
     "metadata": {},
     "output_type": "display_data"
    }
   ],
   "source": [
    "g = sb.FacetGrid(loanDF, col=\"CreditGrade\")\n",
    "#g.map(sb.hist\n",
    " #     \n",
    "  #    plot, \"LoanOriginalAmount\")"
   ]
  },
  {
   "cell_type": "code",
   "execution_count": 153,
   "metadata": {},
   "outputs": [],
   "source": [
    "# all past due loans, what are the homeownership stats?\n",
    "homeowner = all_past.IsBorrowerHomeowner.value_counts().to_frame()"
   ]
  },
  {
   "cell_type": "code",
   "execution_count": 154,
   "metadata": {},
   "outputs": [],
   "source": [
    "#sb.countplot(all_past.IsBorrowerHomeowner.value_counts().to_frame())"
   ]
  },
  {
   "cell_type": "code",
   "execution_count": 155,
   "metadata": {},
   "outputs": [
    {
     "data": {
      "text/plain": [
       "(38074, 65)"
      ]
     },
     "execution_count": 155,
     "metadata": {},
     "output_type": "execute_result"
    }
   ],
   "source": [
    "completed = loanDF.query(\"LoanStatus == 'Completed'\")\n",
    "completed.shape"
   ]
  },
  {
   "cell_type": "code",
   "execution_count": 156,
   "metadata": {},
   "outputs": [
    {
     "data": {
      "text/plain": [
       "False    19794\n",
       "True     18280\n",
       "Name: IsBorrowerHomeowner, dtype: int64"
      ]
     },
     "execution_count": 156,
     "metadata": {},
     "output_type": "execute_result"
    }
   ],
   "source": [
    "# What does homeownership look like for loans that have been completed\n",
    "completed.IsBorrowerHomeowner.value_counts()"
   ]
  },
  {
   "cell_type": "code",
   "execution_count": 157,
   "metadata": {},
   "outputs": [
    {
     "data": {
      "text/plain": [
       "660.0000    181\n",
       "680.0000    175\n",
       "700.0000    149\n",
       "640.0000    126\n",
       "720.0000    117\n",
       "740.0000     84\n",
       "760.0000     57\n",
       "620.0000     33\n",
       "600.0000     26\n",
       "780.0000     20\n",
       "800.0000     17\n",
       "820.0000     11\n",
       "Name: CreditScoreRangeLower, dtype: int64"
      ]
     },
     "execution_count": 157,
     "metadata": {},
     "output_type": "execute_result"
    }
   ],
   "source": [
    "all_past.CreditScoreRangeLower.value_counts()"
   ]
  },
  {
   "cell_type": "code",
   "execution_count": 158,
   "metadata": {},
   "outputs": [
    {
     "data": {
      "text/plain": [
       "679.0000    181\n",
       "699.0000    175\n",
       "719.0000    149\n",
       "659.0000    126\n",
       "739.0000    117\n",
       "759.0000     84\n",
       "779.0000     57\n",
       "639.0000     33\n",
       "619.0000     26\n",
       "799.0000     20\n",
       "819.0000     17\n",
       "839.0000     11\n",
       "Name: CreditScoreRangeUpper, dtype: int64"
      ]
     },
     "execution_count": 158,
     "metadata": {},
     "output_type": "execute_result"
    }
   ],
   "source": [
    "all_past.CreditScoreRangeUpper.value_counts()"
   ]
  },
  {
   "cell_type": "markdown",
   "metadata": {},
   "source": [
    "**LoanStatus** could be interesting to investigate further. For example, let's look at all \"Past Due...\" & look at various vars from there. **IncomeRange**, **CreditGrade**, **Occupation**"
   ]
  },
  {
   "cell_type": "code",
   "execution_count": 159,
   "metadata": {},
   "outputs": [
    {
     "data": {
      "text/plain": [
       "$25,000-49,999    342\n",
       "$50,000-74,999    287\n",
       "$75,000-99,999    141\n",
       "$100,000+         131\n",
       "$1-24,999          81\n",
       "Not employed       12\n",
       "0                   0\n",
       "Not displayed       0\n",
       "Name: IncomeRange, dtype: int64"
      ]
     },
     "execution_count": 159,
     "metadata": {},
     "output_type": "execute_result"
    }
   ],
   "source": [
    "# view count of values\n",
    "all_past.IncomeRange.value_counts()"
   ]
  },
  {
   "cell_type": "code",
   "execution_count": 160,
   "metadata": {},
   "outputs": [
    {
     "data": {
      "text/plain": [
       "0.3177    103\n",
       "0.3134     27\n",
       "0.2699     21\n",
       "0.3199     20\n",
       "0.2489     18\n",
       "         ... \n",
       "0.1970      1\n",
       "0.1949      1\n",
       "0.2710      1\n",
       "0.1644      1\n",
       "0.1999      1\n",
       "Name: BorrowerRate, Length: 248, dtype: int64"
      ]
     },
     "execution_count": 160,
     "metadata": {},
     "output_type": "execute_result"
    }
   ],
   "source": [
    "# view count of values\n",
    "all_past.BorrowerRate.value_counts()"
   ]
  },
  {
   "cell_type": "code",
   "execution_count": 161,
   "metadata": {},
   "outputs": [
    {
     "name": "stdout",
     "output_type": "stream",
     "text": [
      "0.0000     759\n",
      "1.0000     140\n",
      "2.0000      36\n",
      "3.0000      21\n",
      "4.0000      11\n",
      "5.0000      11\n",
      "6.0000       5\n",
      "9.0000       3\n",
      "7.0000       2\n",
      "8.0000       2\n",
      "13.0000      2\n",
      "14.0000      1\n",
      "27.0000      1\n",
      "10.0000      1\n",
      "12.0000      1\n",
      "Name: CurrentDelinquencies, dtype: int64\n"
     ]
    }
   ],
   "source": [
    "# view count of values\n",
    "print(all_past.CurrentDelinquencies.value_counts())\n",
    "# This plot doesn't work\n",
    "#sb.displot(all_past.CurrentDelinquencies.value_counts())"
   ]
  },
  {
   "cell_type": "code",
   "execution_count": 162,
   "metadata": {},
   "outputs": [
    {
     "data": {
      "text/plain": [
       "$25,000-49,999    32192\n",
       "$50,000-74,999    31050\n",
       "$100,000+         17337\n",
       "$75,000-99,999    16916\n",
       "Not displayed      7741\n",
       "$1-24,999          7274\n",
       "Not employed        806\n",
       "0                     0\n",
       "Name: IncomeRange, dtype: int64"
      ]
     },
     "execution_count": 162,
     "metadata": {},
     "output_type": "execute_result"
    }
   ],
   "source": [
    "loanDF.IncomeRange.value_counts()"
   ]
  },
  {
   "cell_type": "markdown",
   "metadata": {},
   "source": [
    "**IncomeRange** -- another interesting variable to compare with others. I'm particularly interested in the $100,000+ bracket."
   ]
  },
  {
   "cell_type": "code",
   "execution_count": 163,
   "metadata": {},
   "outputs": [
    {
     "data": {
      "text/plain": [
       "count             113937.0\n",
       "mean     5607.706925757217\n",
       "std     7478.4905102183375\n",
       "min                    0.0\n",
       "25%                 3200.0\n",
       "50%                 4666.0\n",
       "75%                 6825.0\n",
       "max              1750002.0\n",
       "Name: StatedMonthlyIncome, dtype: float64"
      ]
     },
     "execution_count": 163,
     "metadata": {},
     "output_type": "execute_result"
    }
   ],
   "source": [
    "# explore breakdown of Monthly Incomes\n",
    "pd.set_option('display.float_format', str)\n",
    "loanDF['StatedMonthlyIncome'] = loanDF['StatedMonthlyIncome'].astype(np.int64)\n",
    "loanDF['StatedMonthlyIncome'].describe()"
   ]
  },
  {
   "cell_type": "code",
   "execution_count": 164,
   "metadata": {},
   "outputs": [
    {
     "data": {
      "text/plain": [
       "Other                                28617\n",
       "Professional                         13628\n",
       "Computer Programmer                   4478\n",
       "Executive                             4311\n",
       "Teacher                               3759\n",
       "Administrative Assistant              3688\n",
       "Analyst                               3602\n",
       "Sales - Commission                    3446\n",
       "Accountant/CPA                        3233\n",
       "Clerical                              3164\n",
       "Sales - Retail                        2797\n",
       "Skilled Labor                         2746\n",
       "Retail Management                     2602\n",
       "Nurse (RN)                            2489\n",
       "Construction                          1790\n",
       "Truck Driver                          1675\n",
       "Laborer                               1595\n",
       "Police Officer/Correction Officer     1578\n",
       "Civil Service                         1457\n",
       "Engineer - Mechanical                 1406\n",
       "Military Enlisted                     1272\n",
       "Food Service Management               1239\n",
       "Engineer - Electrical                 1125\n",
       "Food Service                          1123\n",
       "Medical Technician                    1117\n",
       "Attorney                              1046\n",
       "Tradesman - Mechanic                   951\n",
       "Social Worker                          741\n",
       "Postal Service                         627\n",
       "Professor                              557\n",
       "Name: Occupation, dtype: int64"
      ]
     },
     "execution_count": 164,
     "metadata": {},
     "output_type": "execute_result"
    }
   ],
   "source": [
    "loanDF.Occupation.value_counts().head(30)"
   ]
  },
  {
   "cell_type": "markdown",
   "metadata": {},
   "source": [
    "### What characteristics correlate with lower interest rate for loans?"
   ]
  },
  {
   "cell_type": "code",
   "execution_count": 165,
   "metadata": {},
   "outputs": [
    {
     "data": {
      "text/plain": [
       "'1.3.1'"
      ]
     },
     "execution_count": 165,
     "metadata": {},
     "output_type": "execute_result"
    }
   ],
   "source": [
    "pd.__version__"
   ]
  },
  {
   "cell_type": "code",
   "execution_count": 166,
   "metadata": {
    "scrolled": true
   },
   "outputs": [
    {
     "name": "stdout",
     "output_type": "stream",
     "text": [
      "Top 5 states with lowest average interest rate: \n",
      " BorrowerState\n",
      "IA   0.16375376344086023\n",
      "ME   0.16445841584158413\n",
      "DC    0.1744589005235602\n",
      "DE    0.1801586666666667\n",
      "MA    0.1838613291703836\n",
      "Name: BorrowerRate, dtype: float64\n",
      "Top 5 states with **highest** interest rate: \n",
      "BorrowerState\n",
      "SD   0.20484179894179894\n",
      "ID   0.20513205342237062\n",
      "AR   0.20630257309941522\n",
      "ND   0.21147307692307693\n",
      "AL   0.21201375818939844\n",
      "Name: BorrowerRate, dtype: float64\n"
     ]
    }
   ],
   "source": [
    "# Show mean BorrowerRate by State\n",
    "BorrowerRatebyState = loanDF.groupby('BorrowerState')['BorrowerRate'].mean().sort_values()\n",
    "print(f\"Top 5 states with lowest average interest rate: \\n {BorrowerRatebyState.head(5)}\")\n",
    "print(f\"Top 5 states with **highest** interest rate: \\n{BorrowerRatebyState.tail(5)}\")"
   ]
  },
  {
   "cell_type": "code",
   "execution_count": 167,
   "metadata": {
    "scrolled": true
   },
   "outputs": [
    {
     "name": "stdout",
     "output_type": "stream",
     "text": [
      "Top 5 states with lowest debt to income ratio: \n",
      " BorrowerState\n",
      "DC     0.225564738292011\n",
      "NJ   0.23115855792789639\n",
      "NY    0.2434477721642764\n",
      "MA    0.2472519151977132\n",
      "RI                 0.248\n",
      "Name: DebtToIncomeRatio, dtype: float64\n",
      "Top 5 states with **highest** deb to income ratio: \n",
      "BorrowerState\n",
      "ID   0.30108107011070107\n",
      "MS     0.301362782369146\n",
      "WY    0.3123880597014925\n",
      "MT    0.3591666666666667\n",
      "UT   0.36550190597204574\n",
      "Name: DebtToIncomeRatio, dtype: float64\n"
     ]
    }
   ],
   "source": [
    "# Show mean Debt-to-Income-Ratio by State\n",
    "DebtRatiobyState = loanDF.groupby('BorrowerState')['DebtToIncomeRatio'].mean().sort_values()\n",
    "print(f\"Top 5 states with lowest debt to income ratio: \\n {DebtRatiobyState.head(5)}\")\n",
    "print(f\"Top 5 states with **highest** deb to income ratio: \\n{DebtRatiobyState.tail(5)}\")"
   ]
  },
  {
   "cell_type": "code",
   "execution_count": 168,
   "metadata": {
    "scrolled": true
   },
   "outputs": [
    {
     "data": {
      "text/plain": [
       "Occupation\n",
       "Doctor                       14936.613360323887\n",
       "Attorney                     11569.706500956023\n",
       "Judge                        10807.772727272728\n",
       "Executive                    10737.662259336581\n",
       "Dentist                      10547.779411764706\n",
       "Pharmacist                   10208.081712062256\n",
       "Investor                      9390.233644859813\n",
       "Pilot - Private/Commercial    8818.336683417085\n",
       "Engineer - Chemical           8527.662222222221\n",
       "Principal                     7688.990384615385\n",
       "Military Officer              7582.031791907514\n",
       "Engineer - Electrical         7562.134222222222\n",
       "Computer Programmer           7143.675748101831\n",
       "Professional                  7049.856765482829\n",
       "Nurse (RN)                    6752.228605865809\n",
       "Name: StatedMonthlyIncome, dtype: float64"
      ]
     },
     "execution_count": 168,
     "metadata": {},
     "output_type": "execute_result"
    }
   ],
   "source": [
    "# get top 15 occupations with highest Stated monthly incomes\n",
    "occupation_income = loanDF.groupby('Occupation')['StatedMonthlyIncome'].mean().sort_values(ascending=False)\n",
    "occupation_income.head(15)"
   ]
  },
  {
   "cell_type": "code",
   "execution_count": 169,
   "metadata": {
    "scrolled": true
   },
   "outputs": [
    {
     "data": {
      "text/plain": [
       "Occupation\n",
       "Bus Driver                            3673.018987341772\n",
       "Sales - Retail                       3574.9116910976045\n",
       "Laborer                              3432.0802507836993\n",
       "Clerical                              3120.766434892541\n",
       "Food Service                           2773.73285841496\n",
       "Nurse's Aide                         2767.5254582484727\n",
       "Waiter/Waitress                      2454.0573394495414\n",
       "Teacher's Aide                       2155.5978260869565\n",
       "Student - College Graduate Student   2054.3020408163266\n",
       "Student - Community College          1677.2857142857142\n",
       "Student - College Freshman            1608.219512195122\n",
       "Student - Technical School                    1368.8125\n",
       "Student - College Senior              1299.404255319149\n",
       "Student - College Junior              1189.919642857143\n",
       "Student - College Sophomore          1005.0434782608696\n",
       "Name: StatedMonthlyIncome, dtype: float64"
      ]
     },
     "execution_count": 169,
     "metadata": {},
     "output_type": "execute_result"
    }
   ],
   "source": [
    "# lowest stated monthly incomes by occupation\n",
    "occupation_income.tail(15)"
   ]
  },
  {
   "cell_type": "code",
   "execution_count": 170,
   "metadata": {},
   "outputs": [],
   "source": [
    "# create dictionary to translate \"Listing Category (numerical)\"\n",
    "listingcategory_dict = {\n",
    "    0:'Not Available',\n",
    "    1:'Debt Consolidation',\n",
    "    2:'Home Improvement',\n",
    "    3:'Business',\n",
    "    4:'Personal Loan',\n",
    "    5:'Student Use',\n",
    "    6:'Auto',\n",
    "    7:'Other',\n",
    "    8:'Baby & Adoption',\n",
    "    9:'Boat',\n",
    "    10:'Cosmetic Procedure',\n",
    "    11:'Engagement Ring',\n",
    "    12:'Green Loans',\n",
    "    13:'Household Expenses',\n",
    "    14:'Large Purchases',\n",
    "    15:'Medical/Dental',\n",
    "    16:'Motorcycle',\n",
    "    17:'RV',\n",
    "    18:'Taxes',\n",
    "    19:'Vacation',\n",
    "    20:'Wedding Loans'\n",
    "}"
   ]
  },
  {
   "cell_type": "code",
   "execution_count": 171,
   "metadata": {},
   "outputs": [
    {
     "data": {
      "text/plain": [
       "'Cosmetic Procedure'"
      ]
     },
     "execution_count": 171,
     "metadata": {},
     "output_type": "execute_result"
    }
   ],
   "source": [
    "# test dictionary\n",
    "listingcategory_dict[10]"
   ]
  },
  {
   "cell_type": "code",
   "execution_count": 172,
   "metadata": {},
   "outputs": [
    {
     "name": "stdout",
     "output_type": "stream",
     "text": [
      "Top 10 Listing Categories \n",
      "18      885\n",
      "15     1522\n",
      "13     1996\n",
      "4      2395\n",
      "6      2572\n",
      "3      7189\n",
      "2      7433\n",
      "7     10494\n",
      "0     16965\n",
      "1     58308\n",
      "Name: ListingCategory (numeric), dtype: int64\n",
      "\n",
      "Total # of loans represented by the top 10: 109759\n"
     ]
    }
   ],
   "source": [
    "# How many loans are there of each ListingCategory\n",
    "listcat_loans = loanDF['ListingCategory (numeric)'].value_counts().sort_values().tail(10)\n",
    "print(f\"Top 10 Listing Categories \\n{listcat_loans}\")\n",
    "print(f\"\\nTotal # of loans represented by the top 10: {listcat_loans.sum()}\")"
   ]
  },
  {
   "cell_type": "code",
   "execution_count": 173,
   "metadata": {},
   "outputs": [
    {
     "data": {
      "text/html": [
       "<div>\n",
       "<style scoped>\n",
       "    .dataframe tbody tr th:only-of-type {\n",
       "        vertical-align: middle;\n",
       "    }\n",
       "\n",
       "    .dataframe tbody tr th {\n",
       "        vertical-align: top;\n",
       "    }\n",
       "\n",
       "    .dataframe thead th {\n",
       "        text-align: right;\n",
       "    }\n",
       "</style>\n",
       "<table border=\"1\" class=\"dataframe\">\n",
       "  <thead>\n",
       "    <tr style=\"text-align: right;\">\n",
       "      <th></th>\n",
       "      <th>ListingCategory (numeric)</th>\n",
       "    </tr>\n",
       "  </thead>\n",
       "  <tbody>\n",
       "    <tr>\n",
       "      <th>18</th>\n",
       "      <td>885</td>\n",
       "    </tr>\n",
       "    <tr>\n",
       "      <th>15</th>\n",
       "      <td>1522</td>\n",
       "    </tr>\n",
       "    <tr>\n",
       "      <th>13</th>\n",
       "      <td>1996</td>\n",
       "    </tr>\n",
       "    <tr>\n",
       "      <th>4</th>\n",
       "      <td>2395</td>\n",
       "    </tr>\n",
       "    <tr>\n",
       "      <th>6</th>\n",
       "      <td>2572</td>\n",
       "    </tr>\n",
       "    <tr>\n",
       "      <th>3</th>\n",
       "      <td>7189</td>\n",
       "    </tr>\n",
       "    <tr>\n",
       "      <th>2</th>\n",
       "      <td>7433</td>\n",
       "    </tr>\n",
       "    <tr>\n",
       "      <th>7</th>\n",
       "      <td>10494</td>\n",
       "    </tr>\n",
       "    <tr>\n",
       "      <th>0</th>\n",
       "      <td>16965</td>\n",
       "    </tr>\n",
       "    <tr>\n",
       "      <th>1</th>\n",
       "      <td>58308</td>\n",
       "    </tr>\n",
       "  </tbody>\n",
       "</table>\n",
       "</div>"
      ],
      "text/plain": [
       "    ListingCategory (numeric)\n",
       "18                        885\n",
       "15                       1522\n",
       "13                       1996\n",
       "4                        2395\n",
       "6                        2572\n",
       "3                        7189\n",
       "2                        7433\n",
       "7                       10494\n",
       "0                       16965\n",
       "1                       58308"
      ]
     },
     "execution_count": 173,
     "metadata": {},
     "output_type": "execute_result"
    }
   ],
   "source": [
    "# Convert Series 'listcat' to dataframe using to_frame()\n",
    "listcat = listcat_loans.to_frame()\n",
    "listcat"
   ]
  },
  {
   "cell_type": "code",
   "execution_count": 174,
   "metadata": {},
   "outputs": [],
   "source": [
    "listcat.name = 'ListingCategory'"
   ]
  },
  {
   "cell_type": "code",
   "execution_count": 175,
   "metadata": {},
   "outputs": [
    {
     "data": {
      "text/html": [
       "<div>\n",
       "<style scoped>\n",
       "    .dataframe tbody tr th:only-of-type {\n",
       "        vertical-align: middle;\n",
       "    }\n",
       "\n",
       "    .dataframe tbody tr th {\n",
       "        vertical-align: top;\n",
       "    }\n",
       "\n",
       "    .dataframe thead th {\n",
       "        text-align: right;\n",
       "    }\n",
       "</style>\n",
       "<table border=\"1\" class=\"dataframe\">\n",
       "  <thead>\n",
       "    <tr style=\"text-align: right;\">\n",
       "      <th></th>\n",
       "      <th>ListingCategory (numeric)</th>\n",
       "      <th>Listing Category</th>\n",
       "    </tr>\n",
       "  </thead>\n",
       "  <tbody>\n",
       "    <tr>\n",
       "      <th>18</th>\n",
       "      <td>885</td>\n",
       "      <td>18</td>\n",
       "    </tr>\n",
       "    <tr>\n",
       "      <th>15</th>\n",
       "      <td>1522</td>\n",
       "      <td>15</td>\n",
       "    </tr>\n",
       "    <tr>\n",
       "      <th>13</th>\n",
       "      <td>1996</td>\n",
       "      <td>13</td>\n",
       "    </tr>\n",
       "    <tr>\n",
       "      <th>4</th>\n",
       "      <td>2395</td>\n",
       "      <td>4</td>\n",
       "    </tr>\n",
       "    <tr>\n",
       "      <th>6</th>\n",
       "      <td>2572</td>\n",
       "      <td>6</td>\n",
       "    </tr>\n",
       "    <tr>\n",
       "      <th>3</th>\n",
       "      <td>7189</td>\n",
       "      <td>3</td>\n",
       "    </tr>\n",
       "    <tr>\n",
       "      <th>2</th>\n",
       "      <td>7433</td>\n",
       "      <td>2</td>\n",
       "    </tr>\n",
       "    <tr>\n",
       "      <th>7</th>\n",
       "      <td>10494</td>\n",
       "      <td>7</td>\n",
       "    </tr>\n",
       "    <tr>\n",
       "      <th>0</th>\n",
       "      <td>16965</td>\n",
       "      <td>0</td>\n",
       "    </tr>\n",
       "    <tr>\n",
       "      <th>1</th>\n",
       "      <td>58308</td>\n",
       "      <td>1</td>\n",
       "    </tr>\n",
       "  </tbody>\n",
       "</table>\n",
       "</div>"
      ],
      "text/plain": [
       "    ListingCategory (numeric)  Listing Category\n",
       "18                        885                18\n",
       "15                       1522                15\n",
       "13                       1996                13\n",
       "4                        2395                 4\n",
       "6                        2572                 6\n",
       "3                        7189                 3\n",
       "2                        7433                 2\n",
       "7                       10494                 7\n",
       "0                       16965                 0\n",
       "1                       58308                 1"
      ]
     },
     "execution_count": 175,
     "metadata": {},
     "output_type": "execute_result"
    }
   ],
   "source": [
    "listcat['Listing Category'] = listcat.index\n",
    "listcat"
   ]
  },
  {
   "cell_type": "code",
   "execution_count": 176,
   "metadata": {},
   "outputs": [
    {
     "name": "stdout",
     "output_type": "stream",
     "text": [
      "(0, 18)\n",
      "(1, 15)\n",
      "(2, 13)\n",
      "(3, 4)\n",
      "(4, 6)\n",
      "(5, 3)\n",
      "(6, 2)\n",
      "(7, 7)\n",
      "(8, 0)\n",
      "(9, 1)\n"
     ]
    }
   ],
   "source": [
    "# delete\n",
    "for i in enumerate(listcat_loans.index):\n",
    "    print(i)"
   ]
  },
  {
   "cell_type": "code",
   "execution_count": 177,
   "metadata": {},
   "outputs": [
    {
     "name": "stdout",
     "output_type": "stream",
     "text": [
      "18\n",
      "15\n",
      "13\n",
      "4\n",
      "6\n",
      "3\n",
      "2\n",
      "7\n",
      "0\n",
      "1\n"
     ]
    }
   ],
   "source": [
    "# delete\n",
    "for i in listcat_loans.index:\n",
    "    print(i)"
   ]
  },
  {
   "cell_type": "code",
   "execution_count": 178,
   "metadata": {},
   "outputs": [
    {
     "data": {
      "text/plain": [
       "{0: 'Not Available',\n",
       " 1: 'Debt Consolidation',\n",
       " 2: 'Home Improvement',\n",
       " 3: 'Business',\n",
       " 4: 'Personal Loan',\n",
       " 5: 'Student Use',\n",
       " 6: 'Auto',\n",
       " 7: 'Other',\n",
       " 8: 'Baby & Adoption',\n",
       " 9: 'Boat',\n",
       " 10: 'Cosmetic Procedure',\n",
       " 11: 'Engagement Ring',\n",
       " 12: 'Green Loans',\n",
       " 13: 'Household Expenses',\n",
       " 14: 'Large Purchases',\n",
       " 15: 'Medical/Dental',\n",
       " 16: 'Motorcycle',\n",
       " 17: 'RV',\n",
       " 18: 'Taxes',\n",
       " 19: 'Vacation',\n",
       " 20: 'Wedding Loans'}"
      ]
     },
     "execution_count": 178,
     "metadata": {},
     "output_type": "execute_result"
    }
   ],
   "source": [
    "listingcategory_dict"
   ]
  },
  {
   "cell_type": "code",
   "execution_count": 179,
   "metadata": {},
   "outputs": [
    {
     "data": {
      "text/html": [
       "<div>\n",
       "<style scoped>\n",
       "    .dataframe tbody tr th:only-of-type {\n",
       "        vertical-align: middle;\n",
       "    }\n",
       "\n",
       "    .dataframe tbody tr th {\n",
       "        vertical-align: top;\n",
       "    }\n",
       "\n",
       "    .dataframe thead th {\n",
       "        text-align: right;\n",
       "    }\n",
       "</style>\n",
       "<table border=\"1\" class=\"dataframe\">\n",
       "  <thead>\n",
       "    <tr style=\"text-align: right;\">\n",
       "      <th></th>\n",
       "      <th>ListingCategory (numeric)</th>\n",
       "      <th>Listing Category</th>\n",
       "    </tr>\n",
       "  </thead>\n",
       "  <tbody>\n",
       "    <tr>\n",
       "      <th>18</th>\n",
       "      <td>885</td>\n",
       "      <td>18</td>\n",
       "    </tr>\n",
       "    <tr>\n",
       "      <th>15</th>\n",
       "      <td>1522</td>\n",
       "      <td>15</td>\n",
       "    </tr>\n",
       "    <tr>\n",
       "      <th>13</th>\n",
       "      <td>1996</td>\n",
       "      <td>13</td>\n",
       "    </tr>\n",
       "    <tr>\n",
       "      <th>4</th>\n",
       "      <td>2395</td>\n",
       "      <td>4</td>\n",
       "    </tr>\n",
       "    <tr>\n",
       "      <th>6</th>\n",
       "      <td>2572</td>\n",
       "      <td>6</td>\n",
       "    </tr>\n",
       "    <tr>\n",
       "      <th>3</th>\n",
       "      <td>7189</td>\n",
       "      <td>3</td>\n",
       "    </tr>\n",
       "    <tr>\n",
       "      <th>2</th>\n",
       "      <td>7433</td>\n",
       "      <td>2</td>\n",
       "    </tr>\n",
       "    <tr>\n",
       "      <th>7</th>\n",
       "      <td>10494</td>\n",
       "      <td>7</td>\n",
       "    </tr>\n",
       "    <tr>\n",
       "      <th>0</th>\n",
       "      <td>16965</td>\n",
       "      <td>0</td>\n",
       "    </tr>\n",
       "    <tr>\n",
       "      <th>1</th>\n",
       "      <td>58308</td>\n",
       "      <td>1</td>\n",
       "    </tr>\n",
       "  </tbody>\n",
       "</table>\n",
       "</div>"
      ],
      "text/plain": [
       "    ListingCategory (numeric)  Listing Category\n",
       "18                        885                18\n",
       "15                       1522                15\n",
       "13                       1996                13\n",
       "4                        2395                 4\n",
       "6                        2572                 6\n",
       "3                        7189                 3\n",
       "2                        7433                 2\n",
       "7                       10494                 7\n",
       "0                       16965                 0\n",
       "1                       58308                 1"
      ]
     },
     "execution_count": 179,
     "metadata": {},
     "output_type": "execute_result"
    }
   ],
   "source": [
    "#listcat.columns = ['count','category']\n",
    "listcat"
   ]
  },
  {
   "cell_type": "code",
   "execution_count": 180,
   "metadata": {},
   "outputs": [],
   "source": [
    "#listcat.drop('Category', inplace=True)"
   ]
  },
  {
   "cell_type": "code",
   "execution_count": 181,
   "metadata": {},
   "outputs": [],
   "source": [
    "listcat_dict = listingcategory_dict.copy()"
   ]
  },
  {
   "cell_type": "code",
   "execution_count": 182,
   "metadata": {},
   "outputs": [
    {
     "data": {
      "text/plain": [
       "{0: 'Not Available',\n",
       " 1: 'Debt Consolidation',\n",
       " 2: 'Home Improvement',\n",
       " 3: 'Business',\n",
       " 4: 'Personal Loan',\n",
       " 5: 'Student Use',\n",
       " 6: 'Auto',\n",
       " 7: 'Other',\n",
       " 8: 'Baby & Adoption',\n",
       " 9: 'Boat',\n",
       " 10: 'Cosmetic Procedure',\n",
       " 11: 'Engagement Ring',\n",
       " 12: 'Green Loans',\n",
       " 13: 'Household Expenses',\n",
       " 14: 'Large Purchases',\n",
       " 15: 'Medical/Dental',\n",
       " 16: 'Motorcycle',\n",
       " 17: 'RV',\n",
       " 18: 'Taxes',\n",
       " 19: 'Vacation',\n",
       " 20: 'Wedding Loans'}"
      ]
     },
     "execution_count": 182,
     "metadata": {},
     "output_type": "execute_result"
    }
   ],
   "source": [
    "listcat_dict"
   ]
  },
  {
   "cell_type": "code",
   "execution_count": 183,
   "metadata": {},
   "outputs": [
    {
     "data": {
      "text/plain": [
       "'for i in len(listcat):\\n    listcat[\\'category\\'] = listingcategory_dict[listcat[i]]\\n        \\n#print(f\"listcat_loans.loc[index]: {listcat_loans.loc[index]}\")\\nlistcat_loans'"
      ]
     },
     "execution_count": 183,
     "metadata": {},
     "output_type": "execute_result"
    }
   ],
   "source": [
    "#index = 3\n",
    "#print(f\"listcat_loans: {listcat_loans.}\")\n",
    "\n",
    "'''for i in len(listcat):\n",
    "    listcat['category'] = listingcategory_dict[listcat[i]]\n",
    "        \n",
    "#print(f\"listcat_loans.loc[index]: {listcat_loans.loc[index]}\")\n",
    "listcat_loans'''"
   ]
  },
  {
   "cell_type": "code",
   "execution_count": 184,
   "metadata": {},
   "outputs": [
    {
     "data": {
      "text/html": [
       "<div>\n",
       "<style scoped>\n",
       "    .dataframe tbody tr th:only-of-type {\n",
       "        vertical-align: middle;\n",
       "    }\n",
       "\n",
       "    .dataframe tbody tr th {\n",
       "        vertical-align: top;\n",
       "    }\n",
       "\n",
       "    .dataframe thead th {\n",
       "        text-align: right;\n",
       "    }\n",
       "</style>\n",
       "<table border=\"1\" class=\"dataframe\">\n",
       "  <thead>\n",
       "    <tr style=\"text-align: right;\">\n",
       "      <th></th>\n",
       "      <th>ListingCategory (numeric)</th>\n",
       "      <th>Listing Category</th>\n",
       "    </tr>\n",
       "  </thead>\n",
       "  <tbody>\n",
       "    <tr>\n",
       "      <th>18</th>\n",
       "      <td>885</td>\n",
       "      <td>18</td>\n",
       "    </tr>\n",
       "    <tr>\n",
       "      <th>15</th>\n",
       "      <td>1522</td>\n",
       "      <td>15</td>\n",
       "    </tr>\n",
       "    <tr>\n",
       "      <th>13</th>\n",
       "      <td>1996</td>\n",
       "      <td>13</td>\n",
       "    </tr>\n",
       "    <tr>\n",
       "      <th>4</th>\n",
       "      <td>2395</td>\n",
       "      <td>4</td>\n",
       "    </tr>\n",
       "    <tr>\n",
       "      <th>6</th>\n",
       "      <td>2572</td>\n",
       "      <td>6</td>\n",
       "    </tr>\n",
       "    <tr>\n",
       "      <th>3</th>\n",
       "      <td>7189</td>\n",
       "      <td>3</td>\n",
       "    </tr>\n",
       "    <tr>\n",
       "      <th>2</th>\n",
       "      <td>7433</td>\n",
       "      <td>2</td>\n",
       "    </tr>\n",
       "    <tr>\n",
       "      <th>7</th>\n",
       "      <td>10494</td>\n",
       "      <td>7</td>\n",
       "    </tr>\n",
       "    <tr>\n",
       "      <th>0</th>\n",
       "      <td>16965</td>\n",
       "      <td>0</td>\n",
       "    </tr>\n",
       "    <tr>\n",
       "      <th>1</th>\n",
       "      <td>58308</td>\n",
       "      <td>1</td>\n",
       "    </tr>\n",
       "  </tbody>\n",
       "</table>\n",
       "</div>"
      ],
      "text/plain": [
       "    ListingCategory (numeric)  Listing Category\n",
       "18                        885                18\n",
       "15                       1522                15\n",
       "13                       1996                13\n",
       "4                        2395                 4\n",
       "6                        2572                 6\n",
       "3                        7189                 3\n",
       "2                        7433                 2\n",
       "7                       10494                 7\n",
       "0                       16965                 0\n",
       "1                       58308                 1"
      ]
     },
     "execution_count": 184,
     "metadata": {},
     "output_type": "execute_result"
    }
   ],
   "source": [
    "#listcat_loans['Category'] = listingcategory_dict[listcat_loans.loc[index]\n",
    "listcat"
   ]
  },
  {
   "cell_type": "markdown",
   "metadata": {},
   "source": [
    "#### 1-Debt Consolidation @ 58308, 0-Not Avail., 7-other, 2-Home Improvement @ 7433, 3-Business @ 7189, 6-Auto @ 2572 \n",
    "\n",
    "The category of the listing that the borrower selected when posting their listing: <br/><br/>\n",
    "*0 - Not Available, 1 - Debt Consolidation, 2 - Home Improvement,* <br/>\n",
    "*3 - Business, 4 - Personal Loan*, 5 - Student Use, <br/>\n",
    "*6 - Auto, 7- Other*, 8 - Baby&Adoption, 9 - Boat, <br/>\n",
    "10 - Cosmetic Procedure, 11 - Engagement Ring, <br/>\n",
    "12 - Green Loans, *13 - Household Expenses*, 14 - Large Purchases, <br/>\n",
    "*15 - Medical/Dental*, 16 - Motorcycle, 17 - RV, <br/>\n",
    "*18 - Taxes*, 19 - Vacation, 20 - Wedding Loans <br/>"
   ]
  },
  {
   "cell_type": "markdown",
   "metadata": {},
   "source": [
    "### What is the structure of your dataset?\n",
    "\n",
    "> The Prosper Loan Data set is 113937 records with 81 variable/columns. Loan data includes everything from loan type, to BorrowerRate\n",
    "\n",
    "### What is/are the main feature(s) of interest in your dataset?\n",
    "\n",
    "> Greatest interest so far: loan amount, interest rate, term. The items that make the loan most attractive and least attractive on the opposite side of the spectrum  . Any other trends that are peculiar, etc.\n",
    "\n",
    "> Explore characteristics of all past due accounts\n",
    "\n",
    "### What features in the dataset do you think will help support your investigation into your feature(s) of interest?\n",
    "\n",
    "> ListingCategory, IncomeRange, CreditGrade, Occupation, StatedMonthlyIncome, "
   ]
  },
  {
   "cell_type": "markdown",
   "metadata": {},
   "source": [
    "## Univariate Exploration\n",
    "\n",
    "> In this section, investigate distributions of individual variables. If\n",
    "you see unusual points or outliers, take a deeper look to clean things up\n",
    "and prepare yourself to look at relationships between variables."
   ]
  },
  {
   "cell_type": "code",
   "execution_count": 185,
   "metadata": {},
   "outputs": [
    {
     "data": {
      "image/png": "[encoded data removed]",
      "text/plain": [
       "<Figure size 360x360 with 1 Axes>"
      ]
     },
     "metadata": {},
     "output_type": "display_data"
    }
   ],
   "source": [
    "# Univarite exploration of BorrowerAPR\n",
    "sb.displot(loanDF['BorrowerAPR']);"
   ]
  },
  {
   "cell_type": "code",
   "execution_count": 186,
   "metadata": {},
   "outputs": [
    {
     "data": {
      "text/plain": [
       "(420, 65)"
      ]
     },
     "execution_count": 186,
     "metadata": {},
     "output_type": "execute_result"
    }
   ],
   "source": [
    "# What is going on with the interest rate around 0.36? Why are there so many loans with this percentage\n",
    "borrAPR36 = loanDF.query('BorrowerAPR > 0.36 and BorrowerAPR < 0.37')\n",
    "borrAPR36.shape"
   ]
  },
  {
   "cell_type": "code",
   "execution_count": 187,
   "metadata": {},
   "outputs": [
    {
     "data": {
      "text/html": [
       "<div>\n",
       "<style scoped>\n",
       "    .dataframe tbody tr th:only-of-type {\n",
       "        vertical-align: middle;\n",
       "    }\n",
       "\n",
       "    .dataframe tbody tr th {\n",
       "        vertical-align: top;\n",
       "    }\n",
       "\n",
       "    .dataframe thead th {\n",
       "        text-align: right;\n",
       "    }\n",
       "</style>\n",
       "<table border=\"1\" class=\"dataframe\">\n",
       "  <thead>\n",
       "    <tr style=\"text-align: right;\">\n",
       "      <th></th>\n",
       "      <th>ListingNumber</th>\n",
       "      <th>ListingCreationDate</th>\n",
       "      <th>CreditGrade</th>\n",
       "      <th>Term</th>\n",
       "      <th>LoanStatus</th>\n",
       "      <th>ClosedDate</th>\n",
       "      <th>BorrowerAPR</th>\n",
       "      <th>BorrowerRate</th>\n",
       "      <th>LenderYield</th>\n",
       "      <th>EstimatedEffectiveYield</th>\n",
       "      <th>EstimatedLoss</th>\n",
       "      <th>EstimatedReturn</th>\n",
       "      <th>ProsperRating (numeric)</th>\n",
       "      <th>ProsperRating (Alpha)</th>\n",
       "      <th>ProsperScore</th>\n",
       "      <th>ListingCategory (numeric)</th>\n",
       "      <th>BorrowerState</th>\n",
       "      <th>Occupation</th>\n",
       "      <th>EmploymentStatus</th>\n",
       "      <th>EmploymentStatusDuration</th>\n",
       "      <th>IsBorrowerHomeowner</th>\n",
       "      <th>CurrentlyInGroup</th>\n",
       "      <th>GroupKey</th>\n",
       "      <th>DateCreditPulled</th>\n",
       "      <th>CreditScoreRangeLower</th>\n",
       "      <th>CreditScoreRangeUpper</th>\n",
       "      <th>FirstRecordedCreditLine</th>\n",
       "      <th>CurrentCreditLines</th>\n",
       "      <th>OpenCreditLines</th>\n",
       "      <th>TotalCreditLinespast7years</th>\n",
       "      <th>OpenRevolvingAccounts</th>\n",
       "      <th>OpenRevolvingMonthlyPayment</th>\n",
       "      <th>InquiriesLast6Months</th>\n",
       "      <th>TotalInquiries</th>\n",
       "      <th>CurrentDelinquencies</th>\n",
       "      <th>AmountDelinquent</th>\n",
       "      <th>DelinquenciesLast7Years</th>\n",
       "      <th>PublicRecordsLast10Years</th>\n",
       "      <th>PublicRecordsLast12Months</th>\n",
       "      <th>RevolvingCreditBalance</th>\n",
       "      <th>BankcardUtilization</th>\n",
       "      <th>AvailableBankcardCredit</th>\n",
       "      <th>TradesOpenedLast6Months</th>\n",
       "      <th>DebtToIncomeRatio</th>\n",
       "      <th>IncomeRange</th>\n",
       "      <th>IncomeVerifiable</th>\n",
       "      <th>StatedMonthlyIncome</th>\n",
       "      <th>TotalProsperPaymentsBilled</th>\n",
       "      <th>LoanOriginalAmount</th>\n",
       "      <th>LoanOriginationDate</th>\n",
       "      <th>LoanOriginationQuarter</th>\n",
       "      <th>MonthlyLoanPayment</th>\n",
       "      <th>LP_CustomerPayments</th>\n",
       "      <th>LP_CustomerPrincipalPayments</th>\n",
       "      <th>LP_InterestandFees</th>\n",
       "      <th>LP_ServiceFees</th>\n",
       "      <th>LP_CollectionFees</th>\n",
       "      <th>LP_GrossPrincipalLoss</th>\n",
       "      <th>LP_NetPrincipalLoss</th>\n",
       "      <th>LP_NonPrincipalRecoverypayments</th>\n",
       "      <th>PercentFunded</th>\n",
       "      <th>Recommendations</th>\n",
       "      <th>InvestmentFromFriendsCount</th>\n",
       "      <th>InvestmentFromFriendsAmount</th>\n",
       "      <th>Investors</th>\n",
       "    </tr>\n",
       "  </thead>\n",
       "  <tbody>\n",
       "    <tr>\n",
       "      <th>105544</th>\n",
       "      <td>464002</td>\n",
       "      <td>2010-06-25 10:58:33.547</td>\n",
       "      <td>NaN</td>\n",
       "      <td>36</td>\n",
       "      <td>Completed</td>\n",
       "      <td>2013-07-08</td>\n",
       "      <td>0.36742</td>\n",
       "      <td>0.343</td>\n",
       "      <td>0.333</td>\n",
       "      <td>0.1776</td>\n",
       "      <td>0.14</td>\n",
       "      <td>0.1776</td>\n",
       "      <td>2.0</td>\n",
       "      <td>E</td>\n",
       "      <td>6.0</td>\n",
       "      <td>7</td>\n",
       "      <td>MN</td>\n",
       "      <td>Accountant/CPA</td>\n",
       "      <td>Full-time</td>\n",
       "      <td>61.0</td>\n",
       "      <td>False</td>\n",
       "      <td>False</td>\n",
       "      <td>NaN</td>\n",
       "      <td>2010-06-18 09:37:16.000</td>\n",
       "      <td>680.0</td>\n",
       "      <td>699.0</td>\n",
       "      <td>2001-02-01 00:00:00</td>\n",
       "      <td>3.0</td>\n",
       "      <td>3.0</td>\n",
       "      <td>11.0</td>\n",
       "      <td>3</td>\n",
       "      <td>49.0</td>\n",
       "      <td>1.0</td>\n",
       "      <td>3.0</td>\n",
       "      <td>0.0</td>\n",
       "      <td>0.0</td>\n",
       "      <td>0.0</td>\n",
       "      <td>0.0</td>\n",
       "      <td>0.0</td>\n",
       "      <td>918.0</td>\n",
       "      <td>0.29</td>\n",
       "      <td>703.0</td>\n",
       "      <td>1.0</td>\n",
       "      <td>0.08</td>\n",
       "      <td>$25,000-49,999</td>\n",
       "      <td>True</td>\n",
       "      <td>3166</td>\n",
       "      <td>NaN</td>\n",
       "      <td>4000</td>\n",
       "      <td>2010-07-08</td>\n",
       "      <td>Q3 2010</td>\n",
       "      <td>179.36</td>\n",
       "      <td>6468.11</td>\n",
       "      <td>4000.0</td>\n",
       "      <td>2468.11</td>\n",
       "      <td>-71.95</td>\n",
       "      <td>0.0</td>\n",
       "      <td>0.0</td>\n",
       "      <td>0.0</td>\n",
       "      <td>0.0</td>\n",
       "      <td>1.0</td>\n",
       "      <td>0</td>\n",
       "      <td>0</td>\n",
       "      <td>0.0</td>\n",
       "      <td>53</td>\n",
       "    </tr>\n",
       "    <tr>\n",
       "      <th>11035</th>\n",
       "      <td>305322</td>\n",
       "      <td>2008-04-06 18:37:38.847</td>\n",
       "      <td>E</td>\n",
       "      <td>36</td>\n",
       "      <td>Completed</td>\n",
       "      <td>2010-09-28</td>\n",
       "      <td>0.36213</td>\n",
       "      <td>0.35</td>\n",
       "      <td>0.34</td>\n",
       "      <td>NaN</td>\n",
       "      <td>NaN</td>\n",
       "      <td>NaN</td>\n",
       "      <td>NaN</td>\n",
       "      <td>NaN</td>\n",
       "      <td>NaN</td>\n",
       "      <td>4</td>\n",
       "      <td>MN</td>\n",
       "      <td>Other</td>\n",
       "      <td>Full-time</td>\n",
       "      <td>61.0</td>\n",
       "      <td>False</td>\n",
       "      <td>True</td>\n",
       "      <td>3D4D3366260257624AB272D</td>\n",
       "      <td>2008-03-26 11:06:29.373</td>\n",
       "      <td>560.0</td>\n",
       "      <td>579.0</td>\n",
       "      <td>1997-08-01 00:00:00</td>\n",
       "      <td>6.0</td>\n",
       "      <td>6.0</td>\n",
       "      <td>24.0</td>\n",
       "      <td>2</td>\n",
       "      <td>56.0</td>\n",
       "      <td>6.0</td>\n",
       "      <td>12.0</td>\n",
       "      <td>1.0</td>\n",
       "      <td>0.0</td>\n",
       "      <td>9.0</td>\n",
       "      <td>1.0</td>\n",
       "      <td>0.0</td>\n",
       "      <td>794.0</td>\n",
       "      <td>0.99</td>\n",
       "      <td>16.0</td>\n",
       "      <td>4.0</td>\n",
       "      <td>0.32</td>\n",
       "      <td>$25,000-49,999</td>\n",
       "      <td>True</td>\n",
       "      <td>2666</td>\n",
       "      <td>6.0</td>\n",
       "      <td>4999</td>\n",
       "      <td>2008-04-16</td>\n",
       "      <td>Q2 2008</td>\n",
       "      <td>226.13</td>\n",
       "      <td>7992.57</td>\n",
       "      <td>4999.01</td>\n",
       "      <td>2993.56</td>\n",
       "      <td>-85.54</td>\n",
       "      <td>0.0</td>\n",
       "      <td>0.0</td>\n",
       "      <td>0.0</td>\n",
       "      <td>0.0</td>\n",
       "      <td>1.0</td>\n",
       "      <td>0</td>\n",
       "      <td>0</td>\n",
       "      <td>0.0</td>\n",
       "      <td>36</td>\n",
       "    </tr>\n",
       "    <tr>\n",
       "      <th>96665</th>\n",
       "      <td>364761</td>\n",
       "      <td>2008-07-09 18:00:10.593</td>\n",
       "      <td>E</td>\n",
       "      <td>36</td>\n",
       "      <td>Completed</td>\n",
       "      <td>2010-01-29</td>\n",
       "      <td>0.36438</td>\n",
       "      <td>0.34</td>\n",
       "      <td>0.33</td>\n",
       "      <td>NaN</td>\n",
       "      <td>NaN</td>\n",
       "      <td>NaN</td>\n",
       "      <td>NaN</td>\n",
       "      <td>NaN</td>\n",
       "      <td>NaN</td>\n",
       "      <td>2</td>\n",
       "      <td>MI</td>\n",
       "      <td>Skilled Labor</td>\n",
       "      <td>Full-time</td>\n",
       "      <td>43.0</td>\n",
       "      <td>True</td>\n",
       "      <td>False</td>\n",
       "      <td>NaN</td>\n",
       "      <td>2008-07-09 17:51:06.670</td>\n",
       "      <td>560.0</td>\n",
       "      <td>579.0</td>\n",
       "      <td>1997-12-22 00:00:00</td>\n",
       "      <td>4.0</td>\n",
       "      <td>4.0</td>\n",
       "      <td>23.0</td>\n",
       "      <td>0</td>\n",
       "      <td>0.0</td>\n",
       "      <td>4.0</td>\n",
       "      <td>23.0</td>\n",
       "      <td>6.0</td>\n",
       "      <td>2544.0</td>\n",
       "      <td>35.0</td>\n",
       "      <td>0.0</td>\n",
       "      <td>0.0</td>\n",
       "      <td>0.0</td>\n",
       "      <td>0.0</td>\n",
       "      <td>0.0</td>\n",
       "      <td>0.0</td>\n",
       "      <td>0.05</td>\n",
       "      <td>$25,000-49,999</td>\n",
       "      <td>True</td>\n",
       "      <td>2600</td>\n",
       "      <td>NaN</td>\n",
       "      <td>1000</td>\n",
       "      <td>2008-07-22</td>\n",
       "      <td>Q3 2008</td>\n",
       "      <td>44.67</td>\n",
       "      <td>1220.21</td>\n",
       "      <td>1000.0</td>\n",
       "      <td>220.21</td>\n",
       "      <td>-6.04</td>\n",
       "      <td>0.0</td>\n",
       "      <td>0.0</td>\n",
       "      <td>0.0</td>\n",
       "      <td>0.0</td>\n",
       "      <td>1.0</td>\n",
       "      <td>0</td>\n",
       "      <td>0</td>\n",
       "      <td>0.0</td>\n",
       "      <td>21</td>\n",
       "    </tr>\n",
       "    <tr>\n",
       "      <th>26535</th>\n",
       "      <td>271651</td>\n",
       "      <td>2008-01-26 08:14:03.120</td>\n",
       "      <td>D</td>\n",
       "      <td>36</td>\n",
       "      <td>Chargedoff</td>\n",
       "      <td>2009-07-01</td>\n",
       "      <td>0.36349</td>\n",
       "      <td>0.35</td>\n",
       "      <td>0.34</td>\n",
       "      <td>NaN</td>\n",
       "      <td>NaN</td>\n",
       "      <td>NaN</td>\n",
       "      <td>NaN</td>\n",
       "      <td>NaN</td>\n",
       "      <td>NaN</td>\n",
       "      <td>4</td>\n",
       "      <td>CA</td>\n",
       "      <td>Construction</td>\n",
       "      <td>Full-time</td>\n",
       "      <td>74.0</td>\n",
       "      <td>False</td>\n",
       "      <td>False</td>\n",
       "      <td>NaN</td>\n",
       "      <td>2008-01-23 14:32:38.660</td>\n",
       "      <td>600.0</td>\n",
       "      <td>619.0</td>\n",
       "      <td>1996-07-08 00:00:00</td>\n",
       "      <td>4.0</td>\n",
       "      <td>4.0</td>\n",
       "      <td>28.0</td>\n",
       "      <td>1</td>\n",
       "      <td>0.0</td>\n",
       "      <td>1.0</td>\n",
       "      <td>8.0</td>\n",
       "      <td>5.0</td>\n",
       "      <td>13165.0</td>\n",
       "      <td>9.0</td>\n",
       "      <td>0.0</td>\n",
       "      <td>0.0</td>\n",
       "      <td>0.0</td>\n",
       "      <td>0.0</td>\n",
       "      <td>2500.0</td>\n",
       "      <td>0.0</td>\n",
       "      <td>0.16</td>\n",
       "      <td>$50,000-74,999</td>\n",
       "      <td>True</td>\n",
       "      <td>5469</td>\n",
       "      <td>11.0</td>\n",
       "      <td>4500</td>\n",
       "      <td>2008-01-31</td>\n",
       "      <td>Q1 2008</td>\n",
       "      <td>203.56</td>\n",
       "      <td>2413.48</td>\n",
       "      <td>567.07</td>\n",
       "      <td>1846.41</td>\n",
       "      <td>-49.75</td>\n",
       "      <td>-146.2</td>\n",
       "      <td>3932.93</td>\n",
       "      <td>3932.93</td>\n",
       "      <td>0.0</td>\n",
       "      <td>1.0</td>\n",
       "      <td>0</td>\n",
       "      <td>0</td>\n",
       "      <td>0.0</td>\n",
       "      <td>38</td>\n",
       "    </tr>\n",
       "    <tr>\n",
       "      <th>82435</th>\n",
       "      <td>422853</td>\n",
       "      <td>2009-09-04 13:37:11.190</td>\n",
       "      <td>NaN</td>\n",
       "      <td>36</td>\n",
       "      <td>Chargedoff</td>\n",
       "      <td>2013-01-23</td>\n",
       "      <td>0.36845</td>\n",
       "      <td>0.3275</td>\n",
       "      <td>0.3175</td>\n",
       "      <td>0.1188</td>\n",
       "      <td>0.18</td>\n",
       "      <td>0.1188</td>\n",
       "      <td>1.0</td>\n",
       "      <td>HR</td>\n",
       "      <td>4.0</td>\n",
       "      <td>1</td>\n",
       "      <td>CA</td>\n",
       "      <td>Military Enlisted</td>\n",
       "      <td>Full-time</td>\n",
       "      <td>54.0</td>\n",
       "      <td>False</td>\n",
       "      <td>True</td>\n",
       "      <td>1783338468470790930346D</td>\n",
       "      <td>2009-08-25 14:46:26.000</td>\n",
       "      <td>640.0</td>\n",
       "      <td>659.0</td>\n",
       "      <td>2004-09-05 00:00:00</td>\n",
       "      <td>9.0</td>\n",
       "      <td>7.0</td>\n",
       "      <td>13.0</td>\n",
       "      <td>4</td>\n",
       "      <td>298.0</td>\n",
       "      <td>4.0</td>\n",
       "      <td>9.0</td>\n",
       "      <td>0.0</td>\n",
       "      <td>0.0</td>\n",
       "      <td>0.0</td>\n",
       "      <td>0.0</td>\n",
       "      <td>0.0</td>\n",
       "      <td>6513.0</td>\n",
       "      <td>0.97</td>\n",
       "      <td>90.0</td>\n",
       "      <td>3.0</td>\n",
       "      <td>0.53</td>\n",
       "      <td>$25,000-49,999</td>\n",
       "      <td>True</td>\n",
       "      <td>2500</td>\n",
       "      <td>33.0</td>\n",
       "      <td>1000</td>\n",
       "      <td>2009-09-23</td>\n",
       "      <td>Q3 2009</td>\n",
       "      <td>43.97</td>\n",
       "      <td>1538.95</td>\n",
       "      <td>957.8</td>\n",
       "      <td>581.15</td>\n",
       "      <td>-17.73</td>\n",
       "      <td>0.0</td>\n",
       "      <td>42.2</td>\n",
       "      <td>42.2</td>\n",
       "      <td>0.0</td>\n",
       "      <td>1.0</td>\n",
       "      <td>1</td>\n",
       "      <td>0</td>\n",
       "      <td>0.0</td>\n",
       "      <td>22</td>\n",
       "    </tr>\n",
       "    <tr>\n",
       "      <th>5882</th>\n",
       "      <td>439186</td>\n",
       "      <td>2009-12-19 16:52:50.200</td>\n",
       "      <td>NaN</td>\n",
       "      <td>36</td>\n",
       "      <td>Completed</td>\n",
       "      <td>2012-12-31</td>\n",
       "      <td>0.36438</td>\n",
       "      <td>0.34</td>\n",
       "      <td>0.33</td>\n",
       "      <td>-0.0345</td>\n",
       "      <td>0.345</td>\n",
       "      <td>-0.0345</td>\n",
       "      <td>1.0</td>\n",
       "      <td>HR</td>\n",
       "      <td>1.0</td>\n",
       "      <td>1</td>\n",
       "      <td>TX</td>\n",
       "      <td>Teacher</td>\n",
       "      <td>Full-time</td>\n",
       "      <td>4.0</td>\n",
       "      <td>False</td>\n",
       "      <td>False</td>\n",
       "      <td>NaN</td>\n",
       "      <td>2009-12-04 12:41:40.000</td>\n",
       "      <td>600.0</td>\n",
       "      <td>619.0</td>\n",
       "      <td>1996-06-01 00:00:00</td>\n",
       "      <td>5.0</td>\n",
       "      <td>5.0</td>\n",
       "      <td>23.0</td>\n",
       "      <td>4</td>\n",
       "      <td>105.0</td>\n",
       "      <td>2.0</td>\n",
       "      <td>4.0</td>\n",
       "      <td>5.0</td>\n",
       "      <td>718.0</td>\n",
       "      <td>3.0</td>\n",
       "      <td>2.0</td>\n",
       "      <td>0.0</td>\n",
       "      <td>1829.0</td>\n",
       "      <td>1.25</td>\n",
       "      <td>0.0</td>\n",
       "      <td>0.0</td>\n",
       "      <td>0.31</td>\n",
       "      <td>$1-24,999</td>\n",
       "      <td>True</td>\n",
       "      <td>1126</td>\n",
       "      <td>16.0</td>\n",
       "      <td>2800</td>\n",
       "      <td>2009-12-31</td>\n",
       "      <td>Q4 2009</td>\n",
       "      <td>98.85</td>\n",
       "      <td>4514.11</td>\n",
       "      <td>2800.0</td>\n",
       "      <td>1714.11</td>\n",
       "      <td>-50.4</td>\n",
       "      <td>0.0</td>\n",
       "      <td>0.0</td>\n",
       "      <td>0.0</td>\n",
       "      <td>0.0</td>\n",
       "      <td>1.0</td>\n",
       "      <td>0</td>\n",
       "      <td>0</td>\n",
       "      <td>0.0</td>\n",
       "      <td>68</td>\n",
       "    </tr>\n",
       "    <tr>\n",
       "      <th>65529</th>\n",
       "      <td>407609</td>\n",
       "      <td>2008-10-02 17:54:18.800</td>\n",
       "      <td>HR</td>\n",
       "      <td>36</td>\n",
       "      <td>Chargedoff</td>\n",
       "      <td>2009-07-16</td>\n",
       "      <td>0.36158</td>\n",
       "      <td>0.3</td>\n",
       "      <td>0.29</td>\n",
       "      <td>NaN</td>\n",
       "      <td>NaN</td>\n",
       "      <td>NaN</td>\n",
       "      <td>NaN</td>\n",
       "      <td>NaN</td>\n",
       "      <td>NaN</td>\n",
       "      <td>7</td>\n",
       "      <td>AR</td>\n",
       "      <td>Other</td>\n",
       "      <td>Full-time</td>\n",
       "      <td>55.0</td>\n",
       "      <td>False</td>\n",
       "      <td>False</td>\n",
       "      <td>NaN</td>\n",
       "      <td>2008-10-02 17:51:51.393</td>\n",
       "      <td>520.0</td>\n",
       "      <td>539.0</td>\n",
       "      <td>2006-04-25 00:00:00</td>\n",
       "      <td>0.0</td>\n",
       "      <td>0.0</td>\n",
       "      <td>4.0</td>\n",
       "      <td>0</td>\n",
       "      <td>0.0</td>\n",
       "      <td>1.0</td>\n",
       "      <td>3.0</td>\n",
       "      <td>1.0</td>\n",
       "      <td>124.0</td>\n",
       "      <td>0.0</td>\n",
       "      <td>0.0</td>\n",
       "      <td>0.0</td>\n",
       "      <td>0.0</td>\n",
       "      <td>0.0</td>\n",
       "      <td>0.0</td>\n",
       "      <td>0.0</td>\n",
       "      <td>0.02</td>\n",
       "      <td>$25,000-49,999</td>\n",
       "      <td>True</td>\n",
       "      <td>2666</td>\n",
       "      <td>NaN</td>\n",
       "      <td>1000</td>\n",
       "      <td>2008-10-15</td>\n",
       "      <td>Q4 2008</td>\n",
       "      <td>42.45</td>\n",
       "      <td>154.8</td>\n",
       "      <td>55.51</td>\n",
       "      <td>99.29</td>\n",
       "      <td>-3.31</td>\n",
       "      <td>0.0</td>\n",
       "      <td>944.49</td>\n",
       "      <td>944.49</td>\n",
       "      <td>0.0</td>\n",
       "      <td>1.0</td>\n",
       "      <td>0</td>\n",
       "      <td>0</td>\n",
       "      <td>0.0</td>\n",
       "      <td>24</td>\n",
       "    </tr>\n",
       "    <tr>\n",
       "      <th>41163</th>\n",
       "      <td>253620</td>\n",
       "      <td>2007-12-19 19:18:47.060</td>\n",
       "      <td>HR</td>\n",
       "      <td>36</td>\n",
       "      <td>Completed</td>\n",
       "      <td>2009-10-20</td>\n",
       "      <td>0.36623</td>\n",
       "      <td>0.35</td>\n",
       "      <td>0.34</td>\n",
       "      <td>NaN</td>\n",
       "      <td>NaN</td>\n",
       "      <td>NaN</td>\n",
       "      <td>NaN</td>\n",
       "      <td>NaN</td>\n",
       "      <td>NaN</td>\n",
       "      <td>1</td>\n",
       "      <td>GA</td>\n",
       "      <td>Clerical</td>\n",
       "      <td>Full-time</td>\n",
       "      <td>0.0</td>\n",
       "      <td>False</td>\n",
       "      <td>False</td>\n",
       "      <td>NaN</td>\n",
       "      <td>2007-12-13 15:06:52.543</td>\n",
       "      <td>540.0</td>\n",
       "      <td>559.0</td>\n",
       "      <td>2005-10-04 00:00:00</td>\n",
       "      <td>1.0</td>\n",
       "      <td>1.0</td>\n",
       "      <td>4.0</td>\n",
       "      <td>1</td>\n",
       "      <td>32.0</td>\n",
       "      <td>1.0</td>\n",
       "      <td>5.0</td>\n",
       "      <td>0.0</td>\n",
       "      <td>0.0</td>\n",
       "      <td>0.0</td>\n",
       "      <td>0.0</td>\n",
       "      <td>0.0</td>\n",
       "      <td>1269.0</td>\n",
       "      <td>1.05</td>\n",
       "      <td>0.0</td>\n",
       "      <td>0.0</td>\n",
       "      <td>0.15</td>\n",
       "      <td>$25,000-49,999</td>\n",
       "      <td>True</td>\n",
       "      <td>2083</td>\n",
       "      <td>NaN</td>\n",
       "      <td>3001</td>\n",
       "      <td>2007-12-27</td>\n",
       "      <td>Q4 2007</td>\n",
       "      <td>135.75</td>\n",
       "      <td>4493.7</td>\n",
       "      <td>3001.0</td>\n",
       "      <td>1492.7</td>\n",
       "      <td>-42.65</td>\n",
       "      <td>0.0</td>\n",
       "      <td>0.0</td>\n",
       "      <td>0.0</td>\n",
       "      <td>0.0</td>\n",
       "      <td>1.0</td>\n",
       "      <td>0</td>\n",
       "      <td>0</td>\n",
       "      <td>0.0</td>\n",
       "      <td>38</td>\n",
       "    </tr>\n",
       "    <tr>\n",
       "      <th>48107</th>\n",
       "      <td>486557</td>\n",
       "      <td>2010-12-02 12:25:59.853</td>\n",
       "      <td>NaN</td>\n",
       "      <td>36</td>\n",
       "      <td>Defaulted</td>\n",
       "      <td>2012-04-14</td>\n",
       "      <td>0.3628</td>\n",
       "      <td>0.322</td>\n",
       "      <td>0.312</td>\n",
       "      <td>0.1557</td>\n",
       "      <td>0.142</td>\n",
       "      <td>0.1557</td>\n",
       "      <td>2.0</td>\n",
       "      <td>E</td>\n",
       "      <td>5.0</td>\n",
       "      <td>2</td>\n",
       "      <td>MD</td>\n",
       "      <td>Tradesman - Electrician</td>\n",
       "      <td>Employed</td>\n",
       "      <td>103.0</td>\n",
       "      <td>True</td>\n",
       "      <td>False</td>\n",
       "      <td>NaN</td>\n",
       "      <td>2010-12-02 12:25:49.000</td>\n",
       "      <td>700.0</td>\n",
       "      <td>719.0</td>\n",
       "      <td>1987-04-01 00:00:00</td>\n",
       "      <td>16.0</td>\n",
       "      <td>15.0</td>\n",
       "      <td>32.0</td>\n",
       "      <td>6</td>\n",
       "      <td>374.0</td>\n",
       "      <td>1.0</td>\n",
       "      <td>2.0</td>\n",
       "      <td>0.0</td>\n",
       "      <td>0.0</td>\n",
       "      <td>0.0</td>\n",
       "      <td>0.0</td>\n",
       "      <td>0.0</td>\n",
       "      <td>11289.0</td>\n",
       "      <td>0.33</td>\n",
       "      <td>21265.0</td>\n",
       "      <td>3.0</td>\n",
       "      <td>NaN</td>\n",
       "      <td>$50,000-74,999</td>\n",
       "      <td>False</td>\n",
       "      <td>5000</td>\n",
       "      <td>NaN</td>\n",
       "      <td>1500</td>\n",
       "      <td>2010-12-14</td>\n",
       "      <td>Q4 2010</td>\n",
       "      <td>65.5</td>\n",
       "      <td>720.5</td>\n",
       "      <td>317.94</td>\n",
       "      <td>402.56</td>\n",
       "      <td>-12.26</td>\n",
       "      <td>-375.72</td>\n",
       "      <td>1182.06</td>\n",
       "      <td>88.62</td>\n",
       "      <td>283.13</td>\n",
       "      <td>1.0</td>\n",
       "      <td>0</td>\n",
       "      <td>0</td>\n",
       "      <td>0.0</td>\n",
       "      <td>24</td>\n",
       "    </tr>\n",
       "    <tr>\n",
       "      <th>48382</th>\n",
       "      <td>438320</td>\n",
       "      <td>2009-12-15 18:13:32.960</td>\n",
       "      <td>NaN</td>\n",
       "      <td>36</td>\n",
       "      <td>Completed</td>\n",
       "      <td>2010-03-01</td>\n",
       "      <td>0.36947</td>\n",
       "      <td>0.3285</td>\n",
       "      <td>0.3185</td>\n",
       "      <td>0.1568</td>\n",
       "      <td>0.147</td>\n",
       "      <td>0.1568</td>\n",
       "      <td>2.0</td>\n",
       "      <td>E</td>\n",
       "      <td>7.0</td>\n",
       "      <td>5</td>\n",
       "      <td>MN</td>\n",
       "      <td>Professional</td>\n",
       "      <td>Full-time</td>\n",
       "      <td>207.0</td>\n",
       "      <td>False</td>\n",
       "      <td>False</td>\n",
       "      <td>NaN</td>\n",
       "      <td>2009-12-08 15:34:24.000</td>\n",
       "      <td>600.0</td>\n",
       "      <td>619.0</td>\n",
       "      <td>1979-10-30 00:00:00</td>\n",
       "      <td>8.0</td>\n",
       "      <td>6.0</td>\n",
       "      <td>26.0</td>\n",
       "      <td>4</td>\n",
       "      <td>78.0</td>\n",
       "      <td>0.0</td>\n",
       "      <td>3.0</td>\n",
       "      <td>2.0</td>\n",
       "      <td>905.0</td>\n",
       "      <td>23.0</td>\n",
       "      <td>2.0</td>\n",
       "      <td>1.0</td>\n",
       "      <td>1916.0</td>\n",
       "      <td>0.83</td>\n",
       "      <td>290.0</td>\n",
       "      <td>0.0</td>\n",
       "      <td>0.1</td>\n",
       "      <td>$25,000-49,999</td>\n",
       "      <td>True</td>\n",
       "      <td>3583</td>\n",
       "      <td>17.0</td>\n",
       "      <td>1000</td>\n",
       "      <td>2009-12-28</td>\n",
       "      <td>Q4 2009</td>\n",
       "      <td>44.03</td>\n",
       "      <td>1056.22</td>\n",
       "      <td>1000.0</td>\n",
       "      <td>56.22</td>\n",
       "      <td>-1.71</td>\n",
       "      <td>0.0</td>\n",
       "      <td>0.0</td>\n",
       "      <td>0.0</td>\n",
       "      <td>0.0</td>\n",
       "      <td>1.0</td>\n",
       "      <td>0</td>\n",
       "      <td>0</td>\n",
       "      <td>0.0</td>\n",
       "      <td>42</td>\n",
       "    </tr>\n",
       "  </tbody>\n",
       "</table>\n",
       "</div>"
      ],
      "text/plain": [
       "        ListingNumber     ListingCreationDate CreditGrade  Term  LoanStatus  \\\n",
       "105544         464002 2010-06-25 10:58:33.547         NaN    36   Completed   \n",
       "11035          305322 2008-04-06 18:37:38.847           E    36   Completed   \n",
       "96665          364761 2008-07-09 18:00:10.593           E    36   Completed   \n",
       "26535          271651 2008-01-26 08:14:03.120           D    36  Chargedoff   \n",
       "82435          422853 2009-09-04 13:37:11.190         NaN    36  Chargedoff   \n",
       "5882           439186 2009-12-19 16:52:50.200         NaN    36   Completed   \n",
       "65529          407609 2008-10-02 17:54:18.800          HR    36  Chargedoff   \n",
       "41163          253620 2007-12-19 19:18:47.060          HR    36   Completed   \n",
       "48107          486557 2010-12-02 12:25:59.853         NaN    36   Defaulted   \n",
       "48382          438320 2009-12-15 18:13:32.960         NaN    36   Completed   \n",
       "\n",
       "       ClosedDate  BorrowerAPR  BorrowerRate  LenderYield  \\\n",
       "105544 2013-07-08      0.36742         0.343        0.333   \n",
       "11035  2010-09-28      0.36213          0.35         0.34   \n",
       "96665  2010-01-29      0.36438          0.34         0.33   \n",
       "26535  2009-07-01      0.36349          0.35         0.34   \n",
       "82435  2013-01-23      0.36845        0.3275       0.3175   \n",
       "5882   2012-12-31      0.36438          0.34         0.33   \n",
       "65529  2009-07-16      0.36158           0.3         0.29   \n",
       "41163  2009-10-20      0.36623          0.35         0.34   \n",
       "48107  2012-04-14       0.3628         0.322        0.312   \n",
       "48382  2010-03-01      0.36947        0.3285       0.3185   \n",
       "\n",
       "        EstimatedEffectiveYield  EstimatedLoss  EstimatedReturn  \\\n",
       "105544                   0.1776           0.14           0.1776   \n",
       "11035                       NaN            NaN              NaN   \n",
       "96665                       NaN            NaN              NaN   \n",
       "26535                       NaN            NaN              NaN   \n",
       "82435                    0.1188           0.18           0.1188   \n",
       "5882                    -0.0345          0.345          -0.0345   \n",
       "65529                       NaN            NaN              NaN   \n",
       "41163                       NaN            NaN              NaN   \n",
       "48107                    0.1557          0.142           0.1557   \n",
       "48382                    0.1568          0.147           0.1568   \n",
       "\n",
       "        ProsperRating (numeric) ProsperRating (Alpha)  ProsperScore  \\\n",
       "105544                      2.0                     E           6.0   \n",
       "11035                       NaN                   NaN           NaN   \n",
       "96665                       NaN                   NaN           NaN   \n",
       "26535                       NaN                   NaN           NaN   \n",
       "82435                       1.0                    HR           4.0   \n",
       "5882                        1.0                    HR           1.0   \n",
       "65529                       NaN                   NaN           NaN   \n",
       "41163                       NaN                   NaN           NaN   \n",
       "48107                       2.0                     E           5.0   \n",
       "48382                       2.0                     E           7.0   \n",
       "\n",
       "        ListingCategory (numeric) BorrowerState               Occupation  \\\n",
       "105544                          7            MN           Accountant/CPA   \n",
       "11035                           4            MN                    Other   \n",
       "96665                           2            MI            Skilled Labor   \n",
       "26535                           4            CA             Construction   \n",
       "82435                           1            CA        Military Enlisted   \n",
       "5882                            1            TX                  Teacher   \n",
       "65529                           7            AR                    Other   \n",
       "41163                           1            GA                 Clerical   \n",
       "48107                           2            MD  Tradesman - Electrician   \n",
       "48382                           5            MN             Professional   \n",
       "\n",
       "       EmploymentStatus  EmploymentStatusDuration  IsBorrowerHomeowner  \\\n",
       "105544        Full-time                      61.0                False   \n",
       "11035         Full-time                      61.0                False   \n",
       "96665         Full-time                      43.0                 True   \n",
       "26535         Full-time                      74.0                False   \n",
       "82435         Full-time                      54.0                False   \n",
       "5882          Full-time                       4.0                False   \n",
       "65529         Full-time                      55.0                False   \n",
       "41163         Full-time                       0.0                False   \n",
       "48107          Employed                     103.0                 True   \n",
       "48382         Full-time                     207.0                False   \n",
       "\n",
       "        CurrentlyInGroup                 GroupKey        DateCreditPulled  \\\n",
       "105544             False                      NaN 2010-06-18 09:37:16.000   \n",
       "11035               True  3D4D3366260257624AB272D 2008-03-26 11:06:29.373   \n",
       "96665              False                      NaN 2008-07-09 17:51:06.670   \n",
       "26535              False                      NaN 2008-01-23 14:32:38.660   \n",
       "82435               True  1783338468470790930346D 2009-08-25 14:46:26.000   \n",
       "5882               False                      NaN 2009-12-04 12:41:40.000   \n",
       "65529              False                      NaN 2008-10-02 17:51:51.393   \n",
       "41163              False                      NaN 2007-12-13 15:06:52.543   \n",
       "48107              False                      NaN 2010-12-02 12:25:49.000   \n",
       "48382              False                      NaN 2009-12-08 15:34:24.000   \n",
       "\n",
       "        CreditScoreRangeLower  CreditScoreRangeUpper FirstRecordedCreditLine  \\\n",
       "105544                  680.0                  699.0     2001-02-01 00:00:00   \n",
       "11035                   560.0                  579.0     1997-08-01 00:00:00   \n",
       "96665                   560.0                  579.0     1997-12-22 00:00:00   \n",
       "26535                   600.0                  619.0     1996-07-08 00:00:00   \n",
       "82435                   640.0                  659.0     2004-09-05 00:00:00   \n",
       "5882                    600.0                  619.0     1996-06-01 00:00:00   \n",
       "65529                   520.0                  539.0     2006-04-25 00:00:00   \n",
       "41163                   540.0                  559.0     2005-10-04 00:00:00   \n",
       "48107                   700.0                  719.0     1987-04-01 00:00:00   \n",
       "48382                   600.0                  619.0     1979-10-30 00:00:00   \n",
       "\n",
       "        CurrentCreditLines  OpenCreditLines  TotalCreditLinespast7years  \\\n",
       "105544                 3.0              3.0                        11.0   \n",
       "11035                  6.0              6.0                        24.0   \n",
       "96665                  4.0              4.0                        23.0   \n",
       "26535                  4.0              4.0                        28.0   \n",
       "82435                  9.0              7.0                        13.0   \n",
       "5882                   5.0              5.0                        23.0   \n",
       "65529                  0.0              0.0                         4.0   \n",
       "41163                  1.0              1.0                         4.0   \n",
       "48107                 16.0             15.0                        32.0   \n",
       "48382                  8.0              6.0                        26.0   \n",
       "\n",
       "        OpenRevolvingAccounts  OpenRevolvingMonthlyPayment  \\\n",
       "105544                      3                         49.0   \n",
       "11035                       2                         56.0   \n",
       "96665                       0                          0.0   \n",
       "26535                       1                          0.0   \n",
       "82435                       4                        298.0   \n",
       "5882                        4                        105.0   \n",
       "65529                       0                          0.0   \n",
       "41163                       1                         32.0   \n",
       "48107                       6                        374.0   \n",
       "48382                       4                         78.0   \n",
       "\n",
       "        InquiriesLast6Months  TotalInquiries  CurrentDelinquencies  \\\n",
       "105544                   1.0             3.0                   0.0   \n",
       "11035                    6.0            12.0                   1.0   \n",
       "96665                    4.0            23.0                   6.0   \n",
       "26535                    1.0             8.0                   5.0   \n",
       "82435                    4.0             9.0                   0.0   \n",
       "5882                     2.0             4.0                   5.0   \n",
       "65529                    1.0             3.0                   1.0   \n",
       "41163                    1.0             5.0                   0.0   \n",
       "48107                    1.0             2.0                   0.0   \n",
       "48382                    0.0             3.0                   2.0   \n",
       "\n",
       "        AmountDelinquent  DelinquenciesLast7Years  PublicRecordsLast10Years  \\\n",
       "105544               0.0                      0.0                       0.0   \n",
       "11035                0.0                      9.0                       1.0   \n",
       "96665             2544.0                     35.0                       0.0   \n",
       "26535            13165.0                      9.0                       0.0   \n",
       "82435                0.0                      0.0                       0.0   \n",
       "5882               718.0                      3.0                       2.0   \n",
       "65529              124.0                      0.0                       0.0   \n",
       "41163                0.0                      0.0                       0.0   \n",
       "48107                0.0                      0.0                       0.0   \n",
       "48382              905.0                     23.0                       2.0   \n",
       "\n",
       "        PublicRecordsLast12Months  RevolvingCreditBalance  \\\n",
       "105544                        0.0                   918.0   \n",
       "11035                         0.0                   794.0   \n",
       "96665                         0.0                     0.0   \n",
       "26535                         0.0                     0.0   \n",
       "82435                         0.0                  6513.0   \n",
       "5882                          0.0                  1829.0   \n",
       "65529                         0.0                     0.0   \n",
       "41163                         0.0                  1269.0   \n",
       "48107                         0.0                 11289.0   \n",
       "48382                         1.0                  1916.0   \n",
       "\n",
       "        BankcardUtilization  AvailableBankcardCredit  TradesOpenedLast6Months  \\\n",
       "105544                 0.29                    703.0                      1.0   \n",
       "11035                  0.99                     16.0                      4.0   \n",
       "96665                   0.0                      0.0                      0.0   \n",
       "26535                   0.0                   2500.0                      0.0   \n",
       "82435                  0.97                     90.0                      3.0   \n",
       "5882                   1.25                      0.0                      0.0   \n",
       "65529                   0.0                      0.0                      0.0   \n",
       "41163                  1.05                      0.0                      0.0   \n",
       "48107                  0.33                  21265.0                      3.0   \n",
       "48382                  0.83                    290.0                      0.0   \n",
       "\n",
       "        DebtToIncomeRatio     IncomeRange  IncomeVerifiable  \\\n",
       "105544               0.08  $25,000-49,999              True   \n",
       "11035                0.32  $25,000-49,999              True   \n",
       "96665                0.05  $25,000-49,999              True   \n",
       "26535                0.16  $50,000-74,999              True   \n",
       "82435                0.53  $25,000-49,999              True   \n",
       "5882                 0.31       $1-24,999              True   \n",
       "65529                0.02  $25,000-49,999              True   \n",
       "41163                0.15  $25,000-49,999              True   \n",
       "48107                 NaN  $50,000-74,999             False   \n",
       "48382                 0.1  $25,000-49,999              True   \n",
       "\n",
       "        StatedMonthlyIncome  TotalProsperPaymentsBilled  LoanOriginalAmount  \\\n",
       "105544                 3166                         NaN                4000   \n",
       "11035                  2666                         6.0                4999   \n",
       "96665                  2600                         NaN                1000   \n",
       "26535                  5469                        11.0                4500   \n",
       "82435                  2500                        33.0                1000   \n",
       "5882                   1126                        16.0                2800   \n",
       "65529                  2666                         NaN                1000   \n",
       "41163                  2083                         NaN                3001   \n",
       "48107                  5000                         NaN                1500   \n",
       "48382                  3583                        17.0                1000   \n",
       "\n",
       "       LoanOriginationDate LoanOriginationQuarter  MonthlyLoanPayment  \\\n",
       "105544          2010-07-08                Q3 2010              179.36   \n",
       "11035           2008-04-16                Q2 2008              226.13   \n",
       "96665           2008-07-22                Q3 2008               44.67   \n",
       "26535           2008-01-31                Q1 2008              203.56   \n",
       "82435           2009-09-23                Q3 2009               43.97   \n",
       "5882            2009-12-31                Q4 2009               98.85   \n",
       "65529           2008-10-15                Q4 2008               42.45   \n",
       "41163           2007-12-27                Q4 2007              135.75   \n",
       "48107           2010-12-14                Q4 2010                65.5   \n",
       "48382           2009-12-28                Q4 2009               44.03   \n",
       "\n",
       "        LP_CustomerPayments  LP_CustomerPrincipalPayments  LP_InterestandFees  \\\n",
       "105544              6468.11                        4000.0             2468.11   \n",
       "11035               7992.57                       4999.01             2993.56   \n",
       "96665               1220.21                        1000.0              220.21   \n",
       "26535               2413.48                        567.07             1846.41   \n",
       "82435               1538.95                         957.8              581.15   \n",
       "5882                4514.11                        2800.0             1714.11   \n",
       "65529                 154.8                         55.51               99.29   \n",
       "41163                4493.7                        3001.0              1492.7   \n",
       "48107                 720.5                        317.94              402.56   \n",
       "48382               1056.22                        1000.0               56.22   \n",
       "\n",
       "        LP_ServiceFees  LP_CollectionFees  LP_GrossPrincipalLoss  \\\n",
       "105544          -71.95                0.0                    0.0   \n",
       "11035           -85.54                0.0                    0.0   \n",
       "96665            -6.04                0.0                    0.0   \n",
       "26535           -49.75             -146.2                3932.93   \n",
       "82435           -17.73                0.0                   42.2   \n",
       "5882             -50.4                0.0                    0.0   \n",
       "65529            -3.31                0.0                 944.49   \n",
       "41163           -42.65                0.0                    0.0   \n",
       "48107           -12.26            -375.72                1182.06   \n",
       "48382            -1.71                0.0                    0.0   \n",
       "\n",
       "        LP_NetPrincipalLoss  LP_NonPrincipalRecoverypayments  PercentFunded  \\\n",
       "105544                  0.0                              0.0            1.0   \n",
       "11035                   0.0                              0.0            1.0   \n",
       "96665                   0.0                              0.0            1.0   \n",
       "26535               3932.93                              0.0            1.0   \n",
       "82435                  42.2                              0.0            1.0   \n",
       "5882                    0.0                              0.0            1.0   \n",
       "65529                944.49                              0.0            1.0   \n",
       "41163                   0.0                              0.0            1.0   \n",
       "48107                 88.62                           283.13            1.0   \n",
       "48382                   0.0                              0.0            1.0   \n",
       "\n",
       "        Recommendations  InvestmentFromFriendsCount  \\\n",
       "105544                0                           0   \n",
       "11035                 0                           0   \n",
       "96665                 0                           0   \n",
       "26535                 0                           0   \n",
       "82435                 1                           0   \n",
       "5882                  0                           0   \n",
       "65529                 0                           0   \n",
       "41163                 0                           0   \n",
       "48107                 0                           0   \n",
       "48382                 0                           0   \n",
       "\n",
       "        InvestmentFromFriendsAmount  Investors  \n",
       "105544                          0.0         53  \n",
       "11035                           0.0         36  \n",
       "96665                           0.0         21  \n",
       "26535                           0.0         38  \n",
       "82435                           0.0         22  \n",
       "5882                            0.0         68  \n",
       "65529                           0.0         24  \n",
       "41163                           0.0         38  \n",
       "48107                           0.0         24  \n",
       "48382                           0.0         42  "
      ]
     },
     "execution_count": 187,
     "metadata": {},
     "output_type": "execute_result"
    }
   ],
   "source": [
    "borrAPR36.sample(10)"
   ]
  },
  {
   "cell_type": "markdown",
   "metadata": {},
   "source": [
    "Some observations (not interesting):\n",
    "1. The personal loan people had the lowest average credit score, students loans next\n",
    "2. The RV loan types had the highest average credit score. This infers that people who have the ability to buy RVs are in better financial situations."
   ]
  },
  {
   "cell_type": "markdown",
   "metadata": {},
   "source": [
    "### What is going on with the BorrowerAPR/Rate at 31-33% & 36-37%, well over 5000 records? Let's investigate additional info about these records"
   ]
  },
  {
   "cell_type": "code",
   "execution_count": 188,
   "metadata": {},
   "outputs": [
    {
     "data": {
      "image/png": "[encoded data removed]",
      "text/plain": [
       "<Figure size 360x360 with 1 Axes>"
      ]
     },
     "metadata": {},
     "output_type": "display_data"
    }
   ],
   "source": [
    "sb.displot(loanDF['BorrowerRate']);"
   ]
  },
  {
   "cell_type": "code",
   "execution_count": 189,
   "metadata": {},
   "outputs": [
    {
     "data": {
      "text/plain": [
       "(9512, 65)"
      ]
     },
     "execution_count": 189,
     "metadata": {},
     "output_type": "execute_result"
    }
   ],
   "source": [
    "# explore the spike in BorrowerRate around 0.3\n",
    "BorrRate30 = loanDF.query(\"BorrowerRate <= 0.33 and BorrowerRate >= 0.30\")\n",
    "BorrRate30.shape"
   ]
  },
  {
   "cell_type": "code",
   "execution_count": 190,
   "metadata": {},
   "outputs": [
    {
     "data": {
      "text/plain": [
       "Other                                2900\n",
       "Professional                         1043\n",
       "Administrative Assistant              450\n",
       "Teacher                               343\n",
       "Sales - Retail                        326\n",
       "Clerical                              291\n",
       "Sales - Commission                    262\n",
       "Executive                             247\n",
       "Accountant/CPA                        238\n",
       "Computer Programmer                   222\n",
       "Skilled Labor                         221\n",
       "Retail Management                     206\n",
       "Analyst                               197\n",
       "Laborer                               172\n",
       "Nurse (RN)                            172\n",
       "Food Service                          142\n",
       "Construction                          133\n",
       "Military Enlisted                     130\n",
       "Police Officer/Correction Officer     128\n",
       "Civil Service                         127\n",
       "Name: Occupation, dtype: int64"
      ]
     },
     "execution_count": 190,
     "metadata": {},
     "output_type": "execute_result"
    }
   ],
   "source": [
    "BorrRate30.Occupation.value_counts().head(20)"
   ]
  },
  {
   "cell_type": "code",
   "execution_count": 191,
   "metadata": {},
   "outputs": [
    {
     "data": {
      "image/png": "[encoded data removed]",
      "text/plain": [
       "<Figure size 360x360 with 1 Axes>"
      ]
     },
     "metadata": {},
     "output_type": "display_data"
    }
   ],
   "source": [
    "sb.displot(BorrRate30['Term']);"
   ]
  },
  {
   "cell_type": "markdown",
   "metadata": {},
   "source": [
    "Loan Terms = some 12 month, majority are 36 mnth loans, but healthy percentage at 60 mnth (5 year loan)"
   ]
  },
  {
   "cell_type": "code",
   "execution_count": null,
   "metadata": {},
   "outputs": [],
   "source": []
  },
  {
   "cell_type": "code",
   "execution_count": 192,
   "metadata": {},
   "outputs": [
    {
     "data": {
      "image/png": "[encoded data removed]",
      "text/plain": [
       "<Figure size 360x360 with 1 Axes>"
      ]
     },
     "metadata": {},
     "output_type": "display_data"
    }
   ],
   "source": [
    "base_color = sb.color_palette()[5]\n",
    "sb.displot(data = BorrRate30, x = 'LoanOriginalAmount', color = base_color);\n"
   ]
  },
  {
   "cell_type": "code",
   "execution_count": 193,
   "metadata": {},
   "outputs": [
    {
     "data": {
      "image/png": "[encoded data removed]",
      "text/plain": [
       "<Figure size 432x288 with 1 Axes>"
      ]
     },
     "metadata": {},
     "output_type": "display_data"
    }
   ],
   "source": [
    "# Use Seaborn's CountPlot as an alternative to compare with plt.hist & seaborn's distplot\n",
    "\n",
    "base_color = sb.color_palette()[2]\n",
    "sb.countplot(data = loanDF, x = 'ListingCategory (numeric)', color = base_color);"
   ]
  },
  {
   "cell_type": "markdown",
   "metadata": {},
   "source": [
    "The category of the listing that the borrower selected when posting their listing: <br/>\n",
    "    0 - Not Available, <br/>\n",
    "    1 - Debt Consolidation, <br/>\n",
    "    2 - Home Improvement, <br/>\n",
    "    3 - Business, <br/>\n",
    "    4 - Personal Loan, <br/>\n",
    "    5 - Student Use, <br/>\n",
    "    6 - Auto, <br/>\n",
    "    7- Other, <br/>\n",
    "    8 - Baby&Adoption, <br/>\n",
    "    9 - Boat, <br/>\n",
    "    10 - Cosmetic Procedure, <br/>\n",
    "    11 - Engagement Ring, <br/>\n",
    "    12 - Green Loans, <br/>\n",
    "    13 - Household Expenses, <br/>\n",
    "    14 - Large Purchases, <br/>\n",
    "    15 - Medical/Dental, <br/>\n",
    "    16 - Motorcycle, <br/>\n",
    "    17 - RV, <br/>\n",
    "    18 - Taxes, <br/>\n",
    "    19 - Vacation, <br/>\n",
    "    20 - Wedding Loans <br/>\n"
   ]
  },
  {
   "cell_type": "code",
   "execution_count": 194,
   "metadata": {},
   "outputs": [
    {
     "data": {
      "image/png": "[encoded data removed]",
      "text/plain": [
       "<Figure size 360x360 with 1 Axes>"
      ]
     },
     "metadata": {},
     "output_type": "display_data"
    }
   ],
   "source": [
    "# plot the distribution of LoanAmounts\n",
    "base_color = sb.color_palette()[2]\n",
    "sb.displot(data = loanDF, x = 'LoanOriginalAmount', color = base_color);"
   ]
  },
  {
   "cell_type": "markdown",
   "metadata": {},
   "source": [
    "1. Significant number of loans are multiples of 5000\n",
    "2. Majority of loans are $15k and less "
   ]
  },
  {
   "cell_type": "markdown",
   "metadata": {},
   "source": [
    "> Make sure that, after every plot or related series of plots, that you\n",
    "include a Markdown cell with comments about what you observed, and what\n",
    "you plan on investigating next."
   ]
  },
  {
   "cell_type": "code",
   "execution_count": null,
   "metadata": {},
   "outputs": [],
   "source": []
  },
  {
   "cell_type": "markdown",
   "metadata": {},
   "source": [
    "### Discuss the distribution(s) of your variable(s) of interest. Were there any unusual points? Did you need to perform any transformations?\n",
    "\n",
    "> Your answer here!\n",
    "\n",
    "### Of the features you investigated, were there any unusual distributions? Did you perform any operations on the data to tidy, adjust, or change the form of the data? If so, why did you do this?\n",
    "\n",
    "> Your answer here!"
   ]
  },
  {
   "cell_type": "markdown",
   "metadata": {},
   "source": [
    "## Bivariate Exploration\n",
    "\n",
    "> In this section, investigate relationships between pairs of variables in your\n",
    "data. Make sure the variables that you cover here have been introduced in some\n",
    "fashion in the previous section (univariate exploration)."
   ]
  },
  {
   "cell_type": "code",
   "execution_count": 195,
   "metadata": {
    "scrolled": true
   },
   "outputs": [
    {
     "data": {
      "text/plain": [
       "ListingCategory (numeric)\n",
       "0   3889.2291666666665\n",
       "1    3553.309523809524\n",
       "2   3130.8571428571427\n",
       "3    8671.377358490567\n",
       "4    2843.978723404255\n",
       "5    4220.916666666667\n",
       "6               2300.0\n",
       "7    2988.235294117647\n",
       "Name: LoanOriginalAmount, dtype: float64"
      ]
     },
     "execution_count": 195,
     "metadata": {},
     "output_type": "execute_result"
    }
   ],
   "source": [
    "borrAPR36.groupby('ListingCategory (numeric)')['LoanOriginalAmount'].mean()"
   ]
  },
  {
   "cell_type": "code",
   "execution_count": 196,
   "metadata": {},
   "outputs": [
    {
     "data": {
      "text/plain": [
       "ListingCategory (numeric)\n",
       "0     6253.853286177424\n",
       "1      9908.35214721822\n",
       "2     8092.084757163999\n",
       "3     8926.859229378217\n",
       "4     4556.670563674322\n",
       "5     3514.568783068783\n",
       "6     5000.647356143079\n",
       "7     5911.547074518772\n",
       "8     9751.396984924622\n",
       "9     8734.117647058823\n",
       "10    5683.516483516483\n",
       "11    7636.944700460829\n",
       "12     8456.57627118644\n",
       "13    5285.486973947895\n",
       "14     8771.90296803653\n",
       "15    6524.268068331143\n",
       "16    5560.809210526316\n",
       "17   8148.7692307692305\n",
       "18    7580.425988700565\n",
       "19         5357.6953125\n",
       "20    8835.726329442283\n",
       "Name: LoanOriginalAmount, dtype: float64"
      ]
     },
     "execution_count": 196,
     "metadata": {},
     "output_type": "execute_result"
    }
   ],
   "source": [
    "loanDF.groupby('ListingCategory (numeric)')['LoanOriginalAmount'].mean()"
   ]
  },
  {
   "cell_type": "code",
   "execution_count": 197,
   "metadata": {},
   "outputs": [
    {
     "data": {
      "text/plain": [
       "ListingCategory (numeric)\n",
       "0               558.2\n",
       "1   632.3333333333334\n",
       "2   664.7142857142857\n",
       "3   666.5471698113207\n",
       "4   590.9148936170212\n",
       "5               649.0\n",
       "6               647.0\n",
       "7   649.8823529411765\n",
       "Name: CreditScoreRangeUpper, dtype: float64"
      ]
     },
     "execution_count": 197,
     "metadata": {},
     "output_type": "execute_result"
    }
   ],
   "source": [
    "borrAPR36.groupby('ListingCategory (numeric)')['CreditScoreRangeUpper'].mean()"
   ]
  },
  {
   "cell_type": "code",
   "execution_count": null,
   "metadata": {},
   "outputs": [],
   "source": []
  },
  {
   "cell_type": "markdown",
   "metadata": {},
   "source": [
    "### Talk about some of the relationships you observed in this part of the investigation. How did the feature(s) of interest vary with other features in the dataset?\n",
    "\n",
    "> Your answer here!\n",
    "\n",
    "### Did you observe any interesting relationships between the other features (not the main feature(s) of interest)?\n",
    "\n",
    "> Your answer here!"
   ]
  },
  {
   "cell_type": "markdown",
   "metadata": {},
   "source": [
    "## Multivariate Exploration\n",
    "\n",
    "> Create plots of three or more variables to investigate your data even\n",
    "further. Make sure that your investigations are justified, and follow from\n",
    "your work in the previous sections."
   ]
  },
  {
   "cell_type": "code",
   "execution_count": null,
   "metadata": {},
   "outputs": [],
   "source": []
  },
  {
   "cell_type": "markdown",
   "metadata": {},
   "source": [
    "### Talk about some of the relationships you observed in this part of the investigation. Were there features that strengthened each other in terms of looking at your feature(s) of interest?\n",
    "\n",
    "> Your answer here!\n",
    "\n",
    "### Were there any interesting or surprising interactions between features?\n",
    "\n",
    "> Your answer here!"
   ]
  },
  {
   "cell_type": "markdown",
   "metadata": {},
   "source": [
    "> At the end of your report, make sure that you export the notebook as an\n",
    "html file from the `File > Download as... > HTML` menu. Make sure you keep\n",
    "track of where the exported file goes, so you can put it in the same folder\n",
    "as this notebook for project submission. Also, make sure you remove all of\n",
    "the quote-formatted guide notes like this one before you finish your report!"
   ]
  },
  {
   "cell_type": "code",
   "execution_count": null,
   "metadata": {},
   "outputs": [],
   "source": []
  },
  {
   "cell_type": "code",
   "execution_count": null,
   "metadata": {},
   "outputs": [],
   "source": []
  },
  {
   "cell_type": "code",
   "execution_count": 198,
   "metadata": {
    "tags": [
     "hidden",
     "hide_input"
    ]
   },
   "outputs": [
    {
     "name": "stdout",
     "output_type": "stream",
     "text": [
      "123\n"
     ]
    }
   ],
   "source": [
    "test = 123\n",
    "print(test)"
   ]
  },
  {
   "cell_type": "code",
   "execution_count": null,
   "metadata": {},
   "outputs": [],
   "source": []
  }
 ],
 "metadata": {
  "kernelspec": {
   "display_name": "Python 3 (ipykernel)",
   "language": "python",
   "name": "python3"
  },
  "language_info": {
   "codemirror_mode": {
    "name": "ipython",
    "version": 3
   },
   "file_extension": ".py",
   "mimetype": "text/x-python",
   "name": "python",
   "nbconvert_exporter": "python",
   "pygments_lexer": "ipython3",
   "version": "3.8.11"
  }
 },
 "nbformat": 4,
 "nbformat_minor": 4
}
